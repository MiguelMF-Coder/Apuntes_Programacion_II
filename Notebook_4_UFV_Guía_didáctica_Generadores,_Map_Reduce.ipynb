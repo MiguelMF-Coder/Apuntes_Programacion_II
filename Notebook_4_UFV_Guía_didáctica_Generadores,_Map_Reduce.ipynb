{
  "nbformat": 4,
  "nbformat_minor": 0,
  "metadata": {
    "colab": {
      "provenance": []
    },
    "kernelspec": {
      "name": "python3",
      "display_name": "Python 3"
    },
    "language_info": {
      "name": "python"
    }
  },
  "cells": [
    {
      "cell_type": "code",
      "execution_count": 1,
      "metadata": {
        "colab": {
          "base_uri": "https://localhost:8080/"
        },
        "id": "HzAqzaju-cal",
        "outputId": "c115e4d9-7694-4995-916f-ae2a8d657490"
      },
      "outputs": [
        {
          "output_type": "stream",
          "name": "stdout",
          "text": [
            "sample_data\n"
          ]
        }
      ],
      "source": [
        "!ls"
      ]
    },
    {
      "cell_type": "markdown",
      "source": [
        "\n",
        "# Recorridos sobre colecciones\n",
        "\n",
        "Cuando se manejan colecciones en Python, es común necesitar realizar recorridos sobre ellas. Para ello, en python se dispone de iteradores y generadores. A alto nivel, se puede pensar en un iterador / generador (en este punto, no vamos a distinguirlos) como en un mecanismo que permite consumir o procesar elementos de forma secuencial. Un iterador proporcionará cada elemento de una colección manteniendo el estado del proceso de recorrido. Un generador funciona de forma similar a un iterador.\n",
        "\n",
        "Este mecanismo es la base de dos conceptos que se verán también en este módulo, como mapping y reduce. Mapping aplica una función a cada elemento de una colección, mientras que reduce realiza algún tipo de agregación sobre los elementos.\n",
        "\n",
        "## Obtener un iterador a partir de una colección\n",
        "\n",
        "Un iterador es, en esencia, un objeto que puede ser recorrido. En el código que se presenta abajo, la función **```next```** devuelve el siguiente elemento del iterador. El iterador guarda el estado del recorrido tras cada llamada. Finalmente, cuando el recorrido se ha terminado, se lanza la excepción `StopIteration` que finaliza el proceso.\n",
        "\n"
      ],
      "metadata": {
        "id": "NqaVmRi6_ZUQ"
      }
    },
    {
      "cell_type": "code",
      "source": [
        "iterador = iter([1,2,3,4,5,6])\n",
        "while True:\n",
        "  try:\n",
        "    elemento = next(iterador)\n",
        "    print (f'El elemento de la lista es {elemento}')\n",
        "  except StopIteration:\n",
        "    print ('Recorrido')\n",
        "    break"
      ],
      "metadata": {
        "id": "XAO-Mv6F-o_3",
        "colab": {
          "base_uri": "https://localhost:8080/"
        },
        "outputId": "57df0179-89dc-486f-8440-231ea43764ce"
      },
      "execution_count": 2,
      "outputs": [
        {
          "output_type": "stream",
          "name": "stdout",
          "text": [
            "El elemento de la lista es 1\n",
            "El elemento de la lista es 2\n",
            "El elemento de la lista es 3\n",
            "El elemento de la lista es 4\n",
            "El elemento de la lista es 5\n",
            "El elemento de la lista es 6\n",
            "Recorrido\n"
          ]
        }
      ]
    },
    {
      "cell_type": "code",
      "source": [
        "type(iterador)"
      ],
      "metadata": {
        "colab": {
          "base_uri": "https://localhost:8080/"
        },
        "id": "7iX21WRveE0d",
        "outputId": "d55e6a4b-22b6-47fe-8178-fe3ff4320ab6"
      },
      "execution_count": 3,
      "outputs": [
        {
          "output_type": "execute_result",
          "data": {
            "text/plain": [
              "list_iterator"
            ]
          },
          "metadata": {},
          "execution_count": 3
        }
      ]
    },
    {
      "cell_type": "markdown",
      "source": [
        "## Iteradores en colecciones\n",
        "\n",
        "Al aplicar la función iter sobre una colección en Python, se produce un iterador diferente para cada iterador. Por ejemplo:"
      ],
      "metadata": {
        "id": "eZgon9eQgE6k"
      }
    },
    {
      "cell_type": "code",
      "source": [
        "type(iterador)"
      ],
      "metadata": {
        "id": "do4swL83OtLu",
        "colab": {
          "base_uri": "https://localhost:8080/"
        },
        "outputId": "297eeb89-6621-4159-8727-c1acb8f468c4"
      },
      "execution_count": null,
      "outputs": [
        {
          "output_type": "execute_result",
          "data": {
            "text/plain": [
              "list_iterator"
            ]
          },
          "metadata": {},
          "execution_count": 3
        }
      ]
    },
    {
      "cell_type": "markdown",
      "source": [
        "`list_iterator` produce un iterador que recorre cada elemento de la lista"
      ],
      "metadata": {
        "id": "s1JNpanbgYWX"
      }
    },
    {
      "cell_type": "code",
      "source": [
        "dictionary = {1:'juan','2':'pepe'}\n",
        "iterdict = iter(dictionary)\n",
        "type(iterdict)"
      ],
      "metadata": {
        "id": "wi_u6IAXJw9V",
        "colab": {
          "base_uri": "https://localhost:8080/"
        },
        "outputId": "f416b3c6-fae7-4a62-a07f-6844a6eddea7"
      },
      "execution_count": null,
      "outputs": [
        {
          "output_type": "execute_result",
          "data": {
            "text/plain": [
              "dict_keyiterator"
            ]
          },
          "metadata": {},
          "execution_count": 4
        }
      ]
    },
    {
      "cell_type": "markdown",
      "source": [
        "Sin embargo, un iterador sobre un diccionario recorrerá las claves de este diccionario:"
      ],
      "metadata": {
        "id": "IHeIs4o3gxFd"
      }
    },
    {
      "cell_type": "code",
      "source": [
        "while True:\n",
        "  try:\n",
        "    elemento = next(iterdict)\n",
        "    print (f'El elemento del iterador -clave- es {elemento}')\n",
        "    print (f'El valor de ese elemento es {dictionary.get(elemento)}')\n",
        "  except StopIteration:\n",
        "    print ('Recorrido')\n",
        "    break"
      ],
      "metadata": {
        "colab": {
          "base_uri": "https://localhost:8080/"
        },
        "id": "k3uUgKKFglKy",
        "outputId": "16bc3270-1640-4b85-bf4b-255ee93e7dea"
      },
      "execution_count": null,
      "outputs": [
        {
          "output_type": "stream",
          "name": "stdout",
          "text": [
            "El elemento del iterador -clave- es 1\n",
            "El valor de ese elemento es juan\n",
            "El elemento del iterador -clave- es 2\n",
            "El valor de ese elemento es pepe\n",
            "Recorrido\n"
          ]
        }
      ]
    },
    {
      "cell_type": "markdown",
      "source": [
        "## Implementación de un iterador\n",
        "\n",
        "Como acabamos de explicar, un iterador recorre una colección. Por tanto, gestiona:\n",
        "\n",
        "1. Un estado\n",
        "2. Un método ```__next__``` que va a devolver el siguiente elemento y que de forma interna actualizará el estado en el que se encuentra el iterador. Cuando termine, será el encargado de lanzar la excepción ```StopIteration```\n",
        "3. Un método, ```__iter__``` que definirá la clase como un iterador. Por lo general la implementación devuelve ```self```asumiendo que la clase puede definirse como un iterador.\n",
        "\n",
        "Vamos a implementar un ejemplo:"
      ],
      "metadata": {
        "id": "1MpNnTJmLLJG"
      }
    },
    {
      "cell_type": "code",
      "source": [
        "class Iterador:\n",
        "  \"\"\"\n",
        "  Esta clase recorrerá los elementos de forma secuencial hasta un límite\n",
        "  \"\"\"\n",
        "  def __init__(self, limite ):\n",
        "    self._limite = limite\n",
        "    self._actual = 0\n",
        "    self._siguiente = 1\n",
        "\n",
        "  def __iter__(self):\n",
        "    return (self)\n",
        "\n",
        "  def __next__(self):\n",
        "    if self._actual>self._limite:\n",
        "      raise StopIteration\n",
        "    else:\n",
        "      self._actual = self._actual + 1\n",
        "      return self._actual"
      ],
      "metadata": {
        "id": "soTjQTWRP9QN"
      },
      "execution_count": null,
      "outputs": []
    },
    {
      "cell_type": "code",
      "source": [
        "nuevo = Iterador(9)\n",
        "while True:\n",
        "  try:\n",
        "    elemento = next(nuevo)\n",
        "    print (f'El elemento del iterador  es {elemento}')\n",
        "  except StopIteration:\n",
        "    print ('Recorrido')\n",
        "    break"
      ],
      "metadata": {
        "id": "OxTtAtXRQWNF"
      },
      "execution_count": null,
      "outputs": []
    },
    {
      "cell_type": "code",
      "source": [
        "class AnilloIterador:\n",
        "  \"\"\"\n",
        "  Esta clase recorrerá los elementos en un anillo hasta límite\n",
        "  \"\"\"\n",
        "  pass"
      ],
      "metadata": {
        "id": "c13kpDJZLv1F"
      },
      "execution_count": null,
      "outputs": []
    },
    {
      "cell_type": "code",
      "source": [
        "iterador = AnilloIterador()\n"
      ],
      "metadata": {
        "colab": {
          "base_uri": "https://localhost:8080/"
        },
        "id": "9IsIBy-YNBJb",
        "outputId": "0233de4f-4d3b-49f3-dac4-cfd65939fbef"
      },
      "execution_count": null,
      "outputs": [
        {
          "output_type": "execute_result",
          "data": {
            "text/plain": [
              "1"
            ]
          },
          "metadata": {},
          "execution_count": 7
        }
      ]
    },
    {
      "cell_type": "code",
      "source": [],
      "metadata": {
        "id": "8q4PaeejNjXC"
      },
      "execution_count": null,
      "outputs": []
    },
    {
      "cell_type": "code",
      "source": [
        "## Modifica el código anterior para que cuando se llegue al límite, se vuelva al estado inicial\n",
        "\n",
        "class AnilloIteradorSalto:\n",
        "  \"\"\"\n",
        "  Esta clase recorrerá los elementos con saltos alternativos de 1 y 3 elementos, hasta un límite, momento en el que se volverá a iniciar,\n",
        "  siempre que se completen nciclos\n",
        "  hasta un límite\n",
        "  \"\"\"pass"
      ],
      "metadata": {
        "id": "FIWone8MWn_A"
      },
      "execution_count": null,
      "outputs": []
    },
    {
      "cell_type": "code",
      "source": [],
      "metadata": {
        "id": "Z1SnN6IngrIb"
      },
      "execution_count": null,
      "outputs": []
    },
    {
      "cell_type": "markdown",
      "source": [],
      "metadata": {
        "id": "Y1ckNPaPWmhd"
      }
    },
    {
      "cell_type": "markdown",
      "source": [
        "## itertools\n",
        "Contiene una colección de funciones que permite gestionar iteradores y generadores de manera potente y eficiente.\n",
        "\n",
        "En esta guía únicamente vamos a analizar las primitivas principales, pero recomiendo revisar la [documentación oficial](https://docs.python.org/3/library/itertools.html)"
      ],
      "metadata": {
        "id": "rFIlYVoxOPXb"
      }
    },
    {
      "cell_type": "code",
      "source": [
        "from itertools import *"
      ],
      "metadata": {
        "id": "bibaU4DGONzK"
      },
      "execution_count": null,
      "outputs": []
    },
    {
      "cell_type": "markdown",
      "source": [
        "### chain\n",
        "\n",
        "Combina varios iterables en uno de forma que se puedan recorrer como una unidad"
      ],
      "metadata": {
        "id": "vnisSOSowCcW"
      }
    },
    {
      "cell_type": "code",
      "source": [
        "seq = chain( [1,2,3], [11 ,12 ,13 ,14] , [x * x for x in range(1 ,6)] )\n",
        "for item in seq:\n",
        "  print( item , end=\" -- \")"
      ],
      "metadata": {
        "colab": {
          "base_uri": "https://localhost:8080/"
        },
        "id": "OhgRqyJ2wG4N",
        "outputId": "6ed4601f-194c-46f1-8464-d6bb15e03534"
      },
      "execution_count": null,
      "outputs": [
        {
          "output_type": "stream",
          "name": "stdout",
          "text": [
            "1 -- 2 -- 3 -- 11 -- 12 -- 13 -- 14 -- 1 -- 4 -- 9 -- 16 -- 25 -- "
          ]
        }
      ]
    },
    {
      "cell_type": "markdown",
      "source": [
        "### zip y zip_longest\n",
        "\n",
        "`zip` Devuelve un iterador de tuplas, donde la i-ésima tupla contiene el i-ésimo elemento de cada una de las secuencias de argumentos o iterables. El iterador se detiene cuando se agota el iterable de entrada más corto. Sin embargo `zip_longest` permite no agotar la generación de tuplas al especificar un valor de relleno"
      ],
      "metadata": {
        "id": "mUEvauNmwVoe"
      }
    },
    {
      "cell_type": "code",
      "source": [
        "seq = zip( ['A','B'],['C','D','E'],['X','Y','Z'])\n",
        "for item in seq:\n",
        "  print( item )"
      ],
      "metadata": {
        "colab": {
          "base_uri": "https://localhost:8080/"
        },
        "id": "CRLDlLwNxAO0",
        "outputId": "16772b46-da05-478f-cac6-630079279d82"
      },
      "execution_count": null,
      "outputs": [
        {
          "output_type": "stream",
          "name": "stdout",
          "text": [
            "('A', 'C', 'X')\n",
            "('B', 'D', 'Y')\n"
          ]
        }
      ]
    },
    {
      "cell_type": "code",
      "source": [
        "seq = zip_longest( ['A','B'],['C','D','E'],['X','Y','Z'], fillvalue=\"::\")\n",
        "for item in seq:\n",
        "  print( item )"
      ],
      "metadata": {
        "colab": {
          "base_uri": "https://localhost:8080/"
        },
        "id": "k68zxtz8wVQQ",
        "outputId": "2221dd49-fab3-40dd-ee19-f60a1d9eb263"
      },
      "execution_count": null,
      "outputs": [
        {
          "output_type": "stream",
          "name": "stdout",
          "text": [
            "('A', 'C', 'X')\n",
            "('B', 'D', 'Y')\n",
            "('::', 'E', 'Z')\n"
          ]
        }
      ]
    },
    {
      "cell_type": "markdown",
      "source": [
        "### product\n",
        "Realiza el producto cartesiano de los elementos de las secuencias"
      ],
      "metadata": {
        "id": "le1CsG9Rxk1j"
      }
    },
    {
      "cell_type": "code",
      "source": [
        "seq = product( ['A','B'],['C','D','E'],['X','Y','Z'])\n",
        "for item in seq:\n",
        "  print( item )"
      ],
      "metadata": {
        "colab": {
          "base_uri": "https://localhost:8080/"
        },
        "id": "IOZMjqVHxkfb",
        "outputId": "99f4c589-0165-47e8-8a49-52c76c8e6a3f"
      },
      "execution_count": null,
      "outputs": [
        {
          "output_type": "stream",
          "name": "stdout",
          "text": [
            "('A', 'C', 'X')\n",
            "('A', 'C', 'Y')\n",
            "('A', 'C', 'Z')\n",
            "('A', 'D', 'X')\n",
            "('A', 'D', 'Y')\n",
            "('A', 'D', 'Z')\n",
            "('A', 'E', 'X')\n",
            "('A', 'E', 'Y')\n",
            "('A', 'E', 'Z')\n",
            "('B', 'C', 'X')\n",
            "('B', 'C', 'Y')\n",
            "('B', 'C', 'Z')\n",
            "('B', 'D', 'X')\n",
            "('B', 'D', 'Y')\n",
            "('B', 'D', 'Z')\n",
            "('B', 'E', 'X')\n",
            "('B', 'E', 'Y')\n",
            "('B', 'E', 'Z')\n"
          ]
        }
      ]
    },
    {
      "cell_type": "markdown",
      "source": [
        "### Permutaciones y combinaciones\n",
        "\n",
        "Funcionan igual que desde el punto de vista matemático. En el caso de las cominaciones, el parámetro longitud no es opcional."
      ],
      "metadata": {
        "id": "mzlbPp0Rz8YY"
      }
    },
    {
      "cell_type": "code",
      "source": [
        "seq = permutations( ['A','B','C'],3)\n",
        "for item in seq:\n",
        "  print( item )"
      ],
      "metadata": {
        "colab": {
          "base_uri": "https://localhost:8080/"
        },
        "id": "ER9uzxHGz8EG",
        "outputId": "17713076-20d4-4cd1-d0e4-270460553253"
      },
      "execution_count": null,
      "outputs": [
        {
          "output_type": "stream",
          "name": "stdout",
          "text": [
            "('A', 'B', 'C')\n",
            "('A', 'C', 'B')\n",
            "('B', 'A', 'C')\n",
            "('B', 'C', 'A')\n",
            "('C', 'A', 'B')\n",
            "('C', 'B', 'A')\n"
          ]
        }
      ]
    },
    {
      "cell_type": "code",
      "source": [
        "seq = combinations( ['A','B','C'],2)\n",
        "for item in seq:\n",
        "  print( item )"
      ],
      "metadata": {
        "colab": {
          "base_uri": "https://localhost:8080/"
        },
        "id": "o_KLJGwRwTUD",
        "outputId": "f50a6665-b57b-4597-f036-6fc5d1a1a068"
      },
      "execution_count": null,
      "outputs": [
        {
          "output_type": "stream",
          "name": "stdout",
          "text": [
            "('A', 'B')\n",
            "('A', 'C')\n",
            "('B', 'C')\n"
          ]
        }
      ]
    },
    {
      "cell_type": "code",
      "source": [
        "seq = combinations_with_replacement( ['A','B','C'],2)\n",
        "for item in seq:\n",
        "  print( item )"
      ],
      "metadata": {
        "id": "Jp-qr8Ed0pIf",
        "outputId": "e59ad59d-193d-41b5-a61c-c1886826a604",
        "colab": {
          "base_uri": "https://localhost:8080/"
        }
      },
      "execution_count": null,
      "outputs": [
        {
          "output_type": "stream",
          "name": "stdout",
          "text": [
            "('A', 'A')\n",
            "('A', 'B')\n",
            "('A', 'C')\n",
            "('B', 'B')\n",
            "('B', 'C')\n",
            "('C', 'C')\n"
          ]
        }
      ]
    },
    {
      "cell_type": "markdown",
      "source": [
        "### Otras funciones"
      ],
      "metadata": {
        "id": "oxFgoAU-1qyt"
      }
    },
    {
      "cell_type": "markdown",
      "source": [
        "#### cycle\n",
        "\n",
        "Genera una secuencia que se repite indefinidamente:"
      ],
      "metadata": {
        "id": "Qa5gK3OG2Ts7"
      }
    },
    {
      "cell_type": "code",
      "source": [
        "seq = cycle( ['luis','ana','pablo'])\n",
        "for i in range(10):\n",
        "\n",
        "  print(next(seq))\n"
      ],
      "metadata": {
        "colab": {
          "base_uri": "https://localhost:8080/"
        },
        "id": "dOCOlpKH1qdT",
        "outputId": "9221bd62-fcbc-45aa-f8f6-3f71f2c7a19a"
      },
      "execution_count": null,
      "outputs": [
        {
          "output_type": "stream",
          "name": "stdout",
          "text": [
            "luis\n",
            "ana\n",
            "pablo\n",
            "luis\n",
            "ana\n",
            "pablo\n",
            "luis\n",
            "ana\n",
            "pablo\n",
            "luis\n"
          ]
        }
      ]
    },
    {
      "cell_type": "markdown",
      "source": [
        "#### repeat\n",
        "Repite una secuencia de forma indefinida"
      ],
      "metadata": {
        "id": "q2jOgNVO2lSu"
      }
    },
    {
      "cell_type": "code",
      "source": [
        "seq = repeat( ['luis','ana','pablo'])\n",
        "for i in range(10):\n",
        "\n",
        "  print(next(seq))"
      ],
      "metadata": {
        "colab": {
          "base_uri": "https://localhost:8080/"
        },
        "id": "mDOLjvu42jwj",
        "outputId": "4ebcf32e-c81f-4e9c-bdce-86d9561439f2"
      },
      "execution_count": null,
      "outputs": [
        {
          "output_type": "stream",
          "name": "stdout",
          "text": [
            "['luis', 'ana', 'pablo']\n",
            "['luis', 'ana', 'pablo']\n",
            "['luis', 'ana', 'pablo']\n",
            "['luis', 'ana', 'pablo']\n",
            "['luis', 'ana', 'pablo']\n",
            "['luis', 'ana', 'pablo']\n",
            "['luis', 'ana', 'pablo']\n",
            "['luis', 'ana', 'pablo']\n",
            "['luis', 'ana', 'pablo']\n",
            "['luis', 'ana', 'pablo']\n"
          ]
        }
      ]
    },
    {
      "cell_type": "markdown",
      "source": [
        "#### count\n",
        "\n",
        "Genera una secuencia de forma indefinida especificando un punto de partida y un salto."
      ],
      "metadata": {
        "id": "fajyRTcV2tG_"
      }
    },
    {
      "cell_type": "code",
      "source": [
        "seq = count(1,3)\n",
        "for i in range(10):\n",
        "\n",
        "  print(next(seq))"
      ],
      "metadata": {
        "colab": {
          "base_uri": "https://localhost:8080/"
        },
        "id": "T6FcA1Lo2yFf",
        "outputId": "889c70cd-7f44-442c-b1f4-62f0d9d37b23"
      },
      "execution_count": null,
      "outputs": [
        {
          "output_type": "stream",
          "name": "stdout",
          "text": [
            "1\n",
            "4\n",
            "7\n",
            "10\n",
            "13\n",
            "16\n",
            "19\n",
            "22\n",
            "25\n",
            "28\n"
          ]
        }
      ]
    },
    {
      "cell_type": "markdown",
      "source": [
        "### compress\n",
        "Genera un objeto iterable de acuerdo a una máscara"
      ],
      "metadata": {
        "id": "fn5_eOmz3T0n"
      }
    },
    {
      "cell_type": "code",
      "source": [],
      "metadata": {
        "id": "n78izu4k3Tkv"
      },
      "execution_count": null,
      "outputs": []
    },
    {
      "cell_type": "code",
      "source": [
        "datos = ['A', 'b', 'c', 'd', 'E']\n",
        "mascara = [True, False, False, False, True]\n",
        "\n",
        "seq = compress(datos,mascara)\n",
        "for datos in seq:\n",
        "  print (datos)\n",
        "\n"
      ],
      "metadata": {
        "colab": {
          "base_uri": "https://localhost:8080/"
        },
        "id": "kDG0Duyk3CGF",
        "outputId": "236f7b71-43cf-4271-f181-3689337329fb"
      },
      "execution_count": null,
      "outputs": [
        {
          "output_type": "stream",
          "name": "stdout",
          "text": [
            "A\n",
            "E\n"
          ]
        }
      ]
    },
    {
      "cell_type": "code",
      "source": [
        "type (seq)"
      ],
      "metadata": {
        "colab": {
          "base_uri": "https://localhost:8080/"
        },
        "id": "I4BYNPFLR03E",
        "outputId": "68652bbd-1fca-434c-d81f-e53614b0485b"
      },
      "execution_count": null,
      "outputs": [
        {
          "output_type": "execute_result",
          "data": {
            "text/plain": [
              "itertools.compress"
            ]
          },
          "metadata": {},
          "execution_count": 19
        }
      ]
    },
    {
      "cell_type": "markdown",
      "source": [
        "## Funciones generador\n",
        "\n",
        "Una función generador es una función que devuelve un objeto de tipo `generator` que puede ser utilizado para iterar a lo largo de una secuencia de valores.\n",
        "\n",
        "Puedes pensarlo como una forma de generar iteradores de forma más sencilla.\n",
        "\n",
        "Una función generador sólo responde ante una llamada de iteración!\n",
        "\n",
        "Se define exactamente igual que una función, pero en lugar de devolver un valor mediante `return` se utiliza la palabra reservada `yield`. `yield`va a preservar el estado del generador y de las variables.\n",
        "\n",
        "Un ejemplo:"
      ],
      "metadata": {
        "id": "4jTkbIdso14P"
      }
    },
    {
      "cell_type": "code",
      "source": [
        "def recorrer_saltando(inicio,fin,salto):\n",
        "  actual = inicio\n",
        "  print (f'actual: {actual}')\n",
        "  while actual < fin:\n",
        "    yield actual\n",
        "    print('actualizo actual:')\n",
        "    actual = actual + salto\n",
        "    print (f'actual: {actual}')\n",
        "\n"
      ],
      "metadata": {
        "id": "lGKh99HUpleF"
      },
      "execution_count": null,
      "outputs": []
    },
    {
      "cell_type": "markdown",
      "source": [
        "Fijaos que tras `yield` se permite realizar la actualización posterior de actual. La presencia de `yield`en la función la convierte en un generador."
      ],
      "metadata": {
        "id": "CL_XO9w5rPqc"
      }
    },
    {
      "cell_type": "code",
      "source": [
        "for e in recorrer_saltando(0,5,2):\n",
        "  print (e)"
      ],
      "metadata": {
        "colab": {
          "base_uri": "https://localhost:8080/"
        },
        "id": "qe3ODuYwqZbk",
        "outputId": "cbcf357e-1fed-40ba-f6c8-15ad6f20dc47"
      },
      "execution_count": null,
      "outputs": [
        {
          "output_type": "stream",
          "name": "stdout",
          "text": [
            "actual: 0\n",
            "0\n",
            "actualizo actual:\n",
            "actual: 2\n",
            "2\n",
            "actualizo actual:\n",
            "actual: 4\n",
            "4\n",
            "actualizo actual:\n",
            "actual: 6\n"
          ]
        }
      ]
    },
    {
      "cell_type": "code",
      "source": [
        "for i in range (0,5,2):\n",
        "  print (i)"
      ],
      "metadata": {
        "colab": {
          "base_uri": "https://localhost:8080/"
        },
        "id": "0hXIaf7Kjqw3",
        "outputId": "e65083ab-0da1-4e83-bbea-52d7b27aa7e3"
      },
      "execution_count": null,
      "outputs": [
        {
          "output_type": "stream",
          "name": "stdout",
          "text": [
            "0\n",
            "2\n",
            "4\n"
          ]
        }
      ]
    },
    {
      "cell_type": "markdown",
      "source": [
        "**Ojo** En un bucle `for`no hemos tenido problemas con StopIteration. Al llamar sucesivamente a `next` finalmente sí hemos recibido una excepción.\n",
        "\n",
        "**Nota**: Fijaos que con un generador, los datos se generan conforme se van a consumir, siendo más eficientes en memoria."
      ],
      "metadata": {
        "id": "utQAkPIgsp33"
      }
    },
    {
      "cell_type": "code",
      "source": [
        "## Implementa un generador que replique el Iterador Anillo Ciclo\n"
      ],
      "metadata": {
        "id": "lxWABU0Fj7ua"
      },
      "execution_count": null,
      "outputs": []
    },
    {
      "cell_type": "code",
      "source": [],
      "metadata": {
        "id": "1vP-QymPPNff"
      },
      "execution_count": null,
      "outputs": []
    },
    {
      "cell_type": "markdown",
      "source": [
        "## Expresiones\n",
        "\n",
        "En Python se pueden definir expresiones que devuelven un iterador. Por ejemplo:\n"
      ],
      "metadata": {
        "id": "F4p9f7-xjsmg"
      }
    },
    {
      "cell_type": "code",
      "source": [
        "milista = [1,2,3,4,5,6,7,0,3]\n",
        "\n",
        "(elemento for elemento in milista)"
      ],
      "metadata": {
        "colab": {
          "base_uri": "https://localhost:8080/"
        },
        "id": "hGesMcQzguwT",
        "outputId": "9301e89a-3111-49bc-ddd9-096372255a94"
      },
      "execution_count": null,
      "outputs": [
        {
          "output_type": "execute_result",
          "data": {
            "text/plain": [
              "<generator object <genexpr> at 0x7fdecacf19a0>"
            ]
          },
          "metadata": {},
          "execution_count": 46
        }
      ]
    },
    {
      "cell_type": "code",
      "source": [
        "[elemento for elemento in milista]"
      ],
      "metadata": {
        "colab": {
          "base_uri": "https://localhost:8080/"
        },
        "id": "bjyuFzxWYkzh",
        "outputId": "249d4253-3eb6-4d97-9668-7b81f414ecbb"
      },
      "execution_count": null,
      "outputs": [
        {
          "output_type": "execute_result",
          "data": {
            "text/plain": [
              "[1, 2, 3, 4, 5, 6, 7, 0, 3]"
            ]
          },
          "metadata": {},
          "execution_count": 32
        }
      ]
    },
    {
      "cell_type": "code",
      "source": [
        "(elemento for elemento in milista if elemento>5)"
      ],
      "metadata": {
        "id": "lK2FF-Zlk7jE"
      },
      "execution_count": null,
      "outputs": []
    },
    {
      "cell_type": "code",
      "source": [
        "(elemento if elemento>5 else 'XX' for elemento in milista if elemento>5)"
      ],
      "metadata": {
        "colab": {
          "base_uri": "https://localhost:8080/"
        },
        "id": "taZuFELBlA6M",
        "outputId": "9920a9f5-a458-474b-d02d-ae2b6e02cacb"
      },
      "execution_count": null,
      "outputs": [
        {
          "output_type": "execute_result",
          "data": {
            "text/plain": [
              "<generator object <genexpr> at 0x7af411fccd60>"
            ]
          },
          "metadata": {},
          "execution_count": 20
        }
      ]
    },
    {
      "cell_type": "markdown",
      "source": [
        "Esta forma de definir un objeto que se puede recorrer es más eficiente que instanciar una lista o una colección en memoria, dado que la devolución del objeto se realizará en tiempo de ejecución."
      ],
      "metadata": {
        "id": "AgiPxhoTlV-h"
      }
    },
    {
      "cell_type": "code",
      "source": [
        "milista = [1,2,3,4,5,6,7,0,3]\n",
        "\n",
        "[elemento + 1 for elemento in milista]"
      ],
      "metadata": {
        "colab": {
          "base_uri": "https://localhost:8080/"
        },
        "id": "_0aqYe8Wmwil",
        "outputId": "699c8722-d26d-457c-c783-1dc7f5843f3d"
      },
      "execution_count": null,
      "outputs": [
        {
          "output_type": "execute_result",
          "data": {
            "text/plain": [
              "[2, 3, 4, 5, 6, 7, 8, 1, 4]"
            ]
          },
          "metadata": {},
          "execution_count": 49
        }
      ]
    },
    {
      "cell_type": "code",
      "source": [
        "generador = (elemento if elemento>5 else 'xx' for elemento in milista)\n",
        "for e in generador:\n",
        "  print (e)"
      ],
      "metadata": {
        "colab": {
          "base_uri": "https://localhost:8080/"
        },
        "id": "OCWQwz7plJ0-",
        "outputId": "4eaf8943-8af4-4d5f-9d69-c0de2a0a194b"
      },
      "execution_count": null,
      "outputs": [
        {
          "output_type": "stream",
          "name": "stdout",
          "text": [
            "xx\n",
            "xx\n",
            "xx\n",
            "xx\n",
            "xx\n",
            "6\n",
            "7\n",
            "xx\n",
            "xx\n"
          ]
        }
      ]
    },
    {
      "cell_type": "markdown",
      "source": [
        "## Contenido extra: clases generador: un ejemplo con yield / from\n",
        "Veamos un ejemplo con un Arbol:"
      ],
      "metadata": {
        "id": "s5XqVBjwmQJM"
      }
    },
    {
      "cell_type": "code",
      "source": [
        "class NodoArbol:\n",
        "  def __init__(self, value):\n",
        "              self._valor = value\n",
        "              self._siguientes = []\n",
        "  def __repr__(self):\n",
        "    return 'Actual({!r})'.format(self._valor)\n",
        "\n",
        "  def add_siguiente(self, node):\n",
        "    self._siguientes.append(node)\n",
        "\n",
        "  def __iter__(self):\n",
        "   return iter(self._siguientes)\n",
        "\n",
        "  def recorrer(self):\n",
        "    yield self\n",
        "    for otro in self:\n",
        "      yield from otro.recorrer()\n",
        "  # Example\n",
        "root = NodoArbol(0)\n",
        "child1 = NodoArbol(1)\n",
        "child1.add_siguiente(NodoArbol(3))\n",
        "child2 = NodoArbol(2)\n",
        "child2.add_siguiente(NodoArbol(4))\n",
        "root.add_siguiente(child1)\n",
        "root.add_siguiente(child2)\n",
        "for ch in root.recorrer():\n",
        "  print (ch)"
      ],
      "metadata": {
        "colab": {
          "base_uri": "https://localhost:8080/"
        },
        "id": "gJWSJNpKlqXj",
        "outputId": "dd901173-c3a4-46a1-c77c-604de6f625ab"
      },
      "execution_count": null,
      "outputs": [
        {
          "output_type": "stream",
          "name": "stdout",
          "text": [
            "Actual(0)\n",
            "Actual(1)\n",
            "Actual(3)\n",
            "Actual(2)\n",
            "Actual(4)\n"
          ]
        }
      ]
    },
    {
      "cell_type": "markdown",
      "source": [
        "Hemos usado `yield from`. Esta sentencia permite pasar el contexto de una iteración a otro. De esta forma, cuando el nodo ha sido visitado le pasa el testigo a su hijo para continuar el recorrido. Cuando termina, el testigo pasa al nodo siguiente del nivel del padre."
      ],
      "metadata": {
        "id": "N-xTyEezveXi"
      }
    },
    {
      "cell_type": "markdown",
      "source": [
        "## Ventajas y desventajas del uso de generadores frente a otras estructuras:\n",
        "\n",
        "1. En aplicaciones en las que la memoria es un problema a optimizar, el uso de generadores te permite no tener toda la estructura de datos en memoria.\n",
        "2. Por el contrario, no existe tanta flexibilidad a la hora de manejar los datos: no existen operaciones específicas como append o remove, o si queremos acceder de nuevo a un dato hay que volver a generarlo."
      ],
      "metadata": {
        "id": "7wCD2ONEtj0n"
      }
    },
    {
      "cell_type": "markdown",
      "source": [
        "# Introducción a la programación funcional\n"
      ],
      "metadata": {
        "id": "mc01O83Ov7Dy"
      }
    },
    {
      "cell_type": "markdown",
      "source": [
        "La idea de que existe tras la programación funcional es aplicar pequeñas expresiones en forma de funciones para realizar **transformaciones sobre los datos**. La programación funcional está presente en `frameworks` de procesamiento big data como `Hadoop o Spark`.\n",
        "\n",
        "Si bien la combinación de funciones da lugar a un código más compacto y expresivo, pasar de un paradigma basado en objetos a la programación funcional no es siempre fácil.\n",
        "\n"
      ],
      "metadata": {
        "id": "OVlvSJqO0UMc"
      }
    },
    {
      "cell_type": "markdown",
      "source": [
        "### Lambda functions"
      ],
      "metadata": {
        "id": "xs2ndiOhPTNZ"
      }
    },
    {
      "cell_type": "markdown",
      "source": [
        "Antes de empezar con los patrones u operaciones básicos con los que nos vamos a encontrar, conviene detenernos en las expresiones `lambda`.\n",
        "\n",
        "Una expresión `lambda` es una forma de definir funciones de forma anónima y compacta en una única expresión.\n",
        "\n",
        "La estructura que tienen es `lambda entradas: operacion que devuelve resultado`"
      ],
      "metadata": {
        "id": "FZL51sdjfpUG"
      }
    },
    {
      "cell_type": "code",
      "source": [
        "lambda x: x + 2"
      ],
      "metadata": {
        "colab": {
          "base_uri": "https://localhost:8080/"
        },
        "id": "BuH_FNMIfo7Q",
        "outputId": "a5a45e6e-bcfb-45fd-da06-021e83b5391c"
      },
      "execution_count": null,
      "outputs": [
        {
          "output_type": "execute_result",
          "data": {
            "text/plain": [
              "<function __main__.<lambda>(x)>"
            ]
          },
          "metadata": {},
          "execution_count": 23
        }
      ]
    },
    {
      "cell_type": "markdown",
      "source": [
        "es equivalente a:"
      ],
      "metadata": {
        "id": "HotqWl56lYL-"
      }
    },
    {
      "cell_type": "code",
      "source": [
        "def mifuncionlambda(x):\n",
        "  return x + 2\n",
        "\n",
        "mifuncionlambda"
      ],
      "metadata": {
        "colab": {
          "base_uri": "https://localhost:8080/",
          "height": 121
        },
        "id": "AGnFy8dPlacd",
        "outputId": "911c5dc0-b909-4797-b84e-e85522fc5621"
      },
      "execution_count": null,
      "outputs": [
        {
          "output_type": "execute_result",
          "data": {
            "text/plain": [
              "<function __main__.mifuncionlambda(x)>"
            ],
            "text/html": [
              "<div style=\"max-width:800px; border: 1px solid var(--colab-border-color);\"><style>\n",
              "      pre.function-repr-contents {\n",
              "        overflow-x: auto;\n",
              "        padding: 8px 12px;\n",
              "        max-height: 500px;\n",
              "      }\n",
              "\n",
              "      pre.function-repr-contents.function-repr-contents-collapsed {\n",
              "        cursor: pointer;\n",
              "        max-height: 100px;\n",
              "      }\n",
              "    </style>\n",
              "    <pre style=\"white-space: initial; background:\n",
              "         var(--colab-secondary-surface-color); padding: 8px 12px;\n",
              "         border-bottom: 1px solid var(--colab-border-color);\"><b>mifuncionlambda</b><br/>def mifuncionlambda(x)</pre><pre class=\"function-repr-contents function-repr-contents-collapsed\" style=\"\"><a class=\"filepath\" style=\"display:none\" href=\"#\">/content/&lt;ipython-input-24-eb5ff075ff5e&gt;</a>&lt;no docstring&gt;</pre></div>"
            ]
          },
          "metadata": {},
          "execution_count": 24
        }
      ]
    },
    {
      "cell_type": "markdown",
      "source": [
        "Una función lambda puede recibir argumentos. Por ejemplo:"
      ],
      "metadata": {
        "id": "gcS2QKSZlD6f"
      }
    },
    {
      "cell_type": "code",
      "source": [
        "(lambda x: x + 2)(10)"
      ],
      "metadata": {
        "colab": {
          "base_uri": "https://localhost:8080/"
        },
        "id": "audfX3xalDT9",
        "outputId": "ebf81728-0aa0-4f59-a994-e059d0c1c691"
      },
      "execution_count": null,
      "outputs": [
        {
          "output_type": "execute_result",
          "data": {
            "text/plain": [
              "12"
            ]
          },
          "metadata": {},
          "execution_count": 25
        }
      ]
    },
    {
      "cell_type": "code",
      "source": [
        "(lambda x, y, z: x + y + z)(1, 2, 3)"
      ],
      "metadata": {
        "colab": {
          "base_uri": "https://localhost:8080/"
        },
        "id": "as9cqko0lW38",
        "outputId": "5e776b39-a528-47e8-d35c-a9814c3d3e8b"
      },
      "execution_count": null,
      "outputs": [
        {
          "output_type": "execute_result",
          "data": {
            "text/plain": [
              "6"
            ]
          },
          "metadata": {},
          "execution_count": 26
        }
      ]
    },
    {
      "cell_type": "code",
      "source": [
        "(lambda x, y: y)(9,10)\n"
      ],
      "metadata": {
        "colab": {
          "base_uri": "https://localhost:8080/"
        },
        "id": "6dEuPkopRgo5",
        "outputId": "4d7011b7-1099-41a7-87d1-0d4cb8bcb192"
      },
      "execution_count": null,
      "outputs": [
        {
          "output_type": "execute_result",
          "data": {
            "text/plain": [
              "10"
            ]
          },
          "metadata": {},
          "execution_count": 27
        }
      ]
    },
    {
      "cell_type": "code",
      "source": [],
      "metadata": {
        "id": "Vn9pWMvLRls3"
      },
      "execution_count": null,
      "outputs": []
    },
    {
      "cell_type": "markdown",
      "source": [
        "Como es una función, podemos también hacer cosas como:"
      ],
      "metadata": {
        "id": "ApBX72mamPXP"
      }
    },
    {
      "cell_type": "markdown",
      "source": [
        "#### Aspectos avanzados"
      ],
      "metadata": {
        "id": "bbLZvV4QQKki"
      }
    },
    {
      "cell_type": "markdown",
      "source": [
        "1.  **Usar `args` o `kwargs`**"
      ],
      "metadata": {
        "id": "vOmJ8Ssgl1ZM"
      }
    },
    {
      "cell_type": "code",
      "source": [
        "(lambda *args: sum(args))(3,4)"
      ],
      "metadata": {
        "colab": {
          "base_uri": "https://localhost:8080/"
        },
        "id": "7yFMnOwNl0wT",
        "outputId": "3e3c21b2-e973-4b0f-fa20-06f9ad3d8b77"
      },
      "execution_count": null,
      "outputs": [
        {
          "output_type": "execute_result",
          "data": {
            "text/plain": [
              "7"
            ]
          },
          "metadata": {},
          "execution_count": 28
        }
      ]
    },
    {
      "cell_type": "markdown",
      "source": [
        "**2. HOF con funciones lambda**\n"
      ],
      "metadata": {
        "id": "aVsAL1v_QIVT"
      }
    },
    {
      "cell_type": "code",
      "source": [
        "def componer_funcion(f):\n",
        "    return lambda x: f(x + 1)\n",
        "\n",
        "funcion = componer_funcion(lambda x: x*2)\n",
        "funcion(4)"
      ],
      "metadata": {
        "colab": {
          "base_uri": "https://localhost:8080/"
        },
        "id": "RBEQRBg3QH7A",
        "outputId": "306afc67-21c0-4f78-f600-7720235dd521"
      },
      "execution_count": null,
      "outputs": [
        {
          "output_type": "execute_result",
          "data": {
            "text/plain": [
              "10"
            ]
          },
          "metadata": {},
          "execution_count": 29
        }
      ]
    },
    {
      "cell_type": "markdown",
      "source": [
        "**3. componer funciones lambda**"
      ],
      "metadata": {
        "id": "5BdDaxVOSDrU"
      }
    },
    {
      "cell_type": "code",
      "source": [
        "(lambda x: lambda y: x(y))(lambda x: x + 1)(3)"
      ],
      "metadata": {
        "colab": {
          "base_uri": "https://localhost:8080/"
        },
        "id": "_hgg1wvgSDFC",
        "outputId": "b6657ff2-b4c8-4e71-cb15-5901998f57c7"
      },
      "execution_count": null,
      "outputs": [
        {
          "output_type": "execute_result",
          "data": {
            "text/plain": [
              "4"
            ]
          },
          "metadata": {},
          "execution_count": 30
        }
      ]
    },
    {
      "cell_type": "code",
      "source": [],
      "metadata": {
        "id": "NV_Td9X6RWWz"
      },
      "execution_count": null,
      "outputs": []
    },
    {
      "cell_type": "markdown",
      "source": [
        "### Algun ejemplo adicional\n"
      ],
      "metadata": {
        "id": "2CeGsBvHyc1q"
      }
    },
    {
      "cell_type": "code",
      "source": [
        "(lambda x : x>=1)(2)"
      ],
      "metadata": {
        "colab": {
          "base_uri": "https://localhost:8080/"
        },
        "id": "JasmHubhygK7",
        "outputId": "dc2852ee-a89c-4c07-d95b-a10e68b991f9"
      },
      "execution_count": null,
      "outputs": [
        {
          "output_type": "execute_result",
          "data": {
            "text/plain": [
              "True"
            ]
          },
          "metadata": {},
          "execution_count": 31
        }
      ]
    },
    {
      "cell_type": "code",
      "source": [
        "(lambda x, y, z: x + y - z)(2,4,5)"
      ],
      "metadata": {
        "colab": {
          "base_uri": "https://localhost:8080/"
        },
        "id": "SI7RXj5UyrYY",
        "outputId": "aca04a08-0f7b-49d8-ae03-f757c5471e4e"
      },
      "execution_count": null,
      "outputs": [
        {
          "output_type": "execute_result",
          "data": {
            "text/plain": [
              "1"
            ]
          },
          "metadata": {},
          "execution_count": 32
        }
      ]
    },
    {
      "cell_type": "code",
      "source": [
        "(lambda x, y : x + y)(8,7)"
      ],
      "metadata": {
        "colab": {
          "base_uri": "https://localhost:8080/"
        },
        "id": "2d4n_NL5y08z",
        "outputId": "848784d3-31ab-46e7-d068-103c90900ebe"
      },
      "execution_count": null,
      "outputs": [
        {
          "output_type": "execute_result",
          "data": {
            "text/plain": [
              "15"
            ]
          },
          "metadata": {},
          "execution_count": 33
        }
      ]
    },
    {
      "cell_type": "markdown",
      "source": [
        "\n",
        "\n",
        "\n",
        "Existen tres patrones operaciones básicas, map, reduce, filter. Vamos a verlas:\n",
        "\n",
        "### Map:\n",
        "Aplica una función F a cada elemento x de una colección C:\n",
        "\n",
        "$ \\left\\{ F(x): x \\epsilon C\\right\\}$"
      ],
      "metadata": {
        "id": "UhBFtu6-fjTo"
      }
    },
    {
      "cell_type": "code",
      "source": [
        "\n",
        "def mas2(x):\n",
        "  return x + 2\n",
        "\n",
        "def menos2 (x):\n",
        "  return x - 2\n"
      ],
      "metadata": {
        "id": "-NzBXkMilxly"
      },
      "execution_count": null,
      "outputs": []
    },
    {
      "cell_type": "code",
      "source": [
        "\n",
        "e = [1,3,4,9,21,231]\n",
        "value = list(map(mas2,e))\n",
        "print (value)"
      ],
      "metadata": {
        "colab": {
          "base_uri": "https://localhost:8080/"
        },
        "id": "XW1kvrjoJpc2",
        "outputId": "cdb83dfb-fc2a-420b-e4d0-00a416fad6a8"
      },
      "execution_count": null,
      "outputs": [
        {
          "output_type": "stream",
          "name": "stdout",
          "text": [
            "[3, 5, 6, 11, 23, 233]\n"
          ]
        }
      ]
    },
    {
      "cell_type": "code",
      "source": [
        "## haced un mas dos con una función lambda"
      ],
      "metadata": {
        "id": "kCHM0V7yl40A"
      },
      "execution_count": null,
      "outputs": []
    },
    {
      "cell_type": "code",
      "source": [
        "\n",
        "lista = [1,3,4,9,21,231]\n",
        "value = list(map(lambda x : x + 2,lista))\n",
        "print (value)"
      ],
      "metadata": {
        "id": "MkCBzsLAl-R7",
        "colab": {
          "base_uri": "https://localhost:8080/"
        },
        "outputId": "04bafde1-a43b-45b9-efbb-18b1fe2014f3"
      },
      "execution_count": null,
      "outputs": [
        {
          "output_type": "stream",
          "name": "stdout",
          "text": [
            "[3, 5, 6, 11, 23, 233]\n"
          ]
        }
      ]
    },
    {
      "cell_type": "markdown",
      "source": [
        "### Filter:\n",
        "\n",
        "Selecciona elementos de una colección de acuerdo a la condición especificada por una función:\n",
        "\n",
        "$\\left\\{x \\epsilon C\\text{ if F(x)==True}\\right\\}$"
      ],
      "metadata": {
        "id": "bvZmJpFI7dTh"
      }
    },
    {
      "cell_type": "markdown",
      "source": [],
      "metadata": {
        "id": "xKxQYPI57odC"
      }
    },
    {
      "cell_type": "code",
      "source": [
        "#Devuelve una lista de elementos pra los cuales una función devuelve True\n",
        "\n",
        "list(filter(lambda x : (x-1>2),[1,2,3,4,5]))"
      ],
      "metadata": {
        "colab": {
          "base_uri": "https://localhost:8080/"
        },
        "id": "64EK9ftkyAKh",
        "outputId": "96b3f5e4-c1a9-45a5-c502-fa2e2a40687b"
      },
      "execution_count": null,
      "outputs": [
        {
          "output_type": "execute_result",
          "data": {
            "text/plain": [
              "[4, 5]"
            ]
          },
          "metadata": {},
          "execution_count": 37
        }
      ]
    },
    {
      "cell_type": "code",
      "source": [
        "### Haced lo mismo con una función"
      ],
      "metadata": {
        "id": "EzKtz0xHxAOA"
      },
      "execution_count": null,
      "outputs": []
    },
    {
      "cell_type": "code",
      "source": [
        "def mifiltro(x):\n",
        "  return (x-1)>2\n",
        "\n",
        "list(filter(mifiltro,[1,2,3,4,5]))"
      ],
      "metadata": {
        "id": "MMg3-nVMmqLD",
        "colab": {
          "base_uri": "https://localhost:8080/"
        },
        "outputId": "b7995050-b092-4a73-c4db-d80014e15bf4"
      },
      "execution_count": null,
      "outputs": [
        {
          "output_type": "execute_result",
          "data": {
            "text/plain": [
              "[4, 5]"
            ]
          },
          "metadata": {},
          "execution_count": 39
        }
      ]
    },
    {
      "cell_type": "markdown",
      "source": [
        "### Reduce\n",
        "\n",
        "Sirve para realizar agregaciones sobre los elementos de una lista, de dos en dos."
      ],
      "metadata": {
        "id": "cbrLe6ElxBbY"
      }
    },
    {
      "cell_type": "code",
      "source": [
        "from functools import reduce\n",
        "\n",
        "maximo = reduce((lambda x, y: max(x,y)), [1, 2, 3, 4])\n"
      ],
      "metadata": {
        "id": "iHmzFvO_yOOB"
      },
      "execution_count": null,
      "outputs": []
    },
    {
      "cell_type": "code",
      "source": [
        "maximo"
      ],
      "metadata": {
        "id": "7yvcW-ACKKA6",
        "colab": {
          "base_uri": "https://localhost:8080/"
        },
        "outputId": "6aa0f68d-09ba-4438-e285-fc1f7c82c1ab"
      },
      "execution_count": null,
      "outputs": [
        {
          "output_type": "execute_result",
          "data": {
            "text/plain": [
              "4"
            ]
          },
          "metadata": {},
          "execution_count": 41
        }
      ]
    },
    {
      "cell_type": "markdown",
      "source": [],
      "metadata": {
        "id": "7xVofYqTiK2b"
      }
    },
    {
      "cell_type": "code",
      "source": [],
      "metadata": {
        "id": "Q5VwcuJB0Dhp"
      },
      "execution_count": null,
      "outputs": []
    },
    {
      "cell_type": "markdown",
      "source": [
        "### Ejemplos:\n",
        "\n"
      ],
      "metadata": {
        "id": "4hfClVkUPvwM"
      }
    },
    {
      "cell_type": "markdown",
      "source": [
        "\n",
        "### Ejemplo 1: Aplicar un descuento sobre los periféricos cuyo precio sea múltiplo de 10\n"
      ],
      "metadata": {
        "id": "oXRJvcwdXFtu"
      }
    },
    {
      "cell_type": "code",
      "source": [],
      "metadata": {
        "id": "TPOrcpPYXFNK"
      },
      "execution_count": null,
      "outputs": []
    },
    {
      "cell_type": "code",
      "source": [
        "componentes = {'teclado':  ('logitec', 113),\n",
        "          'raton': ('logitec', 90),\n",
        "          'monitor': ('hp bang&olufsen', 985),\n",
        "          'torre': ('mac studio', 3000),}\n",
        "\n"
      ],
      "metadata": {
        "id": "Jx3ccWsLPu97"
      },
      "execution_count": null,
      "outputs": []
    },
    {
      "cell_type": "code",
      "source": [
        "### qué es componentes: un diccionario donde los valores son tuplas\n",
        "### qué piden:\n",
        "#### 1. Un filtro: precio multiplo de 10\n",
        "#### 2. Un descuento: esto es, una función\n"
      ],
      "metadata": {
        "id": "yTMvn5nrSWUV"
      },
      "execution_count": null,
      "outputs": []
    },
    {
      "cell_type": "code",
      "source": [
        "### Recordemos: si es un diccionario, podemos acceder a los elementos por clave o por valor\n",
        "[k for k in componentes.values()]"
      ],
      "metadata": {
        "colab": {
          "base_uri": "https://localhost:8080/"
        },
        "id": "dEJ_FeRxS_lR",
        "outputId": "4ccbefba-971b-4c7d-8b6d-adb560438879"
      },
      "execution_count": null,
      "outputs": [
        {
          "output_type": "execute_result",
          "data": {
            "text/plain": [
              "[('logitec', 113),\n",
              " ('logitec', 90),\n",
              " ('hp bang&olufsen', 985),\n",
              " ('mac studio', 3000)]"
            ]
          },
          "metadata": {},
          "execution_count": 32
        }
      ]
    },
    {
      "cell_type": "code",
      "source": [
        "filtrados = list(filter(lambda x: x[1] % 10 == 0, componentes.values()))\n",
        "filtrados"
      ],
      "metadata": {
        "colab": {
          "base_uri": "https://localhost:8080/"
        },
        "id": "Rm-GjhUVSztU",
        "outputId": "68423bde-e0fe-4426-b584-c23585e3e9e2"
      },
      "execution_count": null,
      "outputs": [
        {
          "output_type": "execute_result",
          "data": {
            "text/plain": [
              "[('logitec', 90), ('mac studio', 3000)]"
            ]
          },
          "metadata": {},
          "execution_count": 31
        }
      ]
    },
    {
      "cell_type": "code",
      "source": [
        "descontados = zip([x[0] for x in filtrados],list(map(lambda x : x [1]*0.9, filtrados)))\n",
        "list(descontados)"
      ],
      "metadata": {
        "colab": {
          "base_uri": "https://localhost:8080/"
        },
        "id": "sxuhjAJFVnpk",
        "outputId": "c623d526-a54c-4b6c-cb0a-e98c28ee6524"
      },
      "execution_count": null,
      "outputs": [
        {
          "output_type": "execute_result",
          "data": {
            "text/plain": [
              "[('logitec', 81.0), ('mac studio', 2700.0)]"
            ]
          },
          "metadata": {},
          "execution_count": 36
        }
      ]
    },
    {
      "cell_type": "markdown",
      "source": [
        "\n",
        "### Ejemplo 2: Sumar el precio de los periféricos cuyo precio sea múltiplo de 10"
      ],
      "metadata": {
        "id": "2DwxcWgFW8Fk"
      }
    },
    {
      "cell_type": "code",
      "source": [
        "from functools import reduce\n",
        "\n",
        "reduce ((lambda x,y: x + y) , list(map(lambda x: x[1], list(filter(lambda x: x[1] % 10 == 0, componentes.values())))))"
      ],
      "metadata": {
        "colab": {
          "base_uri": "https://localhost:8080/"
        },
        "id": "bvltJpqfW7Xe",
        "outputId": "926eecb7-e9dd-4243-aede-2f23f2f8ab30"
      },
      "execution_count": null,
      "outputs": [
        {
          "output_type": "execute_result",
          "data": {
            "text/plain": [
              "3090"
            ]
          },
          "metadata": {},
          "execution_count": 48
        }
      ]
    },
    {
      "cell_type": "markdown",
      "source": [
        "### Ejemplos adicionales\n"
      ],
      "metadata": {
        "id": "4Fp9g4Y72Afm"
      }
    },
    {
      "cell_type": "markdown",
      "source": [
        "\n",
        "#### 1. Devuelve los elementos de aquellos divisible por 2 (ej (a,1))"
      ],
      "metadata": {
        "id": "r7p9cEPr6Hb0"
      }
    },
    {
      "cell_type": "code",
      "source": [
        "lista = [1,2,3,18,5,6,7]\n",
        "lista2 = ['A','B','C','D','E','F','G']\n",
        "\n"
      ],
      "metadata": {
        "id": "9XoainYs2AL8"
      },
      "execution_count": null,
      "outputs": []
    },
    {
      "cell_type": "code",
      "source": [
        "\n"
      ],
      "metadata": {
        "id": "byEOJUZW2uZw"
      },
      "execution_count": 3,
      "outputs": []
    },
    {
      "cell_type": "code",
      "source": [],
      "metadata": {
        "id": "AV_MVLVb3WtW"
      },
      "execution_count": 3,
      "outputs": []
    },
    {
      "cell_type": "code",
      "source": [],
      "metadata": {
        "id": "vT2_tvCJ3-eJ"
      },
      "execution_count": 3,
      "outputs": []
    },
    {
      "cell_type": "markdown",
      "source": [
        "#### 2. Añadir un X a cada elemento de la lista anterior"
      ],
      "metadata": {
        "id": "fNw5fOjK6Bz7"
      }
    },
    {
      "cell_type": "code",
      "source": [],
      "metadata": {
        "colab": {
          "base_uri": "https://localhost:8080/"
        },
        "id": "DnSGQPdw4A9c",
        "outputId": "3259ad68-4843-455b-e4c6-fea6ef6f425e"
      },
      "execution_count": null,
      "outputs": [
        {
          "output_type": "execute_result",
          "data": {
            "text/plain": [
              "['AX', 'BX', 'CX', 'DX', 'EX', 'FX', 'GX']"
            ]
          },
          "metadata": {},
          "execution_count": 29
        }
      ]
    },
    {
      "cell_type": "markdown",
      "source": [
        "### 3. Devolver la suma acumulada de los\n",
        "\n",
        "*   Elemento de lista\n",
        "*   Elemento de lista\n",
        "\n",
        "elementos que sean divisibles por 3"
      ],
      "metadata": {
        "id": "Xjz9wtea6LtH"
      }
    },
    {
      "cell_type": "code",
      "source": [
        "ejemplo"
      ],
      "metadata": {
        "colab": {
          "base_uri": "https://localhost:8080/"
        },
        "id": "bNmolzCq6AO9",
        "outputId": "1c0c9e43-2396-4638-9d55-7aa1849f4454"
      },
      "execution_count": null,
      "outputs": [
        {
          "output_type": "execute_result",
          "data": {
            "text/plain": [
              "[(1, 'A'), (2, 'B'), (3, 'C'), (18, 'D'), (5, 'E'), (6, 'F'), (7, 'G')]"
            ]
          },
          "metadata": {},
          "execution_count": 30
        }
      ]
    },
    {
      "cell_type": "code",
      "source": [],
      "metadata": {
        "id": "EuOTiVLE5-_j"
      },
      "execution_count": null,
      "outputs": []
    },
    {
      "cell_type": "markdown",
      "source": [
        "En este punto tengo una lista de tuplas. Para hacer la agregación, me interesa una lista de enteros. Por tanto, como estoy haciendo una transformación, utilizaré `map`"
      ],
      "metadata": {
        "id": "Sd1ZTeoX7x-C"
      }
    },
    {
      "cell_type": "code",
      "source": [],
      "metadata": {
        "id": "k03oozC375VQ"
      },
      "execution_count": null,
      "outputs": []
    },
    {
      "cell_type": "code",
      "source": [],
      "metadata": {
        "colab": {
          "base_uri": "https://localhost:8080/"
        },
        "id": "OjHjR6kA6xHN",
        "outputId": "a6c92889-9534-413c-b14e-4f70d0ebe5dd"
      },
      "execution_count": null,
      "outputs": [
        {
          "output_type": "execute_result",
          "data": {
            "text/plain": [
              "27"
            ]
          },
          "metadata": {},
          "execution_count": 57
        }
      ]
    },
    {
      "cell_type": "markdown",
      "source": [
        "#### Ejercicio 4\n",
        "\n",
        "Suma acumulada de los que son divisibles por 2"
      ],
      "metadata": {
        "id": "-RAvql399__A"
      }
    },
    {
      "cell_type": "code",
      "source": [
        "\n"
      ],
      "metadata": {
        "colab": {
          "base_uri": "https://localhost:8080/"
        },
        "id": "o8Z4ambl96vZ",
        "outputId": "5f290518-c11c-4568-8eaa-0788cccb997a"
      },
      "execution_count": null,
      "outputs": [
        {
          "output_type": "execute_result",
          "data": {
            "text/plain": [
              "dict_values([2, 3, 5, 6, 7])"
            ]
          },
          "metadata": {},
          "execution_count": 60
        }
      ]
    },
    {
      "cell_type": "code",
      "source": [],
      "metadata": {
        "colab": {
          "base_uri": "https://localhost:8080/"
        },
        "id": "fUk1WDBK-rbZ",
        "outputId": "daa7f8d9-e12e-4e98-ea04-52759841d920"
      },
      "execution_count": null,
      "outputs": [
        {
          "output_type": "execute_result",
          "data": {
            "text/plain": [
              "8"
            ]
          },
          "metadata": {},
          "execution_count": 64
        }
      ]
    },
    {
      "cell_type": "markdown",
      "source": [],
      "metadata": {
        "id": "w6opZQ_UifsE"
      }
    },
    {
      "cell_type": "markdown",
      "source": [
        "### Contenido extra: Pipes\n",
        "\n",
        "Los `pipes` permiten encadenar funciones en un expresión. Con `reduce` podemos emular los `pipes`, teniendo en lugar de un iterable de datos, un `iterable` de funciones. Por ejemplo:"
      ],
      "metadata": {
        "id": "f-Vt3h-5xTTm"
      }
    },
    {
      "cell_type": "code",
      "source": [
        "fns=(lambda x:x+2,lambda x:x*32,lambda x:x / 5)\n",
        "\n",
        "reduce(lambda x,f:f(x),fns,3)"
      ],
      "metadata": {
        "id": "Ud99jyv_0OXz",
        "colab": {
          "base_uri": "https://localhost:8080/"
        },
        "outputId": "8cd991d3-2150-41b5-a011-8e8355767538"
      },
      "execution_count": null,
      "outputs": [
        {
          "output_type": "execute_result",
          "data": {
            "text/plain": [
              "32.0"
            ]
          },
          "metadata": {},
          "execution_count": 9
        }
      ]
    },
    {
      "cell_type": "code",
      "source": [],
      "metadata": {
        "id": "J4vT5dkIzu4p"
      },
      "execution_count": null,
      "outputs": []
    },
    {
      "cell_type": "code",
      "source": [],
      "metadata": {
        "id": "LUpAbLvX0Oea"
      },
      "execution_count": null,
      "outputs": []
    }
  ]
}