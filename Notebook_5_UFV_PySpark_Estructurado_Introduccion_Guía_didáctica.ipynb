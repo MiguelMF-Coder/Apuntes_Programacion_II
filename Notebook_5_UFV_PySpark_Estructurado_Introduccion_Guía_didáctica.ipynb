{
  "cells": [
    {
      "cell_type": "code",
      "execution_count": null,
      "metadata": {
        "id": "wVDRe7qvcSBm"
      },
      "outputs": [],
      "source": [
        "from google.colab import drive\n",
        "drive.mount('/content/drive')"
      ]
    },
    {
      "cell_type": "markdown",
      "metadata": {
        "id": "gkGJJVgXBwMa"
      },
      "source": [
        "## Instalacion de Java\n",
        "Google Colaboratory funciona en un ambiente linux, por lo tanto se pueden usar comandos shell de linux antecedidos del caracter '!'"
      ]
    },
    {
      "cell_type": "code",
      "execution_count": null,
      "metadata": {
        "id": "Fl5KY6D0BH1e"
      },
      "outputs": [],
      "source": [
        "!apt-get install openjdk-8-jdk-headless -qq > /dev/null"
      ]
    },
    {
      "cell_type": "code",
      "execution_count": null,
      "metadata": {
        "id": "BZ6EHFWorPMi"
      },
      "outputs": [],
      "source": [
        "\n",
        "!pip install findspark"
      ]
    },
    {
      "cell_type": "markdown",
      "metadata": {
        "id": "1dHLH3E1BOEk"
      },
      "source": [
        "## Instalacion de Spark\n",
        "\n",
        "Obtener automaticamente la ultima version de spark de"
      ]
    },
    {
      "cell_type": "code",
      "execution_count": null,
      "metadata": {
        "id": "XtThPPGaBYZL"
      },
      "outputs": [],
      "source": [
        "from bs4 import BeautifulSoup\n",
        "import requests"
      ]
    },
    {
      "cell_type": "code",
      "execution_count": null,
      "metadata": {
        "id": "sHfbF3J7CQ8Z"
      },
      "outputs": [],
      "source": [
        "#Obtener las versiones de spark la pagina web\n",
        "url = 'https://downloads.apache.org/spark/'\n",
        "r = requests.get(url)\n",
        "html_doc = r.text\n",
        "soup = BeautifulSoup(html_doc)"
      ]
    },
    {
      "cell_type": "code",
      "execution_count": null,
      "metadata": {
        "id": "WnZUvd9XCgqD"
      },
      "outputs": [],
      "source": [
        "# leer la pagina web y obtener las versiones de spark disponibles\n",
        "link_files = []\n",
        "for link in soup.find_all('a'):\n",
        "  link_files.append(link.get('href'))\n",
        "spark_link = [x for x in link_files if 'spark' in x]\n",
        "print(spark_link)"
      ]
    },
    {
      "cell_type": "code",
      "execution_count": null,
      "metadata": {
        "id": "LY9Fug2LDcMg"
      },
      "outputs": [],
      "source": [
        "#ver_spark = spark_link[1][:-1] # obtener la version y eliminar el caracter '/' del final\n",
        "#print(ver_spark)"
      ]
    },
    {
      "cell_type": "code",
      "execution_count": null,
      "metadata": {
        "id": "wA3-nxeNFIYB"
      },
      "outputs": [],
      "source": [
        "import os # libreria de manejo del sistema operativo\n",
        "#instalar automaticamente la version deseadda de spark\n",
        "import os # libreria de manejo del sistema operativo\n",
        "#instalar automaticamente la version deseadda de spark\n",
        "!wget -q https://archive.apache.org/dist/spark/spark-3.5.1/spark-3.5.1-bin-hadoop3.tgz\n",
        "!tar xf spark-3.5.1-bin-hadoop3.tgz\n",
        "# instalar pyspark\n",
        "#!pip install -q pyspark"
      ]
    },
    {
      "cell_type": "code",
      "execution_count": null,
      "metadata": {
        "id": "bQCLXiKt6KTY"
      },
      "outputs": [],
      "source": [
        "!pwd"
      ]
    },
    {
      "cell_type": "code",
      "execution_count": null,
      "metadata": {
        "id": "2jOVUvj-tE6L"
      },
      "outputs": [],
      "source": [
        "!pip install -q pyspark==3.5.1"
      ]
    },
    {
      "cell_type": "markdown",
      "metadata": {
        "id": "-5zJWYOBHX37"
      },
      "source": [
        "## Definir variables de entorno"
      ]
    },
    {
      "cell_type": "code",
      "execution_count": null,
      "metadata": {
        "id": "Q0tFuu8VHWcm"
      },
      "outputs": [],
      "source": [
        "os.environ[\"JAVA_HOME\"] = \"/usr/lib/jvm/java-8-openjdk-amd64\"\n",
        "os.environ[\"SPARK_HOME\"] = f\"/content/spark-3.5.1-bin-hadoop3\""
      ]
    },
    {
      "cell_type": "markdown",
      "source": [
        "# Introducción\n",
        "\n",
        "La presente guía tiene como objetivo introducir al alumno a la tecnología Spark, a través de Pyspark estructurado. NO pretende ser una guía exhaustiva a esta tecnología, sino un punto de partida mediante el uso de Spark Dataframes."
      ],
      "metadata": {
        "id": "a4Wupjp2tjo4"
      }
    },
    {
      "cell_type": "markdown",
      "source": [
        "# Qué es spark\n",
        "\n",
        "Spark es un motor de procesamiento distribuido implementado en Scala que se ejecuta fundamentalmente en memoria.\n",
        "\n",
        "Se construye sobre Hadoop, pero es, por tanto, más rápido que Hadoop:\n",
        "\n",
        "1. Está orientado al **procesamiento en memoria**, reduciendo las operaciones de escritura y lectura.\n",
        "2. **Lazy Evaluation**: las operaciones de transformación sólo se ejecutan cuando se realicen las acciones (mostrar, agregar, etc)\n",
        "3. Permite trabajar en **tiempo real**, con procesamiento en batch y de forma interactiva.\n",
        "4. Disponible en múltiples **lenguajes de programación**: Java, R, Python, Scala…\n"
      ],
      "metadata": {
        "id": "_O-XuK2l6WFG"
      }
    },
    {
      "cell_type": "markdown",
      "source": [
        "## Principales componentes\n",
        "\n",
        "* Core: el núcleo de procesamiento de spark sobre el que se ejecutan las siguientes librerías.\n",
        "\n",
        "* Spark SQL: permite trabajar sobre los datos con una interfaz SQL en programas basados en SPARK\n",
        "\n",
        "* Streaming: permite el procesamiento en tiempo real de datos\n",
        "\n",
        "* Mllib: permite aprendizaje automático\n",
        "\n",
        "* Graphx: Visualización y motor de grafos sobre Spark\n",
        "\n",
        "Cada una de estas librerías están encapsuladas, de forma que puedo estar generando código de sparkmlib que será traducido a un DAG que será ejecutado por el core de Spark. Asimismo, Spark se puede utilizar con varios lenguajes (en Python, usaremos Pyspark). Este código será traducido a bytecode que será ejecutado por las diferentes JVM de los nodos."
      ],
      "metadata": {
        "id": "N2oxATTf6vDO"
      }
    },
    {
      "cell_type": "markdown",
      "source": [
        "## Arquitectura\n",
        "![image.png](data:image/png;base64,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)"
      ],
      "metadata": {
        "id": "EpKgIR-G7C8L"
      }
    },
    {
      "cell_type": "markdown",
      "source": [
        "Spark driver es el componente encargado de instanciar el contexto o la sesión (Spark session). Es el componente encargado de interaccionar con el Cluster Manager (por ejemplo, YARN) para gestionar recursos. Asimismo, es el encargado de realizar el DAG y planificar y gestionar la ejecución de las tareas.\n",
        "\n",
        "La sesión (Spark Session) es la puerta de entrada, unificando lo que antes de Spark 2.0 eran los diferentes Contextos. Permite definir DF, Datasets, lectura y escritura de datos, acceso al Spark Context, metadatos, etc.\n",
        "\n",
        "Los nodos, Workers, interaccionan con el Manager para realizar y controlar la ejecución de las tareas.\n",
        "\n",
        "El Cluster Manager es el responsable de crear los Executors en las máquinas del cluster y, por tanto, de gestionar esos recursos.  Estos executors son ’agentes’ encargados de realizar las operaciones de la app.\n",
        "\n",
        "\n",
        "El Driver, la aplicación Spark,  crea un Spark Context\n",
        "En Spark 2.0+, el Spark Context está encapsulado en Spark Sessions. Es un mecanismo para gestionar de forma unificada las interacciones con Spark (streaming, SQL, etc).\n",
        "\n"
      ],
      "metadata": {
        "id": "HJyhyGcC7II-"
      }
    },
    {
      "cell_type": "markdown",
      "source": [
        "![image.png](data:image/png;base64,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)"
      ],
      "metadata": {
        "id": "zsDrROUN71PX"
      }
    },
    {
      "cell_type": "markdown",
      "source": [
        "### Modos de despliegue\n",
        "\n",
        "![image.png](data:image/png;base64,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)"
      ],
      "metadata": {
        "id": "aP7Ig2Rp0Fx0"
      }
    },
    {
      "cell_type": "markdown",
      "metadata": {
        "id": "BCGyEt25Hh-P"
      },
      "source": [
        "# PySpark\n",
        "\n",
        "Como se acaba de exponer, SparkSession es el punto de entrada de un programa Spark. En versiones anteriores, si quisiéramos trabajar con Hive o SQL, habría que declarar varios contextos. Con Spark Session nos abstraemos de los diferentes contextos y utilizamos un único punto de entrada para leer datos, gestionar los recursos del cluster o trabajar con metadatos.\n",
        "\n",
        "Para más info sobre `Spark Session` https://spark.apache.org/docs/latest/api/python/reference/api/pyspark.sql.SparkSession.html\n",
        "\n",
        "Y https://spark.apache.org/docs/2.3.0/configuration.html\n",
        "\n",
        "No todas las opciones siempre van a ser iguales. En este caso, he especificado que quiero que se use spark en local con tantos threads como me permita mi máquina ( `master(\"local[*]\")`) y dependerá, también, de la plataforma donde estés ejecutando spark.\n",
        "\n",
        "Por ejemplo, en GCP puedo tener esta configuración:\n",
        "\n",
        "`spark = SparkSession.builder \\\n",
        "    ``.appName('PySpark MyApp')`\n",
        "    `.config('spark.jars', 'gs://spark-lib/\n",
        "    `bigquery`spark-bigquery-latest_2.12.jar')`\n",
        "    `.config('spark.driver.maxResultSize', '150g')\\\n",
        "    .getOrCreate()`\n",
        "``spark.conf.set(\"spark.sql.repl.eagerEval.enabled\", True)``\n"
      ]
    },
    {
      "cell_type": "markdown",
      "metadata": {
        "id": "ETaCeH1KAcoL"
      },
      "source": [
        "# Abstracciones sobre los datos Datos\n",
        "\n",
        "En Spark hay tres formas de trabajar con los datos: RDD, DataFrames y DataSets. En Pyspark >>v 2.0 sobretodo se termina trabajando en DataFrames porque `py` no tiene una interfaz nativa de Datasets y es mucho más fácil e intuititvo que trabajar con RDD. En esta guía didáctica solamente trabajaremos con `DataFrames` aunque conviene introducir, brevemente, el concepto de RDD\n",
        "\n",
        "\n",
        "\n",
        "# PySpark: RDD\n",
        "\n",
        "\n",
        "**Colección** de registros o filas (recordad, en **memoria**), que representan una entidad (por ejemplo, un vuelo, un curso, un alumno) sobre las que se puede aplicar operaciones - métodos - de *transformación* en otro RDD, o invocar *acciones* para recuperar resultados.\n",
        "\n",
        "\n",
        "\n",
        "1. Particionado: se distribuyen los datos por todos los nodos del cluster. Nº x defecto -> numero de cores disponibles\n",
        "2. Inmutables: una vez se crean, no pueden cambiar\n",
        "3. Resilentes: si un nodo cae, los datos se pueden reconstruir\n",
        "\n",
        "Otras características: RDD no tiene soporte para la ejecución optimizada, esto es, no optimiza la secuencia de acciones a realizar para obtener el resultado, y permite tipado fuerte.\n",
        "\n",
        "El procesamiento ocurre de forma distribuida en los nodos, pero en el caso de Spark los datos se almacenan en la memoria de cada nodo del cluster\n",
        "\n",
        "\n",
        "Existen dos tipos de operaciones#+\n",
        "+ Transformaciones: transforman el RDD en otro RDD\n",
        "+ Acciones: obtienen el resultado (collect)\n",
        "\n",
        "Lo más importante en este punto es tener claro que las transformaciones se pueden aplicar en cadena, pero no se ejecutan hasta que se hace la llamada a la acción. De este modo se genera un Grafo Acíclico Dirigido (DAG) de transformaciones.\n",
        "\n",
        "## Nota:\n",
        "\n",
        "En este colab no se van a tratar los RDD en código. No obstante, veremos que se puede obtener el RDD a partir de un DataFrame. Veréis que existe un concepto que se denomina `Row`. Podéis usar `map`, `filter` y `flatmap` sobre `RDD` .\n",
        "\n",
        "\n",
        "# Dataframes\n",
        "Se asimilan a una tabla de BBDD.\n",
        "Se generan sobre los RDD y por tanto comparten sus características, pero te facilitan una mayor abstracción al realizar las operaciones y facilita la optimización de las acciones.\n",
        "\n",
        "\n",
        "## Nota: Datasets\n",
        "\n",
        "En Py no no se suelen usar los datasets. Podéis pensar en ellos como una interfaz evolucionada de los dataframes, mezclando lo mejor de los dos mundos: tipado fuerte y optimización.\n"
      ]
    },
    {
      "cell_type": "code",
      "execution_count": null,
      "metadata": {
        "id": "EtzN28KKIY82"
      },
      "outputs": [],
      "source": [
        "from pyspark.sql import SparkSession\n",
        "from pyspark.sql import functions as F, types as T\n",
        "spark = SparkSession.builder.appName(\"Varios\").master(\"local[*]\").getOrCreate()\n",
        "spark"
      ]
    },
    {
      "cell_type": "markdown",
      "metadata": {
        "id": "IImWwtaEKHXB"
      },
      "source": [
        "# Importación\n",
        "\n",
        "En versiones anteriores de Spark, la forma de crear un RDD a partir de textos era con las funciones `parallelize((tupla1),(tupla2),...,(tuplaN))` o leyendo los archivos de textos `textFile(ruta, particiones)` Ahora se puede utilizar la interfaz `read.` para leer los archivos y transformando los datos a un dataframe\n",
        "\n",
        "Spark permite la lectura de diferentes formatos: `json, parquet, avro, csv o accediendo mediante jdbc a datos de la bbdd`. En entornos cloud, existen interfaces para conectar con sus repositorios (por ejemplo, en Google, con BigQuery).\n",
        "\n",
        "En este ejemplo, vamos a obligar a que nos detecte el schema!"
      ]
    },
    {
      "cell_type": "code",
      "execution_count": null,
      "metadata": {
        "id": "J-2gRfS-KQyF"
      },
      "outputs": [],
      "source": [
        "archivo = './sample_data/california_housing_train.csv'\n",
        "df_spark = spark.read.csv(archivo, inferSchema=True, header=True)\n",
        "\n",
        "# imprimir tipo de archivo\n",
        "print(type(df_spark))\n",
        "\n",
        "# RDD tradicional: spark.textFile(ruta,...)\n"
      ]
    },
    {
      "cell_type": "code",
      "execution_count": null,
      "metadata": {
        "id": "r8e8M9HSJ8Z0"
      },
      "outputs": [],
      "source": []
    },
    {
      "cell_type": "markdown",
      "metadata": {
        "id": "-D1QtsN-J7Vq"
      },
      "source": [
        "# DAG\n",
        "\n",
        "Acabo de deciros que Spark genera un DAG con las transformaciones que va panificando hasta que se hace una acción. Este grafo puede ser descompuesto en tareas que se ejecutan en paralelo en los diferentes workers en el clúster.\n",
        "\n",
        "Vamos a ver cómo sería con la lectura de datos y con una operación de agregación (no os preocupéis que lo veremos luego!)"
      ]
    },
    {
      "cell_type": "code",
      "execution_count": null,
      "metadata": {
        "id": "d49eiq3bkbF8"
      },
      "outputs": [],
      "source": [
        "\n",
        "spark.read.csv(archivo, inferSchema=True, header=True).explain()\n"
      ]
    },
    {
      "cell_type": "code",
      "execution_count": null,
      "metadata": {
        "id": "KoQcwzYUKfSt"
      },
      "outputs": [],
      "source": [
        "df_spark.groupby('housing_median_age').agg(F.sum('population')).explain()"
      ]
    },
    {
      "cell_type": "code",
      "execution_count": null,
      "metadata": {
        "id": "ApfZK71OBZ6j"
      },
      "outputs": [],
      "source": [
        "rddspark = df_spark.rdd\n",
        "type(rddspark)"
      ]
    },
    {
      "cell_type": "markdown",
      "source": [
        "# Particiones\n"
      ],
      "metadata": {
        "id": "WB1xSxRWk-2l"
      }
    },
    {
      "cell_type": "code",
      "execution_count": null,
      "metadata": {
        "id": "EawyndC0l-gF"
      },
      "outputs": [],
      "source": [
        "df_spark2 = df_spark.repartition(3)"
      ]
    },
    {
      "cell_type": "code",
      "execution_count": null,
      "metadata": {
        "id": "A9F91dlUmGOG"
      },
      "outputs": [],
      "source": [
        "print(df_spark2.rdd.getNumPartitions())\n"
      ]
    },
    {
      "cell_type": "code",
      "execution_count": null,
      "metadata": {
        "id": "3-giA-HUBhnI"
      },
      "outputs": [],
      "source": [
        "rddspark.getNumPartitions()\n"
      ]
    },
    {
      "cell_type": "code",
      "execution_count": null,
      "metadata": {
        "id": "0Tnlfj2DCpeR"
      },
      "outputs": [],
      "source": [
        "rddspark2 = rddspark.repartition(3)\n"
      ]
    },
    {
      "cell_type": "code",
      "execution_count": null,
      "metadata": {
        "id": "8URk5OZOCpsL"
      },
      "outputs": [],
      "source": [
        "rddspark2.getNumPartitions()"
      ]
    },
    {
      "cell_type": "markdown",
      "source": [
        "En el disco duro, se pude almacenar los datos mediante el método `partitionBy`. Cada partición serán subcarpetas en el disco duro:"
      ],
      "metadata": {
        "id": "GJiWmChMvlcq"
      }
    },
    {
      "cell_type": "code",
      "source": [
        "df_spark.write.mode(\"overwrite\").partitionBy(\"housing_median_age\").csv(\"./output\")"
      ],
      "metadata": {
        "id": "AygGluRivx-o"
      },
      "execution_count": null,
      "outputs": []
    },
    {
      "cell_type": "code",
      "execution_count": null,
      "metadata": {
        "id": "LA2kfkBT9zpo"
      },
      "outputs": [],
      "source": [
        "## Analizamos el dataframe\n",
        "\n",
        "df_spark.limit(10).toPandas().describe()"
      ]
    },
    {
      "cell_type": "markdown",
      "metadata": {
        "id": "XMbYCf5hPZe2"
      },
      "source": [
        "\n",
        "# Dataframe\n",
        "\n",
        "Dataframe nos permite trabajar con RDD a más alto nivel, como si de una tabla de BBDD se tratase.\n",
        "\n",
        "No impone un tipado fuerte, pero sí un esquema (implícito o explícito) sobre los datos.\n",
        "\n",
        "## Descriptivos\n",
        "\n",
        "¿Numero de registros en el dataframe?"
      ]
    },
    {
      "cell_type": "code",
      "execution_count": null,
      "metadata": {
        "id": "VrbNpoUCNYN8"
      },
      "outputs": [],
      "source": [
        "df_spark.count()"
      ]
    },
    {
      "cell_type": "markdown",
      "metadata": {
        "id": "13rl3pyARA28"
      },
      "source": [
        "\n",
        "\n",
        "\n",
        "## Estructura del dataframe"
      ]
    },
    {
      "cell_type": "code",
      "execution_count": null,
      "metadata": {
        "id": "6Sb_is4QLeB3"
      },
      "outputs": [],
      "source": [
        "df_spark.printSchema()"
      ]
    },
    {
      "cell_type": "markdown",
      "metadata": {
        "id": "pjN5k0S_PfaB"
      },
      "source": [
        "¿Nombre de las Columnas de dataframe?"
      ]
    },
    {
      "cell_type": "code",
      "execution_count": null,
      "metadata": {
        "id": "dLa8YbIPMWhj"
      },
      "outputs": [],
      "source": [
        "df_spark.columns"
      ]
    },
    {
      "cell_type": "markdown",
      "metadata": {
        "id": "_zTVwhBBPkKQ"
      },
      "source": [
        "Ver los primeros 20 registros del dataframe"
      ]
    },
    {
      "cell_type": "code",
      "execution_count": null,
      "metadata": {
        "id": "fiY4iT0fIwqU"
      },
      "outputs": [],
      "source": [
        "df_spark.collect()[0]"
      ]
    },
    {
      "cell_type": "code",
      "execution_count": null,
      "metadata": {
        "id": "sVUfc5nyLpxp"
      },
      "outputs": [],
      "source": [
        "df_spark.show()"
      ]
    },
    {
      "cell_type": "code",
      "execution_count": null,
      "metadata": {
        "id": "hZLFuUgrIvTF"
      },
      "outputs": [],
      "source": [
        "arrayData = [ ['el caso'],['es'],[' asi es nuestra casa']\n",
        "]\n",
        "\n",
        "df = spark.createDataFrame(data=arrayData)\n",
        "df.printSchema()\n",
        "df.show()\n",
        "df2 = df.select(\n",
        "        F.explode(\n",
        "            F.split(df._1, \" \")\n",
        "        ).alias(\"word\"))\n",
        "df2.show()"
      ]
    },
    {
      "cell_type": "markdown",
      "metadata": {
        "id": "HPsuLzLfQAfj"
      },
      "source": [
        "## Descricipcion estadistica del dataframe\n",
        "\n",
        "Anteriormente, ya hemos realizado un describe sobre el `pandas dataframe` obtenido a partir del `spark dataframe`. Este método  no es igual al describe sobre un `pandas`. Por ejemplo:"
      ]
    },
    {
      "cell_type": "code",
      "execution_count": null,
      "metadata": {
        "id": "x_u_DrLfMwKt"
      },
      "outputs": [],
      "source": [
        "df_spark.describe()"
      ]
    },
    {
      "cell_type": "code",
      "execution_count": null,
      "metadata": {
        "id": "-1Mmq0cgwU3m"
      },
      "outputs": [],
      "source": [
        "df_spark.limit(10).toPandas().describe()"
      ]
    },
    {
      "cell_type": "markdown",
      "metadata": {
        "id": "4t0rUU48wqMG"
      },
      "source": [
        "`describe` se asemeja más a un `printSchema"
      ]
    },
    {
      "cell_type": "code",
      "execution_count": null,
      "metadata": {
        "id": "oWlUsfyDv85z"
      },
      "outputs": [],
      "source": [
        "df_spark.printSchema()"
      ]
    },
    {
      "cell_type": "markdown",
      "metadata": {
        "id": "nMoLSdwRRFh_"
      },
      "source": [
        "Si queremos un comportamiento similar a la de `pandas`, tenemos que llamar al método `show` o identificar la columna en concreto. Por ejemplo, descripcion estadistica de una sola columna ('median_house_value').\n",
        "\n",
        "**Pregunta**: qué está haciendo"
      ]
    },
    {
      "cell_type": "code",
      "execution_count": null,
      "metadata": {
        "id": "cUkyag5jx5FG"
      },
      "outputs": [],
      "source": [
        "df_spark.describe().show()"
      ]
    },
    {
      "cell_type": "code",
      "execution_count": null,
      "metadata": {
        "id": "K0-lIrLpQJQX"
      },
      "outputs": [],
      "source": [
        "df_spark.describe(['median_house_value']).show()"
      ]
    },
    {
      "cell_type": "markdown",
      "metadata": {
        "id": "pOErJvSvrMsw"
      },
      "source": []
    },
    {
      "cell_type": "markdown",
      "source": [
        "## Persist y caché\n",
        "\n",
        "Spark permite el almacenamiento en memoria o en disco de los datos que está gestionando. Mientras que persist te permite almacenarlos con un mayor nivel de control (memoria, disco, serializados o no), cache permite su almacenmiento en memoria.\n",
        "\n",
        "Este almacenamiento puede ser útil cuando se van a realizar múltiples transformaciones u operaciones de un dataframe.\n",
        "\n",
        "Sin embargo, la elección entre caché y persist va a depender del tamaño del dataframe y del tiempo que puede tardar en serializar o deserializar los datos.\n"
      ],
      "metadata": {
        "id": "cT6EfYs_0zHv"
      }
    },
    {
      "cell_type": "code",
      "execution_count": null,
      "metadata": {
        "id": "QEC1eJshw_AB"
      },
      "outputs": [],
      "source": [
        "df_spark.cache()"
      ]
    },
    {
      "cell_type": "code",
      "source": [
        "df_spark.persist(StorageLevel.MEMORY_AND_DISK)"
      ],
      "metadata": {
        "id": "QNOXqNLL19iA"
      },
      "execution_count": null,
      "outputs": []
    },
    {
      "cell_type": "markdown",
      "source": [
        "\n"
      ],
      "metadata": {
        "id": "DGx02krX2RR0"
      }
    },
    {
      "cell_type": "markdown",
      "metadata": {
        "id": "qcukuEwtFf0s"
      },
      "source": [
        "# Operaciones básicas\n",
        "\n",
        "\n"
      ]
    },
    {
      "cell_type": "markdown",
      "metadata": {
        "id": "dR8zYmIBpf-g"
      },
      "source": [
        "## Devolver los datos del dataframe\n",
        "\n",
        "Para devolver todos los datos de un pyspark dataframe, se usa la función `collect`:\n",
        "\n",
        "Fijaos que devuelve una lista de filas. No es la mejor forma de trabajar con los datos. Para gestionar esta situación, tenemos que usar funciones de **`selección`** y **`filtrado`** de columnas y registros:"
      ]
    },
    {
      "cell_type": "code",
      "execution_count": null,
      "metadata": {
        "id": "0_mabnX1phrq"
      },
      "outputs": [],
      "source": [
        "df_spark.collect()"
      ]
    },
    {
      "cell_type": "markdown",
      "metadata": {
        "id": "ybSznmENw2Cd"
      },
      "source": [
        "## Filtrado de datos"
      ]
    },
    {
      "cell_type": "markdown",
      "metadata": {
        "id": "-d8Dql2yUNfF"
      },
      "source": [
        "## Selección -- columnas"
      ]
    },
    {
      "cell_type": "code",
      "execution_count": null,
      "metadata": {
        "id": "h56GImvtUN6A"
      },
      "outputs": [],
      "source": [
        "df_spark.select(['total_rooms','total_bedrooms']).show()"
      ]
    },
    {
      "cell_type": "markdown",
      "metadata": {
        "id": "NuGti2s8vhuu"
      },
      "source": [
        "## Filtrado -- filas"
      ]
    },
    {
      "cell_type": "code",
      "execution_count": null,
      "metadata": {
        "id": "VJY1TTKBw8Ps"
      },
      "outputs": [],
      "source": [
        "filtrado = df_spark.filter(df_spark.total_rooms>1000)"
      ]
    },
    {
      "cell_type": "code",
      "execution_count": null,
      "metadata": {
        "id": "5wwOYLGZLgbM"
      },
      "outputs": [],
      "source": [
        "filtrado"
      ]
    },
    {
      "cell_type": "code",
      "execution_count": null,
      "metadata": {
        "id": "zZyBEUdLs_wm"
      },
      "outputs": [],
      "source": [
        "filtrado.show()"
      ]
    },
    {
      "cell_type": "markdown",
      "metadata": {
        "id": "VLhrbttmvoNw"
      },
      "source": [
        "## Filtrado -- where"
      ]
    },
    {
      "cell_type": "code",
      "execution_count": null,
      "metadata": {
        "id": "JdgCkvwXs-gI"
      },
      "outputs": [],
      "source": [
        "filtrado.where(filtrado.total_bedrooms==1283).show()"
      ]
    },
    {
      "cell_type": "code",
      "execution_count": null,
      "metadata": {
        "id": "dOLlVX1Knd4z"
      },
      "outputs": [],
      "source": [
        "filtrado_pd = filtrado.toPandas()"
      ]
    },
    {
      "cell_type": "code",
      "execution_count": null,
      "metadata": {
        "id": "wc2pgtS7MFnV"
      },
      "outputs": [],
      "source": [
        "filtrado_pd.loc[filtrado_pd.total_bedrooms==1283]"
      ]
    },
    {
      "cell_type": "markdown",
      "metadata": {
        "id": "AyFpPCypo2RD"
      },
      "source": [
        "## Acceso a filas / columnas\n",
        "\n",
        "No existe algo parecido a `.iloc` o `.loc``\n",
        "\n",
        "Tenemos que jugar con `collect`, `show`, `select` y `filter`\n",
        "\n",
        "Por ejemplo:\n",
        "\n",
        "### Seleccionar habitaciones y población cuando las habitaciones sean mayor a ... 100!! Pero devuelve sólo los 10 primeros resultados\n",
        "\n"
      ]
    },
    {
      "cell_type": "code",
      "execution_count": null,
      "metadata": {
        "id": "oqphFYLAMbJ6"
      },
      "outputs": [],
      "source": [
        "\n",
        "df_spark.select('total_bedrooms','population').where(filtrado.total_bedrooms>100)"
      ]
    },
    {
      "cell_type": "code",
      "execution_count": null,
      "metadata": {
        "id": "MaOcVpXLqO5K"
      },
      "outputs": [],
      "source": [
        "df_spark.select('total_bedrooms','population').where(filtrado.total_bedrooms>100).collect()[:10]"
      ]
    },
    {
      "cell_type": "markdown",
      "metadata": {
        "id": "2WzchLgqsAJB"
      },
      "source": []
    },
    {
      "cell_type": "code",
      "execution_count": null,
      "metadata": {
        "id": "fqxiAOzKsCtV"
      },
      "outputs": [],
      "source": [
        "df_spark.select('total_bedrooms','population').where(filtrado.total_bedrooms>100).show(10)"
      ]
    },
    {
      "cell_type": "code",
      "execution_count": null,
      "metadata": {
        "id": "XPRMkR8ZQCMk"
      },
      "outputs": [],
      "source": []
    },
    {
      "cell_type": "markdown",
      "metadata": {
        "id": "N8-ZSKcZQEDf"
      },
      "source": [
        "### Si quisiéramos coger los datos de toda una columna\n",
        "\n",
        "`select (F.collect_list(nombrecolumna)).first()[0]`\n",
        "\n"
      ]
    },
    {
      "cell_type": "code",
      "execution_count": null,
      "metadata": {
        "id": "3GGNWFpcQEpm"
      },
      "outputs": [],
      "source": [
        "df_spark.select(F.collect_list('total_bedrooms')).first()[0]"
      ]
    },
    {
      "cell_type": "code",
      "execution_count": null,
      "metadata": {
        "id": "anWHFRpSchO2"
      },
      "outputs": [],
      "source": [
        "df_spark.toPandas()[['total_bedrooms']]"
      ]
    },
    {
      "cell_type": "markdown",
      "metadata": {
        "id": "vg3CKtPLlfIz"
      },
      "source": [
        "## Sorting\n",
        "\n",
        "En general, podemos ordenadar:\n",
        "\n",
        "1. Llamando a la columna con método .asc() o .desc(), por ejemplo:\n",
        "\n",
        "`df.sort(columna.asc())`\n",
        "\n",
        "2. Llamando a la función de ordenación ascendente o descendente  sobre el nombre de la columna:\n",
        "\n",
        "`df.sort (F.asc('columna'))`\n",
        "\n"
      ]
    },
    {
      "cell_type": "code",
      "execution_count": null,
      "metadata": {
        "id": "iYcnEd9Zlwqu"
      },
      "outputs": [],
      "source": [
        "ordenado = filtrado.sort(filtrado.median_income.asc())"
      ]
    },
    {
      "cell_type": "code",
      "execution_count": null,
      "metadata": {
        "id": "nd_CYL47l3bK"
      },
      "outputs": [],
      "source": [
        "ordenado.show()"
      ]
    },
    {
      "cell_type": "markdown",
      "metadata": {
        "id": "A7uaTW2qy3YC"
      },
      "source": [
        "## Order by\n",
        "\n",
        "Lo vamos a complicar un poco: vamos a renombrar median_income y haremos el order by por esa columna renombrada"
      ]
    },
    {
      "cell_type": "code",
      "execution_count": null,
      "metadata": {
        "id": "3DMalgi3yzX4"
      },
      "outputs": [],
      "source": [
        "filtrado.select('longitude','latitude',F.col('median_income').alias('cosito')).orderBy(F.col('cosito').asc()).show()"
      ]
    },
    {
      "cell_type": "code",
      "execution_count": null,
      "metadata": {
        "id": "uYUMfPIniPDO"
      },
      "outputs": [],
      "source": [
        "filtrado.select('longitude','latitude',F.col('median_income').alias('cosito')).orderBy(F.asc('cosito')).show()"
      ]
    },
    {
      "cell_type": "markdown",
      "metadata": {
        "id": "ejQFGDEjmY5P"
      },
      "source": [
        "# Operaciones sobre columnas\n",
        "\n",
        "Las operaciones sobre columnas se realizan con el método `withColumn (nombre, función))`\n",
        "\n",
        "Para instanciar las columnas, dependiendo de la función, se puede hacer directamente con el nombre de la columna o, por ejemplo, habiendo importado el módulo `pyspark.sql.functions as F`, haciendo la llamada `F.col(nombre_columna)`\n",
        "\n",
        "## Operaciones sobre una columna"
      ]
    },
    {
      "cell_type": "code",
      "execution_count": null,
      "metadata": {
        "id": "fgALtrPJfB2U"
      },
      "outputs": [],
      "source": [
        "fp = filtrado.toPandas()\n",
        "fp['housing_median_age'] = fp ['housing_median_age'] + 1"
      ]
    },
    {
      "cell_type": "code",
      "execution_count": null,
      "metadata": {
        "id": "hacWHPR_fh54"
      },
      "outputs": [],
      "source": [
        "filtrado.select('housing_median_age').show(3)"
      ]
    },
    {
      "cell_type": "code",
      "execution_count": null,
      "metadata": {
        "id": "yo8a0rbdl-QG"
      },
      "outputs": [],
      "source": [
        " filtrado.withColumn('housing_median_age',F.col('housing_median_age')+1).show()"
      ]
    },
    {
      "cell_type": "code",
      "execution_count": null,
      "metadata": {
        "id": "YqZZ2779my4w"
      },
      "outputs": [],
      "source": [
        "filtrado.withColumn('housing_median_age',filtrado.housing_median_age-1).show()\n",
        "\n"
      ]
    },
    {
      "cell_type": "markdown",
      "metadata": {
        "id": "9L0kVyF0v8_Z"
      },
      "source": [
        "## Operaciones con CASE - WHEN\n",
        "\n",
        "Podemos hacer un `case when` como en `SQL`. Para ello usamos la función `F.when().otherwise()`\n",
        "\n",
        "`F.Lit` permite establecer valores literales en una columna. Ojo, cuando se pase como parámetro un valor a una función `udf` que no sea columna, es necesario utilizarlo.\n",
        "\n"
      ]
    },
    {
      "cell_type": "code",
      "execution_count": null,
      "metadata": {
        "id": "tpA92mu4ol-8"
      },
      "outputs": [],
      "source": [
        "filtrado.withColumn('catgoria_edad',F.when(\n",
        "    (filtrado.median_income.isNotNull() & filtrado.housing_median_age.isNotNull()), 'GUAY'\n",
        ").otherwise(F.lit('N/A'))).show()\n",
        "\n"
      ]
    },
    {
      "cell_type": "code",
      "execution_count": null,
      "metadata": {
        "id": "qnmBs180tp-S"
      },
      "outputs": [],
      "source": [
        "household_final = filtrado.withColumn('catgoria_cliente',F.when(\n",
        "    (filtrado.median_income>3), 'TARGET'\n",
        ").when((filtrado.median_income>1) & (filtrado.median_income<3),'CUASITARGET').otherwise(F.lit('IGNORE')))\n",
        "\n",
        "household_final.show()\n",
        "\n"
      ]
    },
    {
      "cell_type": "markdown",
      "metadata": {
        "id": "LqxhTwBQg5pr"
      },
      "source": [
        "SELECT CASE WHEN MEDIAN_INCOME>3 THEN 'TARGET'\n",
        "            WHEN (MEDIAN_INCOME > 1 AND MEDIAN_INCOME<3) THEN 'CUASI' ELSE 'IGNORE' END AS 'COLUMNA'\n",
        "            "
      ]
    },
    {
      "cell_type": "markdown",
      "metadata": {
        "id": "apMhv6rjtlKn"
      },
      "source": [
        "### Renombrado de columnas\n",
        "\n",
        "En el apartado de `sorting`,  ya hemos visto un par de ejemplos.\n",
        "\n",
        "Vamos a refrescarlo!\n",
        "\n",
        "1. `withColumnRenamed`\n"
      ]
    },
    {
      "cell_type": "code",
      "execution_count": null,
      "metadata": {
        "id": "yExYXDceviOe"
      },
      "outputs": [],
      "source": [
        "household_final = household_final.withColumnRenamed('catgoria_cliente','categoria_xelenial')\n",
        "household_final.show()"
      ]
    },
    {
      "cell_type": "markdown",
      "metadata": {
        "id": "wqs3-kKnAItT"
      },
      "source": [
        "2. Utilizando `alias` sobre una columna determinada, por ejemplo:"
      ]
    },
    {
      "cell_type": "code",
      "execution_count": null,
      "metadata": {
        "id": "nxpmZ3Suhy4g"
      },
      "outputs": [],
      "source": []
    },
    {
      "cell_type": "code",
      "execution_count": null,
      "metadata": {
        "id": "gneDCtGdAGoP"
      },
      "outputs": [],
      "source": [
        "df_spark.select(F.col('housing_median_age').alias('edad casa')).limit(1).show()"
      ]
    },
    {
      "cell_type": "markdown",
      "metadata": {
        "id": "UMpdg0zBtd3w"
      },
      "source": [
        "## Operaciones sobre una columna, utilizando más de una columna"
      ]
    },
    {
      "cell_type": "code",
      "execution_count": null,
      "metadata": {
        "id": "1bd8EQQ9tcGh"
      },
      "outputs": [],
      "source": [
        "## Vamos a añadir una nueva columna que sea el porcentaje de households por población\n",
        "\n",
        "household_final.withColumn('household_per_pop', F.col('households')/F.col('population')).show()"
      ]
    },
    {
      "cell_type": "markdown",
      "metadata": {
        "id": "YekprOBTA_5Y"
      },
      "source": [
        "## Borrado de columnas"
      ]
    },
    {
      "cell_type": "code",
      "execution_count": null,
      "metadata": {
        "id": "tBANGWuRytTq"
      },
      "outputs": [],
      "source": [
        "household_final.drop('categoria_xelenial').show()"
      ]
    },
    {
      "cell_type": "code",
      "execution_count": null,
      "metadata": {
        "id": "XYHb8islyxm5"
      },
      "outputs": [],
      "source": [
        "for r in household_final.collect():\n",
        "  print (r.total_rooms)\n",
        "  break"
      ]
    },
    {
      "cell_type": "markdown",
      "metadata": {
        "id": "_EQ4qPOT0C73"
      },
      "source": [
        "# Otras operaciones interesantes\n",
        "\n",
        "## Eliminar duplicados\n",
        "\n"
      ]
    },
    {
      "cell_type": "code",
      "execution_count": null,
      "metadata": {
        "id": "2IjIizRQ0KSe"
      },
      "outputs": [],
      "source": [
        "elimineitor = household_final.drop_duplicates(['longitude'])"
      ]
    },
    {
      "cell_type": "code",
      "execution_count": null,
      "metadata": {
        "id": "XVPC4k2u0QIR"
      },
      "outputs": [],
      "source": [
        "elimineitor.where(elimineitor.longitude == -114.31).show()"
      ]
    },
    {
      "cell_type": "code",
      "execution_count": null,
      "metadata": {
        "id": "Hygp-gtX0ban"
      },
      "outputs": [],
      "source": []
    },
    {
      "cell_type": "markdown",
      "metadata": {
        "id": "P2GQGO9011Du"
      },
      "source": [
        "## Funciones sobre fechas"
      ]
    },
    {
      "cell_type": "code",
      "execution_count": null,
      "metadata": {
        "id": "IYa8LHuK2CFG"
      },
      "outputs": [],
      "source": [
        "household_final = household_final.withColumn('fecha_actual',F.current_date())\n",
        "household_final.show()"
      ]
    },
    {
      "cell_type": "code",
      "execution_count": null,
      "metadata": {
        "id": "uqY8xe5V2hPh"
      },
      "outputs": [],
      "source": [
        "household_final = household_final.withColumn('fecha_cierre',F.add_months(F.col('fecha_actual'),3))\n",
        "household_final.show()"
      ]
    },
    {
      "cell_type": "code",
      "execution_count": null,
      "metadata": {
        "id": "9sxas3_X2hUh"
      },
      "outputs": [],
      "source": [
        "household_final.withColumn('diferencia',F.datediff(household_final.fecha_actual,household_final.fecha_cierre)).show()"
      ]
    },
    {
      "cell_type": "markdown",
      "metadata": {
        "id": "XKm36i9bqMLz"
      },
      "source": []
    },
    {
      "cell_type": "code",
      "execution_count": null,
      "metadata": {
        "id": "_J_xTfm0i-MJ"
      },
      "outputs": [],
      "source": []
    },
    {
      "cell_type": "markdown",
      "metadata": {
        "id": "DQ0YZLk-11Ix"
      },
      "source": [
        "# Operaciones avanzadas\n",
        "\n",
        "## Join"
      ]
    },
    {
      "cell_type": "code",
      "execution_count": null,
      "metadata": {
        "id": "Te8PJp3r4B25"
      },
      "outputs": [],
      "source": [
        "jugadores = spark.read.csv('/content/drive/MyDrive/Colab Notebooks/pyspark_datasets/player.csv',inferSchema=True, header=True)\n",
        "atributos = spark.read.csv('/content/drive/MyDrive/Colab Notebooks/pyspark_datasets/player_attributes.csv',inferSchema=True, header=True)"
      ]
    },
    {
      "cell_type": "code",
      "execution_count": null,
      "metadata": {
        "id": "bV_z3KUi6RV_"
      },
      "outputs": [],
      "source": [
        "jugadores.show()"
      ]
    },
    {
      "cell_type": "code",
      "execution_count": null,
      "metadata": {
        "id": "eAboHPb36tnJ"
      },
      "outputs": [],
      "source": [
        "atributos.show()"
      ]
    },
    {
      "cell_type": "code",
      "execution_count": null,
      "metadata": {
        "id": "u-fkBUMt6219"
      },
      "outputs": [],
      "source": [
        "jugadores_atributos = jugadores.select('player_api_id','height').join(atributos,on='player_api_id',how='left')"
      ]
    },
    {
      "cell_type": "code",
      "execution_count": null,
      "metadata": {
        "id": "YvYofLBHkwhE"
      },
      "outputs": [],
      "source": [
        "jugadores_atributos.show()"
      ]
    },
    {
      "cell_type": "markdown",
      "metadata": {
        "id": "9xfX7oEKVEQc"
      },
      "source": [
        "## Agregaciones\n",
        "\n",
        "Las agregaciones se realizan con la secuencia de operaciones siguientes:\n",
        "\n",
        "`groupBy` + `agg (función[.alias()])`\n",
        "\n",
        "`groubBy` + `función de agregación` -- `sum / mean / max / min ...` `[.withColumnRenamed]`\n",
        "\n",
        "`groupBy` + `agg ({'campo':'funcion_de_agregacion})`\n",
        ".."
      ]
    },
    {
      "cell_type": "code",
      "execution_count": null,
      "metadata": {
        "id": "QhwzazJtVDL-"
      },
      "outputs": [],
      "source": [
        "household_final.groupby('categoria_xelenial').mean('median_house_value').withColumnRenamed('avg(median_house_value)','media_valor').show()"
      ]
    },
    {
      "cell_type": "code",
      "execution_count": null,
      "metadata": {
        "id": "Cuahi17kmywg"
      },
      "outputs": [],
      "source": [
        "household_final.groupby('categoria_xelenial').mean('median_house_value').show()"
      ]
    },
    {
      "cell_type": "code",
      "execution_count": null,
      "metadata": {
        "id": "1r5r8SNoVlqX"
      },
      "outputs": [],
      "source": [
        "household_final.groupby('categoria_xelenial').agg(F.mean(\"median_house_value\").alias(\"media\")).show()"
      ]
    },
    {
      "cell_type": "code",
      "source": [
        "household_final.groupby('categoria_xelenial').agg({'median_house_value':'mean'}).alias(\"media\").show()"
      ],
      "metadata": {
        "id": "OFwHbhP3As07"
      },
      "execution_count": null,
      "outputs": []
    },
    {
      "cell_type": "code",
      "execution_count": null,
      "metadata": {
        "id": "aygpLD86zdd6"
      },
      "outputs": [],
      "source": [
        "household_final.groupby('categoria_xelenial').agg(F.count_distinct('median_house_value').alias('conteo')).show()"
      ]
    },
    {
      "cell_type": "code",
      "execution_count": null,
      "metadata": {
        "id": "mBLoDCJ-8pzA"
      },
      "outputs": [],
      "source": [
        "atributos.groupBy('preferred_foot').agg(F.count_distinct('player_api_id').alias('tipo')).show()"
      ]
    },
    {
      "cell_type": "code",
      "execution_count": null,
      "metadata": {
        "id": "47bkUK2a3YFX"
      },
      "outputs": [],
      "source": [
        "atributos.groupBy('preferred_foot').agg(F.first('player_api_id').alias('elprimero')).show()"
      ]
    },
    {
      "cell_type": "code",
      "execution_count": null,
      "metadata": {
        "id": "NcBM3Y21JACP"
      },
      "outputs": [],
      "source": [
        "atributos.groupBy('preferred_foot').mean('overall_rating').show()"
      ]
    },
    {
      "cell_type": "code",
      "execution_count": null,
      "metadata": {
        "id": "jAlr1INu5kuq"
      },
      "outputs": [],
      "source": [
        "%%time\n",
        "resultado.groupBy('preferred_foot').sum('overall_rating').withColumnRenamed('sum(overall_rating)','total').show()"
      ]
    },
    {
      "cell_type": "markdown",
      "metadata": {
        "id": "USMfajckDFyi"
      },
      "source": [
        "# SQL"
      ]
    },
    {
      "cell_type": "markdown",
      "metadata": {
        "id": "TFhqhhjb11hA"
      },
      "source": [
        "SPARL SQL es una librería que funciona sobre SPARK Core. Permite gestionar tus datos sobre SPARK como si se tratase de SQL, facilitando la interacción con el usuario.\n",
        "\n",
        "Spark, por defecto, utiliza Apache Hive para guardar todos los metadatos sobre las tablas que se almacenan (hive metastore). Del mismo modo, spark permite crear tablas gestionadas o no gestionadas.\n",
        "\n",
        "Para una tabla gestionada, Spark gestion datos y metadatos en el archivo, que puede ser un sistema de ficheros, HDFS o Storage en GCP. Para una tabla sin gestionar, Spark sólo guarda los metadatos mientras que tú gesitionas esa información.\n",
        "\n",
        "De este modo, si se realiza una operación de creación o borrado en una tabla sin gestionar desde spark, sólo se borraran los metadatos, pero los datos se mantendrán.\n",
        "\n",
        "Esta información se puede gestionar en la configuración de Spark.\n",
        "\n",
        "Del mismo modo, Spark puede crear **vistas** para consultar la información con Spark SQL. Las vistas pueden ser globales o locales a la sesión y desaparecen cuando la sesión de Spark desaparece.\n",
        "\n",
        "En los ejemplos subsiguientes nosotros sólo manejaremos vistas."
      ]
    },
    {
      "cell_type": "code",
      "execution_count": null,
      "metadata": {
        "id": "DZapItJdFG74"
      },
      "outputs": [],
      "source": [
        "from pyspark.sql import SparkSession\n",
        "\n",
        "spark = SparkSession \\\n",
        "    .builder \\\n",
        "    .appName(\"Información de tráfico aéreo\") \\\n",
        "    .getOrCreate()"
      ]
    },
    {
      "cell_type": "code",
      "execution_count": null,
      "metadata": {
        "id": "ftLTbNymFHsS"
      },
      "outputs": [],
      "source": [
        "airlines = spark.read\\\n",
        "                .format(\"csv\")\\\n",
        "                .option(\"header\", \"true\")\\\n",
        "                .load(\"/content/drive/MyDrive/Colab Notebooks/pyspark_datasets/airlines.csv\")"
      ]
    },
    {
      "cell_type": "code",
      "execution_count": null,
      "metadata": {
        "id": "bQz_MEtVGeuM"
      },
      "outputs": [],
      "source": [
        "airlines"
      ]
    },
    {
      "cell_type": "markdown",
      "metadata": {
        "id": "R5G9zsu2hwTq"
      },
      "source": [
        "Las vistas temporales están ligadas a esta sesión y app. Si quisiéramos una vista que estuviera ligada a todas las sesiones, deberíamos seleccionar GlobalTempView"
      ]
    },
    {
      "cell_type": "code",
      "execution_count": null,
      "metadata": {
        "id": "wb0TNtQxGcxC"
      },
      "outputs": [],
      "source": [
        "\n",
        "airlines.createOrReplaceTempView(\"airlines\")"
      ]
    },
    {
      "cell_type": "code",
      "execution_count": null,
      "metadata": {
        "id": "C3lOnlbnHVvf"
      },
      "outputs": [],
      "source": [
        "airlines"
      ]
    },
    {
      "cell_type": "code",
      "execution_count": null,
      "metadata": {
        "id": "6-1bFAmstC6S"
      },
      "outputs": [],
      "source": []
    },
    {
      "cell_type": "code",
      "execution_count": null,
      "metadata": {
        "id": "1bkyZDg7HWe3"
      },
      "outputs": [],
      "source": [
        "airlines = spark.sql(\"SELECT * FROM airlines\")\n",
        "airlines.columns"
      ]
    },
    {
      "cell_type": "code",
      "execution_count": null,
      "metadata": {
        "id": "ID8faj1f6yhx"
      },
      "outputs": [],
      "source": [
        "type(airlines)"
      ]
    },
    {
      "cell_type": "code",
      "execution_count": null,
      "metadata": {
        "id": "N1i9TMZfHbrZ"
      },
      "outputs": [],
      "source": [
        "airlines.show(1)"
      ]
    },
    {
      "cell_type": "code",
      "execution_count": null,
      "metadata": {
        "id": "tzC767P3HdXe"
      },
      "outputs": [],
      "source": [
        "airlines.show()"
      ]
    },
    {
      "cell_type": "code",
      "execution_count": null,
      "metadata": {
        "id": "edRVV_SJHppT"
      },
      "outputs": [],
      "source": [
        "vuelos = spark.read\\\n",
        "                .format(\"csv\")\\\n",
        "                .option(\"header\", \"true\")\\\n",
        "                .load('/content/drive/MyDrive/Colab Notebooks/pyspark_datasets/flights.csv')"
      ]
    },
    {
      "cell_type": "code",
      "execution_count": null,
      "metadata": {
        "id": "C4FrdiC7Hr89"
      },
      "outputs": [],
      "source": [
        "## Generación de una vista temporal en la sesión sobre una bbdd por defecto\n",
        "\n",
        "vuelos.createOrReplaceTempView(\"vuelos\")\n",
        "vuelos = spark.sql(\"SELECT * FROM vuelos\")"
      ]
    },
    {
      "cell_type": "code",
      "execution_count": null,
      "metadata": {
        "id": "5d-ITWy6IgYr"
      },
      "outputs": [],
      "source": [
        "vuelos.show()"
      ]
    },
    {
      "cell_type": "code",
      "execution_count": null,
      "metadata": {
        "id": "bXXMvR-GInJU"
      },
      "outputs": [],
      "source": [
        "vuelos.count()"
      ]
    },
    {
      "cell_type": "code",
      "execution_count": null,
      "metadata": {
        "id": "g3qvwqV9JEAi"
      },
      "outputs": [],
      "source": [
        "spark.sql(\"select count(*) as registros from vuelos\").show()"
      ]
    },
    {
      "cell_type": "code",
      "execution_count": null,
      "metadata": {
        "id": "RzlgHERUJHr4"
      },
      "outputs": [],
      "source": [
        "spark.sql(\"select sum(distance) as distancia_total from vuelos\").show()"
      ]
    },
    {
      "cell_type": "code",
      "execution_count": null,
      "metadata": {
        "id": "aNsrRLnFJmsD"
      },
      "outputs": [],
      "source": [
        "\n",
        "\n",
        "total_distance_df = spark.sql(\"SELECT distance FROM vuelos\")\\\n",
        "                         .agg({\"distance\":\"sum\"})\\\n",
        "                         .withColumnRenamed(\"sum(distance)\",\"distancia_total\")"
      ]
    },
    {
      "cell_type": "code",
      "execution_count": null,
      "metadata": {
        "id": "DHitRiPEJyAP"
      },
      "outputs": [],
      "source": [
        "total_distance_df.show()"
      ]
    },
    {
      "cell_type": "code",
      "execution_count": null,
      "metadata": {
        "id": "5HeJQf68JzV-"
      },
      "outputs": [],
      "source": [
        "spark.sql (\"select destination, avg(arrival_delay) as retraso from vuelos group by destination order by 2 desc \").show()"
      ]
    },
    {
      "cell_type": "code",
      "execution_count": null,
      "metadata": {
        "id": "tVlYp9PQLTpI"
      },
      "outputs": [],
      "source": [
        "spark.sql(\"SELECT AIRLINES.DESCRIPTION, VUELOS.* FROM VUELOS LEFT JOIN AIRLINES ON Airlines.code = vuelos.airlines\").show(1)"
      ]
    },
    {
      "cell_type": "code",
      "execution_count": null,
      "metadata": {
        "id": "C_yAgIByMd2Q"
      },
      "outputs": [],
      "source": []
    },
    {
      "cell_type": "markdown",
      "source": [
        "# Funciones\n",
        "\n",
        "Son funciones que el usuario va a definir para realizar sobre el dataframe. Spark va a dividir los jobs entre los diferentes nodos y recuperará los resultados.\n",
        "\n",
        "Las UDF facilitan la abstracción y la reutilización de lógica de negocio, pero se ejecutan a nivel de fila. En general, los beneficios derivados del coste de refactorizar el código es inferior al tiempo de ejecución cuando el tamaño del dataset es muy grande.\n",
        "\n",
        "\n",
        "Para solventar este problema y vectorizar las operaciones, se usan `pandas_udf`. Además, si se utiliza el backend de arrow (formato de tabla columnar), el rendimiento se ve incrementado.\n",
        "\n",
        "Vamos a ver cuatro ejemplos:\n",
        "1. Una udf normal\n",
        "2. Pandas udf\n",
        "3. Grouped Map\n",
        "4. Grouped Agg\n",
        "\n"
      ],
      "metadata": {
        "id": "kfeViAPvmHDb"
      }
    },
    {
      "cell_type": "markdown",
      "metadata": {
        "id": "HzOfDpk_im-B"
      },
      "source": [
        "## Ejemplo 1"
      ]
    },
    {
      "cell_type": "code",
      "source": [
        "from pyspark.sql.functions import udf,pandas_udf,PandasUDFType\n",
        "from pyspark.sql.types import *\n",
        "\n",
        "@udf\n",
        "def incrementar_col (col):\n",
        "  return col + 1\n",
        "\n",
        "%time\n",
        "df_spark = df_spark.withColumn('incremento',incrementar_col(F.col('total_rooms')))\n",
        "\n",
        "df_spark.withColumn('incremento', F.col('total_rooms') + 1)"
      ],
      "metadata": {
        "id": "prOHfrwN2PfR"
      },
      "execution_count": null,
      "outputs": []
    },
    {
      "cell_type": "markdown",
      "source": [
        "## Ejemplo 2"
      ],
      "metadata": {
        "id": "ruG31bpvl3N9"
      }
    },
    {
      "cell_type": "code",
      "source": [
        "from typing import Iterator, Tuple\n",
        "\n",
        "@pandas_udf(returnType = DoubleType())\n",
        "def calcular_ingresos_brutos(\n",
        "        iterator: Iterator[Tuple[pd.Series, pd.Series]]) -> Iterator[pd.Series]: # por defecto, iterador de entrada\n",
        "    return (households * median_income for households, median_income in iterator)\n",
        "\n",
        "%time\n",
        "df_spark.withColumn(\"ingresos_brutos\", calcular_ingresos_brutos(df_spark['households'],df_spark['median_income'])).show()\n"
      ],
      "metadata": {
        "id": "xAfkbS0yl20L"
      },
      "execution_count": null,
      "outputs": []
    },
    {
      "cell_type": "code",
      "source": [],
      "metadata": {
        "id": "TTnc98j6mDD2"
      },
      "execution_count": null,
      "outputs": []
    },
    {
      "cell_type": "markdown",
      "source": [
        "## Ejemplo 3"
      ],
      "metadata": {
        "id": "A5RvpZH-mEQb"
      }
    },
    {
      "cell_type": "code",
      "source": [
        "schema = StructType([\n",
        "    StructField(\"Casa\", StringType(), True),\n",
        "    StructField(\"median_income\", DoubleType(), True),\n",
        "    StructField('porc_ventas',DoubleType(),True)])\n",
        "\n",
        "@pandas_udf(schema, PandasUDFType.GROUPED_MAP) #returnType, UDFType\n",
        "def calcular_porcentaje(ingreso):\n",
        "    ingresos_totales = ingreso['median_income'].sum()\n",
        "    ingreso['porc_ventas'] = (ingreso['median_income'] / ingresos_totales) * 100\n",
        "    return ingreso[['Casa','median_income', 'porc_ventas']]\n",
        "\n",
        "# Aplicar la UDF agrupando por categoría\n",
        "resultado = df_spark.select(['Casa','median_income']).groupby(\"Casa\").apply(calcular_porcentaje)\n",
        "\n",
        "resultado.show()"
      ],
      "metadata": {
        "id": "FngKL6NUmDbY"
      },
      "execution_count": null,
      "outputs": []
    },
    {
      "cell_type": "markdown",
      "source": [
        "## Ejemplo 4"
      ],
      "metadata": {
        "id": "iWNU6a6emKS6"
      }
    },
    {
      "cell_type": "code",
      "source": [
        "@pandas_udf(FloatType(), PandasUDFType.GROUPED_AGG)\n",
        "def agregar(ingreso):\n",
        "    ingresos_totales = ingreso.sum()\n",
        "    porcentaje =  (ingreso.mean() / ingresos_totales) * 100\n",
        "    return porcentaje.mean()\n",
        "# Aplicar la UDF agrupando por categoría\n",
        "resultado = df_spark.select(['Casa', 'median_income']).groupBy(\"Casa\").agg(agregar(F.col('median_income')).alias('median_income'))\n"
      ],
      "metadata": {
        "id": "QC2zlnxPmLPa"
      },
      "execution_count": null,
      "outputs": []
    }
  ],
  "metadata": {
    "colab": {
      "provenance": [],
      "toc_visible": true
    },
    "kernelspec": {
      "display_name": "Python 3",
      "name": "python3"
    }
  },
  "nbformat": 4,
  "nbformat_minor": 0
}