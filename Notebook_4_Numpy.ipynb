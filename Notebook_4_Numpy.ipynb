{
 "cells": [
  {
   "cell_type": "markdown",
   "metadata": {},
   "source": [
    "# PROGRAMACIÓN II: Numpy\n",
    "\n",
    "### Introducción a NumPy\n",
    "\n",
    "NumPy es la principal librería de Python para realizar cálculos numéricos eficientes y trabajar con datos estructurados en múltiples dimensiones. Es fundamental para tareas relacionadas con Ciencia de Datos, Machine Learning, y procesamiento de grandes volúmenes de datos, ya que proporciona herramientas optimizadas para manejar arrays y matrices de manera rápida y eficaz.\n",
    "\n",
    "---\n",
    "\n",
    "#### **¿Por qué usar NumPy?**\n",
    "\n",
    "1. **Eficiencia**:\n",
    "   - Las operaciones sobre arrays en NumPy están optimizadas en C, lo que las hace considerablemente más rápidas que las operaciones equivalentes en listas nativas de Python.\n",
    "\n",
    "2. **Versatilidad**:\n",
    "   - Soporta operaciones matemáticas avanzadas, estadísticas, álgebra lineal y generación de números aleatorios.\n",
    "\n",
    "3. **Compatibilidad**:\n",
    "   - Es la base de otras librerías populares como Pandas, TensorFlow y scikit-learn.\n",
    "\n",
    "4. **Facilidad de Uso**:\n",
    "   - Su sintaxis es simple y permite realizar cálculos complejos con unas pocas líneas de código.\n",
    "\n",
    "---\n",
    "\n",
    "#### **Componentes principales de NumPy**\n",
    "\n",
    "1. **`ndarray`**:\n",
    "   - La estructura de datos principal de NumPy. Es un contenedor eficiente para datos homogéneos (todos los elementos del mismo tipo).\n",
    "\n",
    "2. **Módulos especializados**:\n",
    "   - **`numpy.linalg`**: Álgebra lineal.\n",
    "   - **`numpy.random`**: Generación de números aleatorios.\n",
    "   - **`numpy.fft`**: Transformadas de Fourier.\n",
    "   - **`numpy.matlib`**: Operaciones con matrices.\n",
    "\n",
    "3. **Operaciones Vectorizadas**:\n",
    "   - Permite realizar cálculos sobre arrays completos sin necesidad de bucles explícitos, lo que mejora la claridad y el rendimiento del código.\n",
    "\n",
    "---\n",
    "\n",
    "#### **¿Qué aprenderás con NumPy?**\n",
    "\n",
    "En esta guía, exploraremos los fundamentos de NumPy, incluyendo:\n",
    "- Creación y manipulación de arrays.\n",
    "- Operaciones matemáticas, estadísticas y de álgebra lineal.\n",
    "- Técnicas avanzadas como la indexación y transformación de datos.\n",
    "- Generación de datos aleatorios para simulaciones y análisis.\n",
    "\n",
    "NumPy es la base de muchas aplicaciones de análisis de datos y aprendizaje automático, por lo que dominar esta librería es esencial para cualquier profesional en este campo."
   ]
  },
  {
   "cell_type": "code",
   "execution_count": 2,
   "metadata": {},
   "outputs": [],
   "source": [
    "import numpy as np"
   ]
  },
  {
   "cell_type": "markdown",
   "metadata": {},
   "source": [
    "## NumPy Arrays\n",
    "\n",
    "El **array** es la estructura de datos fundamental en NumPy. Es un contenedor eficiente diseñado para almacenar y operar con datos homogéneos (todos los elementos deben ser del mismo tipo) en múltiples dimensiones.\n",
    "\n",
    "---\n",
    "\n",
    "### **Características Principales de los Arrays en NumPy**\n",
    "\n",
    "1. **Homogeneidad**:\n",
    "   - Todos los elementos de un array deben ser del mismo tipo (entero, flotante, booleano, etc.).\n",
    "   - Esto permite optimizar operaciones matemáticas y de memoria.\n",
    "\n",
    "2. **Multidimensionalidad**:\n",
    "   - Soporte para arrays de una dimensión (**vectores**), dos dimensiones (**matrices**), o más dimensiones.\n",
    "\n",
    "3. **Eficiencia**:\n",
    "   - Los arrays de NumPy están implementados en C, lo que los hace significativamente más rápidos que las listas nativas de Python para operaciones matemáticas y manipulación de datos.\n",
    "\n",
    "4. **Soporte para Operaciones Vectorizadas**:\n",
    "   - Permite realizar cálculos matemáticos en todo el array sin necesidad de bucles explícitos.\n",
    "\n",
    "---\n",
    "\n",
    "### **Tipos de Arrays en NumPy**\n",
    "\n",
    "1. **Array 1D (Vector)**:\n",
    "   - Es un array de una sola dimensión.\n",
    "   - Ejemplo:\n"
   ]
  },
  {
   "cell_type": "code",
   "execution_count": 3,
   "metadata": {},
   "outputs": [
    {
     "name": "stdout",
     "output_type": "stream",
     "text": [
      "Vector: [1 2 3]\n"
     ]
    }
   ],
   "source": [
    "vector = np.array([1, 2, 3])\n",
    "print(\"Vector:\", vector)\n"
   ]
  },
  {
   "cell_type": "markdown",
   "metadata": {},
   "source": [
    "2. **Array 2D (Matriz)**:\n",
    "   - Es un array con dos dimensiones (filas y columnas).\n",
    "   - Ejemplo:\n"
   ]
  },
  {
   "cell_type": "code",
   "execution_count": 5,
   "metadata": {},
   "outputs": [
    {
     "name": "stdout",
     "output_type": "stream",
     "text": [
      "Matriz:\n",
      "[[1 2 3]\n",
      " [4 5 6]]\n"
     ]
    }
   ],
   "source": [
    "matriz = np.array([[1, 2, 3], [4, 5, 6]])\n",
    "print(\"Matriz:\")\n",
    "print(matriz)"
   ]
  },
  {
   "cell_type": "markdown",
   "metadata": {},
   "source": [
    "3. **Array ND (Multidimensional)**:\n",
    "   - Arrays con más de dos dimensiones, útiles para imágenes, datos volumétricos, etc.\n",
    "   - Ejemplo:\n"
   ]
  },
  {
   "cell_type": "code",
   "execution_count": 4,
   "metadata": {},
   "outputs": [
    {
     "name": "stdout",
     "output_type": "stream",
     "text": [
      "Array 3D:\n",
      "[[[1 2]\n",
      "  [3 4]]\n",
      "\n",
      " [[5 6]\n",
      "  [7 8]]]\n"
     ]
    }
   ],
   "source": [
    "array_3d = np.array([[[1, 2], [3, 4]], [[5, 6], [7, 8]]])\n",
    "print(\"Array 3D:\")\n",
    "print(array_3d)"
   ]
  },
  {
   "cell_type": "markdown",
   "metadata": {},
   "source": [
    "### **Argumentos de los Arrays en NumPy**\n",
    "\n",
    "Cuando creamos un array en NumPy utilizando la función `np.array()`, podemos personalizar su comportamiento mediante los argumentos que acepta esta función. Estos argumentos nos permiten especificar detalles como el tipo de datos, la copia de memoria, el orden de los datos, entre otros.\n",
    "\n",
    "---\n",
    "\n",
    "#### Sintaxis General de `np.array()`"
   ]
  },
  {
   "cell_type": "code",
   "execution_count": null,
   "metadata": {},
   "outputs": [],
   "source": [
    "np.array(object, dtype=None, copy=True, order='K', subok=False, ndmin=0)"
   ]
  },
  {
   "cell_type": "markdown",
   "metadata": {},
   "source": [
    "A continuación, desglosamos cada argumento con ejemplos prácticos.\n",
    "\n",
    "---\n",
    "\n",
    "#### **1. `object` (Obligatorio)**\n",
    "\n",
    "El objeto de entrada que será convertido en un array. Puede ser una lista, tupla, array existente u otros objetos similares.\n",
    "\n",
    "**Ejemplo:**\n"
   ]
  },
  {
   "cell_type": "code",
   "execution_count": 6,
   "metadata": {},
   "outputs": [
    {
     "name": "stdout",
     "output_type": "stream",
     "text": [
      "[1 2 3]\n"
     ]
    }
   ],
   "source": [
    "# El parámetro object puede ser una lista, una tupla, un array de numpy, etc.\n",
    "lista = [1, 2, 3]\n",
    "array = np.array(lista) # Pasamos la lista a un array de numpy\n",
    "print(array)  # Salida: [1 2 3]\n"
   ]
  },
  {
   "cell_type": "markdown",
   "metadata": {},
   "source": [
    "\n",
    "---\n",
    "\n",
    "#### **2. `dtype` (Opcional)**\n",
    "\n",
    "Especifica el tipo de datos del array resultante. Si no se indica, NumPy lo infiere automáticamente.\n",
    "\n",
    "**Ejemplo:**\n"
   ]
  },
  {
   "cell_type": "code",
   "execution_count": 8,
   "metadata": {},
   "outputs": [
    {
     "name": "stdout",
     "output_type": "stream",
     "text": [
      "[1.2 2.3 3.5]\n"
     ]
    }
   ],
   "source": [
    "# Especificamos el tipo de dato de los elementos del array\n",
    "array = np.array([1.2, 2.3, 3.5], dtype=float) # Array de floats\n",
    "print(array)  # Salida: [1. 2. 3.]"
   ]
  },
  {
   "cell_type": "markdown",
   "metadata": {},
   "source": [
    "\n",
    "**Notas:**\n",
    "- Tipos comunes: `int`, `float`, `bool`, `complex`, entre otros.\n",
    "- Puede ser útil para optimizar memoria o precisión en cálculos.\n",
    "\n",
    "---\n",
    "\n",
    "#### **3. `copy` (Opcional, por defecto `True`)**\n",
    "\n",
    "Indica si el array debe ser una copia del objeto de entrada o si puede compartir memoria con el original.\n",
    "\n",
    "**Ejemplo:**\n",
    "\n",
    "\n"
   ]
  },
  {
   "cell_type": "code",
   "execution_count": 9,
   "metadata": {},
   "outputs": [
    {
     "name": "stdout",
     "output_type": "stream",
     "text": [
      "True\n"
     ]
    }
   ],
   "source": [
    "original = np.array([1, 2, 3])\n",
    "\n",
    "# Nos permite copiar el array original y modificar la copia sin modificar el original y ahorrar memoria\n",
    "copia = np.array(original, copy=False) # El argumento object en este caso es un array de numpy\n",
    "print(original is copia)  # Salida: True (comparten memoria)"
   ]
  },
  {
   "cell_type": "markdown",
   "metadata": {},
   "source": [
    "**Notas:**\n",
    "- Si el objeto ya es un array (`ndarray`) y `copy=False`, se evita hacer una copia redundante.\n",
    "\n",
    "---\n",
    "\n",
    "#### **4. `order` (Opcional, por defecto `'K'`)**\n",
    "\n",
    "Define cómo se almacenan los datos en memoria:\n",
    "- `'C'`: Orden por filas (estilo C).\n",
    "- `'F'`: Orden por columnas (estilo Fortran).\n",
    "- `'A'`: Hereda el orden del objeto original.\n",
    "- `'K'`: Mantiene el orden del objeto siempre que sea posible.\n",
    "\n",
    "**Ejemplo:**\n"
   ]
  },
  {
   "cell_type": "code",
   "execution_count": 11,
   "metadata": {},
   "outputs": [
    {
     "name": "stdout",
     "output_type": "stream",
     "text": [
      "Orden C:\n",
      "[[1 2]\n",
      " [3 4]]\n",
      "Es C_CONTIGUOUS: True\n",
      "Es F_CONTIGUOUS: False\n",
      "\n",
      "Orden Fortran:\n",
      "[[1 2]\n",
      " [3 4]]\n",
      "Es C_CONTIGUOUS: False\n",
      "Es F_CONTIGUOUS: True\n",
      "\n",
      "Orden A (heredado):\n",
      "[[1 2]\n",
      " [3 4]]\n",
      "Es C_CONTIGUOUS: True\n",
      "Es F_CONTIGUOUS: False\n",
      "\n",
      "Orden K (más eficiente):\n",
      "[[1 2]\n",
      " [3 4]]\n",
      "Es C_CONTIGUOUS: True\n",
      "Es F_CONTIGUOUS: False\n"
     ]
    }
   ],
   "source": [
    "import numpy as np\n",
    "\n",
    "# Array inicial con orden C\n",
    "array = np.array([[1, 2], [3, 4]], order='C')  # Almacenado en orden C\n",
    "print(\"Orden C:\")\n",
    "print(array)\n",
    "print(\"Es C_CONTIGUOUS:\", array.flags['C_CONTIGUOUS'])  # True\n",
    "print(\"Es F_CONTIGUOUS:\", array.flags['F_CONTIGUOUS'])  # False\n",
    "print()\n",
    "\n",
    "# Array convertido a orden Fortran\n",
    "array2 = np.array(array, order='F')  # Convertimos a orden Fortran\n",
    "print(\"Orden Fortran:\")\n",
    "print(array2)\n",
    "print(\"Es C_CONTIGUOUS:\", array2.flags['C_CONTIGUOUS'])  # False\n",
    "print(\"Es F_CONTIGUOUS:\", array2.flags['F_CONTIGUOUS'])  # True\n",
    "print()\n",
    "\n",
    "# Array convertido con orden A (hereda del objeto original)\n",
    "array3 = np.array(array, order='A')  # Hereda el orden del array original\n",
    "print(\"Orden A (heredado):\")\n",
    "print(array3)\n",
    "print(\"Es C_CONTIGUOUS:\", array3.flags['C_CONTIGUOUS'])  # True (igual que el original)\n",
    "print(\"Es F_CONTIGUOUS:\", array3.flags['F_CONTIGUOUS'])  # False (igual que el original)\n",
    "print()\n",
    "\n",
    "# Array convertido con orden K (más eficiente)\n",
    "array4 = np.array(array, order='K')  # Elige el orden más eficiente\n",
    "print(\"Orden K (más eficiente):\")\n",
    "print(array4)\n",
    "print(\"Es C_CONTIGUOUS:\", array4.flags['C_CONTIGUOUS'])  # True (en este caso)\n",
    "print(\"Es F_CONTIGUOUS:\", array4.flags['F_CONTIGUOUS'])  # False\n"
   ]
  },
  {
   "cell_type": "markdown",
   "metadata": {},
   "source": [
    "### Explicación:\n",
    "\n",
    "1. **Orden C**:\n",
    "   - Los datos están almacenados por filas (C-style).\n",
    "\n",
    "2. **Orden Fortran**:\n",
    "   - Los datos están almacenados por columnas (Fortran-style).\n",
    "\n",
    "3. **Orden A**:\n",
    "   - Hereda el orden del array original. Aquí coincide con el orden C.\n",
    "\n",
    "4. **Orden K**:\n",
    "   - Usa el orden más eficiente posible basado en el almacenamiento existente. Aquí también coincide con C debido al objeto original.\n"
   ]
  },
  {
   "cell_type": "markdown",
   "metadata": {},
   "source": [
    "#### **5. `subok` (Opcional, por defecto `False`)**\n",
    "\n",
    "Permite que las subclases de `ndarray` se conserven. Si es `False`, siempre devuelve un `ndarray` estándar.\n",
    "\n",
    "El argumento **`subok`** en la función `np.array()` controla si las **subclases de `ndarray`** se conservan al convertir un objeto a un array. Esto es importante en casos donde el objeto de entrada es una subclase personalizada de `ndarray` (por ejemplo, `numpy.matrix`).\n",
    "\n",
    "---\n",
    "\n",
    "### ¿Qué es una subclase de `ndarray`?\n",
    "\n",
    "En NumPy, el objeto básico para trabajar con datos es el `ndarray`. Sin embargo, hay subclases que heredan de `ndarray` y añaden funcionalidad específica. Por ejemplo:\n",
    "- **`numpy.matrix`**: Es una subclase de `ndarray` diseñada para cálculos matriciales, que siempre retorna matrices 2D.\n",
    "\n",
    "---\n",
    "\n",
    "### ¿Qué hace el argumento `subok`?\n",
    "\n",
    "1. **`subok=True`**:\n",
    "   - Si el objeto de entrada es una subclase de `ndarray`, NumPy devuelve un objeto de la misma subclase en lugar de un `ndarray` estándar.\n",
    "   - Es decir, **se conserva el tipo del objeto de entrada**.\n",
    "\n",
    "2. **`subok=False` (comportamiento por defecto)**:\n",
    "   - Ignora si el objeto de entrada es una subclase y siempre devuelve un `ndarray` estándar.\n",
    "\n",
    "### ¿Por qué es útil?\n",
    "\n",
    "El argumento `subok` permite controlar si se respeta la naturaleza del objeto de entrada o si se fuerza a un `ndarray` estándar. Esto es importante en escenarios donde las subclases tienen un comportamiento especial que necesitas conservar.\n",
    "\n",
    "\n",
    "**Ejemplo:**\n"
   ]
  },
  {
   "cell_type": "code",
   "execution_count": 12,
   "metadata": {},
   "outputs": [
    {
     "name": "stdout",
     "output_type": "stream",
     "text": [
      "<class 'numpy.matrix'>\n"
     ]
    }
   ],
   "source": [
    "from numpy import matrix\n",
    "matriz = matrix([[1, 2], [3, 4]])\n",
    "array = np.array(matriz, subok=True)\n",
    "print(type(array))  # Salida: <class 'numpy.matrix'>"
   ]
  },
  {
   "cell_type": "markdown",
   "metadata": {},
   "source": [
    "#### **6. `ndmin` (Opcional, por defecto `0`)**\n",
    "\n",
    "Establece el número mínimo de dimensiones del array. Si el objeto tiene menos dimensiones, se añaden dimensiones adicionales.\n",
    "\n",
    "**Ejemplo:**\n",
    "\n"
   ]
  },
  {
   "cell_type": "code",
   "execution_count": 19,
   "metadata": {},
   "outputs": [
    {
     "name": "stdout",
     "output_type": "stream",
     "text": [
      "(3,)\n",
      "(1, 3)\n",
      "(1, 1, 3)\n",
      "(1, 1, 1, 3)\n"
     ]
    }
   ],
   "source": [
    "array = np.array([1, 2, 3])\n",
    "print(array.shape)  # Salida: (3,) (Array unidimensional)\n",
    "\n",
    "array2 = np.array(array, ndmin=2)\n",
    "print(array2.shape)  # Salida: (1, 3) (Array bidimensional)\n",
    "\n",
    "array3 = np.array(array, ndmin=3)\n",
    "print(array3.shape)  # Salida: (1, 1, 3) (Array tridimensional)\n",
    "\n",
    "array4 = np.array(array, ndmin=4)\n",
    "print(array4.shape)  # Salida: (1, 1, 1, 3) (Array de 4 dimensiones)"
   ]
  },
  {
   "cell_type": "markdown",
   "metadata": {},
   "source": [
    "### Resumen de Argumentos\n",
    "\n",
    "| Argumento  | Descripción                                                 | Valor por Defecto |\n",
    "|------------|-------------------------------------------------------------|-------------------|\n",
    "| `object`   | Objeto que se convertirá en un array.                       | Obligatorio       |\n",
    "| `dtype`    | Especifica el tipo de datos del array.                      | `None`            |\n",
    "| `copy`     | Indica si se debe crear una copia del objeto de entrada.    | `True`            |\n",
    "| `order`    | Orden en memoria: `'C'`, `'F'`, `'A'` o `'K'`.             | `'K'`             |\n",
    "| `subok`    | Permite subclases de `ndarray` si es `True`.                | `False`           |\n",
    "| `ndmin`    | Número mínimo de dimensiones del array.                     | `0`               |\n",
    "\n",
    "### Ejemplo Combinado\n"
   ]
  },
  {
   "cell_type": "code",
   "execution_count": 20,
   "metadata": {},
   "outputs": [
    {
     "name": "stdout",
     "output_type": "stream",
     "text": [
      "Array:\n",
      "[[1. 2. 3.]]\n",
      "Dimensiones: 2\n",
      "Forma: (1, 3)\n",
      "Tipo de dato: float64\n"
     ]
    }
   ],
   "source": [
    "import numpy as np\n",
    "\n",
    "lista = [1, 2, 3]\n",
    "array = np.array(lista, dtype=float, copy=True, order='C', ndmin=2)\n",
    "\n",
    "print(\"Array:\")\n",
    "print(array)\n",
    "print(\"Dimensiones:\", array.ndim)  # 2\n",
    "print(\"Forma:\", array.shape)       # (1, 3)\n",
    "print(\"Tipo de dato:\", array.dtype)  # float64"
   ]
  },
  {
   "cell_type": "markdown",
   "metadata": {},
   "source": [
    "### **Propiedades de los Arrays**\n",
    "---\n",
    "\n",
    "A diferencia de los **argumentos** que se utilizan al crear un array con **`np.array`**, las **propiedades** permiten analizar y manipular arrays ya creados. Estas propiedades son útiles para explorar características generales del array, como su forma, tamaño o tipo de datos, sin necesidad de modificar directamente su contenido o estructura. Esto es especialmente práctico cuando trabajamos con conjuntos de datos importados, ya que nos permite obtener una visión general y realizar transformaciones a nivel global sin editar cada fila o columna individualmente.\n",
    "\n",
    "---\n",
    "\n",
    "\n",
    "NumPy ofrece métodos para inspeccionar y manipular arrays:\n"
   ]
  },
  {
   "cell_type": "markdown",
   "metadata": {},
   "source": [
    "## **Tenemos:**\n",
    "\n",
    "1. **`ndim`**:\n",
    "   - Muestra el número de dimensiones del array.\n",
    "   - **Ejemplo**:\n"
   ]
  },
  {
   "cell_type": "code",
   "execution_count": 21,
   "metadata": {},
   "outputs": [
    {
     "name": "stdout",
     "output_type": "stream",
     "text": [
      "2\n"
     ]
    }
   ],
   "source": [
    "import numpy as np\n",
    "array = np.array([[1, 2], [3, 4]])\n",
    "print(array.ndim)"
   ]
  },
  {
   "cell_type": "markdown",
   "metadata": {},
   "source": [
    "Es útil para:\n",
    "\n",
    "1. **Inspección de datos**:\n",
    "   - Determinar si los datos son unidimensionales (vectores), bidimensionales (matrices) o tienen más dimensiones (arrays ND).\n",
    "\n",
    "2. **Validación**:\n",
    "   - Comprobar si los datos tienen las dimensiones esperadas antes de realizar operaciones específicas.\n",
    "\n",
    "3. **Optimización de código**:\n",
    "   - Ajustar procesos o algoritmos en función de la dimensionalidad del array.\n",
    "\n",
    "4. **Preparación de datos**:\n",
    "   - Identificar cuándo es necesario modificar las dimensiones del array utilizando métodos como `reshape` o `expand_dims`.\n",
    "\n",
    "5. **Análisis estructural**:\n",
    "   - Comprender la organización interna de los datos, especialmente en casos de análisis multidimensional, como imágenes o datos volumétricos.\n",
    "\n",
    "Este atributo es clave para garantizar que las operaciones sobre arrays sean aplicadas correctamente según su dimensionalidad. \n",
    "\n",
    "---"
   ]
  },
  {
   "cell_type": "markdown",
   "metadata": {},
   "source": [
    "2. **`shape`**:\n",
    "   - Devuelve una tupla que describe el número de elementos en cada dimensión.\n",
    "   - **Ejemplo**:\n",
    "\n"
   ]
  },
  {
   "cell_type": "code",
   "execution_count": 22,
   "metadata": {},
   "outputs": [
    {
     "name": "stdout",
     "output_type": "stream",
     "text": [
      "(2, 2)\n"
     ]
    }
   ],
   "source": [
    "array = np.array([[1, 2], [3, 4]])\n",
    "print(array.shape) "
   ]
  },
  {
   "cell_type": "markdown",
   "metadata": {},
   "source": [
    "Es útil para:\n",
    "\n",
    "1. **Inspección de la estructura de datos**:\n",
    "   - Verificar cómo están organizados los elementos en el array, como filas y columnas en matrices o dimensiones en arrays ND.\n",
    "\n",
    "2. **Validación**:\n",
    "   - Comprobar si la forma del array coincide con los requisitos de un modelo o algoritmo antes de realizar operaciones.\n",
    "\n",
    "3. **Transformaciones**:\n",
    "   - Utilizar la información de la forma para reorganizar los datos con métodos como `reshape` o para adaptar arrays a formas compatibles.\n",
    "\n",
    "4. **Indexación avanzada**:\n",
    "   - Facilitar operaciones basadas en dimensiones específicas del array.\n",
    "\n",
    "5. **Análisis estructural**:\n",
    "   - Entender la composición de datos multidimensionales en áreas como procesamiento de imágenes, análisis científico o aprendizaje automático.\n",
    "\n",
    "El atributo `shape` es esencial para comprender y manipular la disposición de los datos en arrays. \n",
    "\n",
    "---"
   ]
  },
  {
   "cell_type": "markdown",
   "metadata": {},
   "source": [
    "3. **`size`**:\n",
    "   - Número total de elementos en el array.\n",
    "   - **Ejemplo**:"
   ]
  },
  {
   "cell_type": "code",
   "execution_count": null,
   "metadata": {},
   "outputs": [],
   "source": [
    "array = np.array([[1, 2], [3, 4]])\n",
    "print(array.size)  # Salida: 4"
   ]
  },
  {
   "cell_type": "markdown",
   "metadata": {},
   "source": [
    "Es útil para:\n",
    "\n",
    "1. **Inspección de datos**:\n",
    "   - Saber cuántos elementos contiene el array, independientemente de su dimensionalidad o forma.\n",
    "\n",
    "2. **Validación**:\n",
    "   - Comprobar si la cantidad de datos en el array coincide con las expectativas o requisitos de una operación o modelo.\n",
    "\n",
    "3. **Cálculos de memoria**:\n",
    "   - Determinar el espacio que ocupa un array en memoria junto con `itemsize` o `nbytes`.\n",
    "\n",
    "4. **Preparación de datos**:\n",
    "   - Confirmar que el número total de elementos permite realizar transformaciones, como `reshape`, sin perder datos.\n",
    "\n",
    "5. **Optimización**:\n",
    "   - Ajustar procesos que dependen de la cantidad total de datos, como divisiones en lotes o particionamiento.\n",
    "\n",
    "El atributo `size` es clave para entender el volumen total de datos almacenados en un array y planificar operaciones en consecuencia.\n",
    "\n",
    "---"
   ]
  },
  {
   "cell_type": "markdown",
   "metadata": {},
   "source": [
    "4. **`dtype`**:\n",
    "   - Muestra el tipo de datos de los elementos del array.\n",
    "   - **Ejemplo**:"
   ]
  },
  {
   "cell_type": "code",
   "execution_count": null,
   "metadata": {},
   "outputs": [],
   "source": [
    "array = np.array([1, 2, 3], dtype=float)\n",
    "print(array.dtype)  # Salida: float64"
   ]
  },
  {
   "cell_type": "markdown",
   "metadata": {},
   "source": [
    "Esto es útil para:\n",
    "\n",
    "1. **Inspección de datos**:\n",
    "   - Verificar qué tipo de datos (por ejemplo, `int`, `float`, `bool`, `complex`, etc.) están almacenados en el array.\n",
    "\n",
    "2. **Optimización de memoria**:\n",
    "   - Permite elegir tipos de datos más compactos (como `int8` o `float32`) para ahorrar espacio en memoria, especialmente al trabajar con grandes volúmenes de datos.\n",
    "\n",
    "3. **Precisión en cálculos**:\n",
    "   - Garantiza que los cálculos numéricos se realicen con la precisión deseada, seleccionando tipos como `float64` o `complex128`.\n",
    "\n",
    "4. **Compatibilidad**:\n",
    "   - Facilita la interoperabilidad con otras bibliotecas o sistemas que requieren un tipo de datos específico.\n",
    "\n",
    "5. **Transformaciones de tipos**:\n",
    "   - Usar la propiedad `dtype` junto con funciones como `astype` permite convertir los datos a otro tipo cuando sea necesario.\n",
    "\n",
    "El atributo `dtype` es fundamental para comprender cómo están representados los datos dentro de un array y planificar operaciones de manera eficiente. \n",
    "\n",
    "---"
   ]
  },
  {
   "cell_type": "markdown",
   "metadata": {},
   "source": [
    "5. **`itemsize`**:\n",
    "   - Tamaño (en bytes) de cada elemento del array.\n",
    "   - **Ejemplo**:\n"
   ]
  },
  {
   "cell_type": "code",
   "execution_count": null,
   "metadata": {},
   "outputs": [],
   "source": [
    "array = np.array([1, 2, 3], dtype=np.int32)\n",
    "print(array.itemsize)  # Salida: 4 (int32 usa 4 bytes)"
   ]
  },
  {
   "cell_type": "markdown",
   "metadata": {},
   "source": [
    "Esto es útil para:\n",
    "\n",
    "1. **Cálculo de memoria**:\n",
    "   - Determinar cuánto espacio ocupa cada elemento del array en memoria. Esto es especialmente importante al trabajar con grandes volúmenes de datos.\n",
    "\n",
    "2. **Optimización de recursos**:\n",
    "   - Ayuda a decidir el tipo de datos más eficiente (`int8`, `float32`, etc.) para reducir el uso de memoria, manteniendo un balance entre precisión y almacenamiento.\n",
    "\n",
    "3. **Análisis de tipos de datos**:\n",
    "   - Verificar si el tipo de datos seleccionado es adecuado para el rango de valores que se van a manejar.\n",
    "\n",
    "4. **Compatibilidad con hardware**:\n",
    "   - Asegurarse de que los datos tengan el tamaño adecuado para operaciones específicas, como cálculos en GPUs o dispositivos de bajo rendimiento.\n",
    "\n",
    "El tamaño en bytes de cada tipo de datos depende directamente del tipo (`dtype`) del array. Por ejemplo:\n",
    "- `int32` utiliza 4 bytes (32 bits).\n",
    "- `float64` utiliza 8 bytes (64 bits).\n",
    "\n",
    "El atributo `itemsize` es esencial para evaluar el impacto en memoria y garantizar un uso eficiente de los recursos.\n",
    "\n",
    "---"
   ]
  },
  {
   "cell_type": "markdown",
   "metadata": {},
   "source": [
    "\n",
    "6. **`nbytes`**:\n",
    "   - Tamaño total del array en memoria (en bytes).\n",
    "   - Calculado como `size * itemsize`.\n",
    "   - **Ejemplo**:\n"
   ]
  },
  {
   "cell_type": "code",
   "execution_count": null,
   "metadata": {},
   "outputs": [],
   "source": [
    "array = np.array([1, 2, 3], dtype=np.int32)\n",
    "print(array.nbytes)  # Salida: 12 (3 elementos * 4 bytes cada uno)"
   ]
  },
  {
   "cell_type": "markdown",
   "metadata": {},
   "source": [
    "Esto es útil para:\n",
    "\n",
    "1. **Estimación del uso de memoria total**:\n",
    "   - Determinar cuánto espacio ocupa todo el array en memoria, basado en el tamaño de sus elementos (`itemsize`) y el número total de elementos (`size`).\n",
    "\n",
    "2. **Optimización de memoria en grandes arrays**:\n",
    "   - Identificar arrays que ocupan mucho espacio y considerar la posibilidad de reducir el tipo de datos (`dtype`) para ahorrar memoria.\n",
    "\n",
    "3. **Cálculo de recursos para almacenamiento o transferencia**:\n",
    "   - Ayuda a prever los recursos necesarios para almacenar o transferir datos, especialmente en redes, sistemas distribuidos o almacenamiento externo.\n",
    "\n",
    "4. **Depuración de problemas de memoria**:\n",
    "   - Verificar si el uso total de memoria de un array es adecuado para el hardware disponible, especialmente en sistemas con limitaciones de RAM.\n",
    "\n",
    "El tamaño total en bytes es calculado como:\n",
    "```\n",
    "nbytes = size * itemsize\n",
    "```\n",
    "Por ejemplo:\n",
    "- Un array con 3 elementos de tipo `int32` (4 bytes por elemento) ocupa `3 * 4 = 12 bytes`.\n",
    "\n",
    "El atributo `nbytes` es crucial para optimizar aplicaciones que trabajan con grandes volúmenes de datos o sistemas con recursos limitados.\n",
    "\n",
    "---"
   ]
  },
  {
   "cell_type": "markdown",
   "metadata": {},
   "source": [
    "\n",
    "7. **`T`** (Transpuesta):\n",
    "   - Devuelve la transpuesta del array (intercambia filas y columnas en un array 2D).\n",
    "   - **Ejemplo**:"
   ]
  },
  {
   "cell_type": "code",
   "execution_count": null,
   "metadata": {},
   "outputs": [],
   "source": [
    "array = np.array([[1, 2], [3, 4]])\n",
    "print(array.T)"
   ]
  },
  {
   "cell_type": "markdown",
   "metadata": {},
   "source": [
    "Esto es útil para:\n",
    "\n",
    "1. **Intercambiar filas y columnas**:\n",
    "   - Cambiar la orientación de los datos en un array bidimensional (matriz), convirtiendo filas en columnas y viceversa.\n",
    "\n",
    "2. **Procesamiento de datos matriciales**:\n",
    "   - Facilitar operaciones que dependen de la disposición de los datos, como productos matriciales o análisis en álgebra lineal.\n",
    "\n",
    "3. **Compatibilidad con funciones matemáticas**:\n",
    "   - Alinear los datos según la estructura requerida para funciones específicas, especialmente en bibliotecas como NumPy o SciPy.\n",
    "\n",
    "4. **Preparación de datos**:\n",
    "   - Ajustar la forma de los datos para su visualización o análisis, asegurando que estén en la disposición deseada.\n",
    "\n",
    "**Nota**:\n",
    "- El atributo `.T` no crea una copia de los datos, sino que devuelve una vista transpuesta del array original. Esto hace que sea eficiente en términos de memoria.\n",
    "\n",
    "---"
   ]
  },
  {
   "cell_type": "markdown",
   "metadata": {},
   "source": [
    "\n",
    "8. **`flat`**:\n",
    "   - Iterador que permite recorrer los elementos del array como si fuera 1D.\n",
    "   - **Ejemplo**:\n"
   ]
  },
  {
   "cell_type": "code",
   "execution_count": null,
   "metadata": {},
   "outputs": [],
   "source": [
    "array = np.array([[1, 2], [3, 4]])\n",
    "for elem in array.flat:\n",
    "    print(elem)"
   ]
  },
  {
   "cell_type": "markdown",
   "metadata": {},
   "source": [
    "Esto es útil para:\n",
    "\n",
    "1. **Iterar sobre todos los elementos de un array multidimensional**:\n",
    "   - Permite recorrer los elementos de un array como si fueran unidimensionales, sin importar su estructura original.\n",
    "\n",
    "2. **Acceso secuencial a los datos**:\n",
    "   - Facilita el acceso a cada elemento en orden, útil para operaciones que procesan datos elemento por elemento.\n",
    "\n",
    "3. **Procesamiento eficiente de datos**:\n",
    "   - Proporciona una forma directa de iterar sin necesidad de anidar bucles para recorrer filas y columnas.\n",
    "\n",
    "4. **Compatibilidad con algoritmos**:\n",
    "   - Asegura que los datos se puedan procesar en secuencia, lo que puede ser útil en algoritmos que requieren acceso secuencial.\n",
    "\n",
    "**Nota**:\n",
    "- El atributo `.flat` devuelve un **iterador** que recorre todos los elementos del array en orden de almacenamiento (C o Fortran, según corresponda).\n",
    "- No crea una copia del array, por lo que es eficiente en términos de memoria.\n",
    "\n",
    "---"
   ]
  },
  {
   "cell_type": "markdown",
   "metadata": {},
   "source": [
    "\n",
    "9. **`base`**:\n",
    "    - Muestra si el array comparte memoria con otro objeto.\n",
    "    - **Ejemplo**:\n"
   ]
  },
  {
   "cell_type": "code",
   "execution_count": null,
   "metadata": {},
   "outputs": [],
   "source": [
    "original = np.array([1, 2, 3])\n",
    "view = original[1:]  # Crea una vista del array\n",
    "print(view.base is original)  "
   ]
  },
  {
   "cell_type": "markdown",
   "metadata": {},
   "source": [
    "Esto es útil para:\n",
    "\n",
    "1. **Verificar si un array es una vista de otro**:\n",
    "   - Permite comprobar si un array comparte datos con otro array original, en lugar de ser una copia independiente.\n",
    "\n",
    "2. **Optimización de memoria**:\n",
    "   - Identificar cuándo los datos se comparten entre arrays, lo que evita duplicación innecesaria en memoria.\n",
    "\n",
    "3. **Depuración y validación**:\n",
    "   - Garantiza que las operaciones realizadas en vistas no alteren el array original de forma inesperada, o viceversa.\n",
    "\n",
    "4. **Análisis de estructura y relaciones**:\n",
    "   - Facilita entender cómo se relacionan los arrays derivados de un array base, especialmente en aplicaciones donde se crean múltiples vistas para diferentes operaciones.\n",
    "\n",
    "**Nota**:\n",
    "- El atributo `.base` apunta al array original del cual se derivó la vista.\n",
    "- Si un array no es una vista, su atributo `.base` será `None`.\n",
    "\n",
    "---"
   ]
  },
  {
   "cell_type": "markdown",
   "metadata": {},
   "source": [
    "\n",
    "10. **`strides`**:\n",
    "    - Describe cómo avanzar en memoria para moverse de un elemento a otro en cada dimensión.\n",
    "    - **Ejemplo**:\n"
   ]
  },
  {
   "cell_type": "code",
   "execution_count": null,
   "metadata": {},
   "outputs": [],
   "source": [
    "array = np.array([[1, 2], [3, 4]])\n",
    "print(array.strides)  # Salida: (8, 4) (en bytes, depende del tipo de datos)"
   ]
  },
  {
   "cell_type": "markdown",
   "metadata": {},
   "source": [
    "Esto es útil para:\n",
    "\n",
    "1. **Comprender el almacenamiento en memoria**:\n",
    "   - El atributo **`strides`** indica el número de bytes necesarios para moverse entre elementos a lo largo de cada dimensión del array. Esto refleja cómo se organizan los datos en memoria.\n",
    "\n",
    "2. **Optimización del acceso a datos**:\n",
    "   - Ayuda a analizar y optimizar el rendimiento de operaciones que implican acceso secuencial a los elementos del array.\n",
    "\n",
    "3. **Depuración de transformaciones**:\n",
    "   - Facilita la identificación de problemas al trabajar con operaciones como `reshape` o al crear vistas que cambian la forma del array.\n",
    "\n",
    "4. **Compatibilidad con órdenes de memoria**:\n",
    "   - Verifica si los datos se almacenan en orden C (por filas) o Fortran (por columnas), lo cual es importante en aplicaciones que dependen de un almacenamiento específico.\n",
    "\n",
    "**Nota**:\n",
    "- El valor de `strides` depende del tipo de datos (`dtype`) y del orden de almacenamiento en memoria:\n",
    "  - Para un array de `int32` (4 bytes por elemento) con forma `(2, 2)`:\n",
    "    - `strides = (8, 4)` significa que:\n",
    "      - Moverse entre filas requiere 8 bytes (2 elementos por fila × 4 bytes).\n",
    "      - Moverse entre columnas requiere 4 bytes (1 elemento por columna × 4 bytes).\n",
    "\n",
    "\n",
    "---"
   ]
  },
  {
   "cell_type": "markdown",
   "metadata": {},
   "source": [
    "\n",
    "11. **`reshape`**:\n",
    "    - Cambia la forma del array sin modificar su contenido.\n",
    "    - **Ejemplo**:\n"
   ]
  },
  {
   "cell_type": "code",
   "execution_count": null,
   "metadata": {},
   "outputs": [],
   "source": [
    "array = np.array([1, 2, 3, 4])\n",
    "reshaped = array.reshape((2, 2))\n",
    "print(reshaped)"
   ]
  },
  {
   "cell_type": "markdown",
   "metadata": {},
   "source": [
    "Esto es útil para:\n",
    "\n",
    "1. **Reorganizar la estructura de datos**:\n",
    "   - El método **`reshape`** permite cambiar la forma de un array sin alterar sus datos, reorganizándolos en nuevas dimensiones.\n",
    "\n",
    "2. **Preparar datos para modelos o algoritmos**:\n",
    "   - Es esencial para ajustar la forma de los datos según los requisitos de modelos de machine learning, redes neuronales o algoritmos de procesamiento de datos.\n",
    "\n",
    "3. **Manipulación multidimensional**:\n",
    "   - Facilita transformar arrays unidimensionales en matrices o arrays con más dimensiones para su análisis o visualización.\n",
    "\n",
    "4. **Validación de compatibilidad**:\n",
    "   - Garantiza que la nueva forma sea compatible con el número total de elementos del array original. Si no lo es, se lanza un error.\n",
    "\n",
    "**Nota**:\n",
    "- El método `reshape` no crea una copia de los datos si no es necesario; en su lugar, devuelve una vista del array original, siempre que sea posible.\n",
    "\n"
   ]
  },
  {
   "cell_type": "markdown",
   "metadata": {},
   "source": [
    "---\n",
    "\n",
    "12.  **`split`**:\n",
    "   - Divide un array en múltiples sub-arrays según un número específico de divisiones.\n",
    "   - **Ejemplo**:"
   ]
  },
  {
   "cell_type": "code",
   "execution_count": 29,
   "metadata": {},
   "outputs": [
    {
     "name": "stdout",
     "output_type": "stream",
     "text": [
      "[array([1, 2]), array([3, 4]), array([5, 6])]\n"
     ]
    }
   ],
   "source": [
    "array = np.array([1, 2, 3, 4, 5, 6])\n",
    "sub_arrays = np.split(array, 3)\n",
    "print(sub_arrays)"
   ]
  },
  {
   "cell_type": "markdown",
   "metadata": {},
   "source": [
    "Esto es útil para:\n",
    "\n",
    "1. **División de datos en partes más pequeñas**:\n",
    "   - Permite segmentar arrays grandes en sub-arrays más manejables para análisis o procesamiento por lotes.\n",
    "\n",
    "2. **Preparación de datos para paralelización**:\n",
    "   - Facilita la distribución de datos entre múltiples procesos o threads, optimizando el rendimiento en tareas de computación intensiva.\n",
    "\n",
    "3. **Manipulación de datos secuenciales**:\n",
    "   - Divide datos unidimensionales en fragmentos para operaciones independientes, como análisis de series temporales.\n",
    "\n",
    "4. **Validación de partición uniforme**:\n",
    "   - Garantiza que el número total de elementos en el array original sea divisible por el número de particiones. Si no lo es, genera un error.\n",
    "\n",
    "**Nota**:\n",
    "- Si necesitas dividir un array en secciones desiguales, puedes usar **`np.array_split`** en lugar de `np.split`.\n",
    "\n"
   ]
  },
  {
   "cell_type": "markdown",
   "metadata": {},
   "source": [
    "\n",
    "---\n",
    "\n",
    "### Resumen\n",
    "\n",
    "| Propiedad     | Descripción                                    | Ejemplo de Salida      |\n",
    "|---------------|------------------------------------------------|------------------------|\n",
    "| `ndim`        | Número de dimensiones del array.               | `2`                   |\n",
    "| `shape`       | Forma del array (elementos por dimensión).     | `(2, 2)`              |\n",
    "| `size`        | Número total de elementos.                     | `4`                   |\n",
    "| `dtype`       | Tipo de datos de los elementos.                | `float64`             |\n",
    "| `itemsize`    | Tamaño en bytes de cada elemento.              | `4`                   |\n",
    "| `nbytes`      | Tamaño total en memoria en bytes.              | `12`                  |\n",
    "| `T`           | Transpuesta del array.                         | `[[1 3], [2 4]]`      |\n",
    "| `flat`        | Iterador sobre elementos del array.            | `[1, 2, 3, 4]`        |\n",
    "| `real`        | Parte real de los elementos complejos.         | `[1., 3.]`            |\n",
    "| `imag`        | Parte imaginaria de los elementos complejos.   | `[2., 4.]`            |\n",
    "| `base`        | Indica si comparte memoria con otro objeto.    | `True`                |\n",
    "| `strides`     | Desplazamiento en bytes entre elementos.       | `(8, 4)`              |\n",
    "| `split`       | Divide el conjutno de datos                    |                       |"
   ]
  },
  {
   "cell_type": "markdown",
   "metadata": {},
   "source": [
    "### **Beneficios del Uso de Arrays**\n",
    "---\n",
    "\n",
    "1. **Eficiencia en memoria y cálculo**:\n",
    "   - A diferencia de las listas de Python, los arrays son más compactos y rápidos.\n",
    "\n",
    "2. **Operaciones matemáticas simplificadas**:\n",
    "   - Las operaciones se aplican elemento por elemento automáticamente.\n",
    "   - Ejemplo:"
   ]
  },
  {
   "cell_type": "code",
   "execution_count": null,
   "metadata": {},
   "outputs": [],
   "source": [
    "a = np.array([1, 2, 3])\n",
    "b = np.array([4, 5, 6])\n",
    "print(a + b)  # [5, 7, 9]"
   ]
  },
  {
   "cell_type": "markdown",
   "metadata": {},
   "source": [
    "3. **Soporte para datos multidimensionales**:\n",
    "   - Ideal para análisis de datos, computación científica y aprendizaje automático."
   ]
  },
  {
   "cell_type": "markdown",
   "metadata": {},
   "source": [
    "# **Ordenación de Arrays en NumPy**\n",
    "\n",
    "NumPy ofrece herramientas potentes para ordenar arrays de manera eficiente. Estas funciones permiten organizar los datos en orden ascendente o descendente, e incluso obtener los índices de ordenación.\n",
    "\n",
    "La ordenación es útil en muchas tareas, como:\n",
    "- Clasificación de datos.\n",
    "- Preparación de datos para análisis.\n",
    "- Encontrar valores extremos (mínimos/máximos) en contextos específicos.\n",
    "\n",
    "---\n",
    "\n",
    "## **1. Ordenar un Array con `np.sort`**\n",
    "\n",
    "La función `np.sort` devuelve una copia del array original, pero ordenada.\n",
    "\n",
    "### **Sintaxis:**\n",
    "`np.sort(array, axis=-1, kind='quicksort', order=None)`\n",
    "\n",
    "- `array`: El array que deseas ordenar.\n",
    "- `axis`: El eje a ordenar (por defecto es el último eje, `-1`).\n",
    "- `kind`: Algoritmo de ordenación. Por defecto es `quicksort`, pero también puedes usar `mergesort` o `heapsort`.\n",
    "- `order`: Ordenar por un campo específico en arrays estructurados.\n",
    "\n",
    "---\n",
    "\n",
    "### **Ejemplo: Ordenación Básica**\n"
   ]
  },
  {
   "cell_type": "code",
   "execution_count": null,
   "metadata": {},
   "outputs": [],
   "source": [
    "import numpy as np\n",
    "\n",
    "# Crear un array unidimensional\n",
    "array = np.array([3, 1, 4, 1, 5, 9, 2])\n",
    "\n",
    "# Ordenar el array en orden ascendente\n",
    "array_ordenado = np.sort(array)\n",
    "\n",
    "# Imprimimos resultados\n",
    "print(\"Array original:\", array)\n",
    "print(\"Array ordenado:\", array_ordenado)"
   ]
  },
  {
   "cell_type": "markdown",
   "metadata": {},
   "source": [
    "## **2. Obtener Índices de Ordenación con `np.argsort`**\n",
    "\n",
    "La función `np.argsort` devuelve los índices que ordenarían un array. Esto es útil para reordenar otros arrays basados en el orden de un array dado.\n",
    "\n",
    "### **Sintaxis:**\n",
    "`np.argsort(array, axis=-1, kind='quicksort', order=None)`\n",
    "\n",
    "---\n",
    "\n",
    "### **Ejemplo: Índices de Ordenación**\n"
   ]
  },
  {
   "cell_type": "code",
   "execution_count": null,
   "metadata": {},
   "outputs": [],
   "source": [
    "# Obtener los índices de ordenación\n",
    "indices_orden = np.argsort(array)\n",
    "\n",
    "# Usar los índices para reordenar el array\n",
    "array_reordenado = array[indices_orden]\n",
    "\n",
    "# Imprimimos resultados\n",
    "print(\"Índices de ordenación:\", indices_orden)\n",
    "print(\"Array reordenado usando índices:\", array_reordenado)"
   ]
  },
  {
   "cell_type": "markdown",
   "metadata": {},
   "source": [
    "## **3. Ordenación en Arrays Multidimensionales**\n",
    "\n",
    "En arrays multidimensionales, puedes especificar el eje (`axis`) sobre el cual realizar la ordenación.\n",
    "\n",
    "---\n",
    "\n",
    "### **Ejemplo: Ordenar por Filas y Columnas**\n"
   ]
  },
  {
   "cell_type": "code",
   "execution_count": null,
   "metadata": {},
   "outputs": [],
   "source": [
    "# Crear un array bidimensional\n",
    "matriz = np.array([[5, 3, 8], [2, 7, 1], [6, 4, 9]])\n",
    "\n",
    "# Ordenar por filas (eje 1)\n",
    "ordenado_por_filas = np.sort(matriz, axis=1)\n",
    "\n",
    "# Ordenar por columnas (eje 0)\n",
    "ordenado_por_columnas = np.sort(matriz, axis=0)\n",
    "\n",
    "# Imprimimos resultados\n",
    "print(\"Matriz original:\\n\", matriz)\n",
    "print(\"Matriz ordenada por filas:\\n\", ordenado_por_filas)\n",
    "print(\"Matriz ordenada por columnas:\\n\", ordenado_por_columnas)"
   ]
  },
  {
   "cell_type": "markdown",
   "metadata": {},
   "source": [
    "## **4. Métodos Avanzados de Ordenación**\n",
    "\n",
    "### **`np.partition`**\n",
    "Divide un array en dos partes: los valores menores a un pivote y los mayores o iguales.\n",
    "\n",
    "### **`np.lexsort`**\n",
    "Ordena de acuerdo con varias claves.\n",
    "\n",
    "---\n",
    "\n",
    "### **Ejemplo: Ordenación con `np.partition`**\n"
   ]
  },
  {
   "cell_type": "code",
   "execution_count": null,
   "metadata": {},
   "outputs": [],
   "source": [
    "# Usar np.partition para dividir por el tercer elemento (índice 2)\n",
    "partitioned = np.partition(array, 2)\n",
    "\n",
    "# Imprimimos resultados\n",
    "print(\"Array particionado por el índice 2:\", partitioned)"
   ]
  },
  {
   "cell_type": "markdown",
   "metadata": {},
   "source": [
    "### **Tabla Resumen de Métodos de Ordenación**\n",
    "\n",
    "| **Método**       | **Propósito**                                          | **Ejemplo**                      |\n",
    "|-------------------|-------------------------------------------------------|-----------------------------------|\n",
    "| `np.sort`         | Ordena un array.                                      | `np.sort(array)`                 |\n",
    "| `np.argsort`      | Devuelve los índices para ordenar el array.           | `np.argsort(array)`              |\n",
    "| `np.partition`    | Divide el array según un pivote.                      | `np.partition(array, 2)`         |\n",
    "| `np.lexsort`      | Ordena según varias claves.                           | `np.lexsort((key1, key2))`       |\n",
    "\n",
    "---\n",
    "\n",
    "### **Conclusión**\n",
    "\n",
    "Las herramientas de ordenación en NumPy son fundamentales para organizar y clasificar datos en análisis y aplicaciones numéricas. Dependiendo de la tarea, puedes elegir entre ordenar valores directamente, obtener índices de ordenación o usar métodos avanzados para dividir y clasificar datos más complejos.\n",
    "\n",
    "---"
   ]
  },
  {
   "cell_type": "markdown",
   "metadata": {},
   "source": [
    "## **Combinación de Arrays en NumPy**\n",
    "\n",
    "La combinación de arrays en NumPy es una herramienta esencial para trabajar con datos de diferentes fuentes o para reorganizarlos en nuevas estructuras. NumPy ofrece varias funciones para combinar arrays, que se dividen principalmente en concatenación horizontal y concatenación vertical.\n",
    "\n",
    "---\n",
    "\n",
    "### 1. **Concatenación con `np.concatenate`**\n",
    "\n",
    "**Descripción**:\n",
    "- Combina dos o más arrays a lo largo de un eje especificado.\n",
    "\n",
    "**Argumentos principales**:\n",
    "- `arrays`: Lista de arrays que se desean combinar.\n",
    "- `axis`: Eje a lo largo del cual se realiza la combinación (por defecto, `axis=0`).\n"
   ]
  },
  {
   "cell_type": "code",
   "execution_count": 37,
   "metadata": {},
   "outputs": [
    {
     "name": "stdout",
     "output_type": "stream",
     "text": [
      "Concatenación vertical:\n",
      "[[1 2]\n",
      " [3 4]\n",
      " [5 6]]\n",
      "\n",
      "Concatenación horizontal:\n",
      "[[1 2 5]\n",
      " [3 4 6]]\n"
     ]
    }
   ],
   "source": [
    "import numpy as np\n",
    "\n",
    "array1 = np.array([[1, 2], [3, 4]])\n",
    "array2 = np.array([[5, 6]])\n",
    "\n",
    "# Concatenación vertical (por filas)\n",
    "resultado1 = np.concatenate((array1, array2), axis=0)\n",
    "print(\"Concatenación vertical:\")\n",
    "print(resultado1)\n",
    "\n",
    "# Concatenación horizontal (por columnas)\n",
    "array3 = np.array([[5], [6]])\n",
    "resultado2 = np.concatenate((array1, array3), axis=1)\n",
    "print(\"\\nConcatenación horizontal:\")\n",
    "print(resultado2)\n"
   ]
  },
  {
   "cell_type": "markdown",
   "metadata": {},
   "source": [
    "### **2. Apilado Vertical con `np.vstack`**\n",
    "\n",
    "**Descripción**:\n",
    "- Combina arrays apilándolos verticalmente (como filas).\n",
    "- Es equivalente a `np.concatenate` con `axis=0`.\n"
   ]
  },
  {
   "cell_type": "code",
   "execution_count": 38,
   "metadata": {},
   "outputs": [
    {
     "name": "stdout",
     "output_type": "stream",
     "text": [
      "Apilado vertical:\n",
      "[[1 2]\n",
      " [3 4]]\n"
     ]
    }
   ],
   "source": [
    "array1 = np.array([1, 2])\n",
    "array2 = np.array([3, 4])\n",
    "\n",
    "resultado = np.vstack((array1, array2))\n",
    "print(\"Apilado vertical:\")\n",
    "print(resultado)"
   ]
  },
  {
   "cell_type": "markdown",
   "metadata": {},
   "source": [
    "### **3. Apilado Horizontal con `np.hstack`**\n",
    "\n",
    "**Descripción**:\n",
    "- Combina arrays apilándolos horizontalmente (como columnas).\n",
    "- Es equivalente a `np.concatenate` con `axis=1`.\n"
   ]
  },
  {
   "cell_type": "code",
   "execution_count": 39,
   "metadata": {},
   "outputs": [
    {
     "name": "stdout",
     "output_type": "stream",
     "text": [
      "Apilado horizontal:\n",
      "[[1 3]\n",
      " [2 4]]\n"
     ]
    }
   ],
   "source": [
    "array1 = np.array([1, 2]).reshape(2, 1)\n",
    "array2 = np.array([3, 4]).reshape(2, 1)\n",
    "\n",
    "resultado = np.hstack((array1, array2))\n",
    "print(\"Apilado horizontal:\")\n",
    "print(resultado)\n"
   ]
  },
  {
   "cell_type": "markdown",
   "metadata": {},
   "source": [
    "### **4. División en Profundidad con `np.dstack`**\n",
    "\n",
    "**Descripción**:\n",
    "- Apila arrays a lo largo de un tercer eje (profundidad).\n",
    "- Crea un array tridimensional.\n"
   ]
  },
  {
   "cell_type": "code",
   "execution_count": 40,
   "metadata": {},
   "outputs": [
    {
     "name": "stdout",
     "output_type": "stream",
     "text": [
      "Apilado en profundidad:\n",
      "[[[1 5]\n",
      "  [2 6]]\n",
      "\n",
      " [[3 7]\n",
      "  [4 8]]]\n"
     ]
    }
   ],
   "source": [
    "array1 = np.array([[1, 2], [3, 4]])\n",
    "array2 = np.array([[5, 6], [7, 8]])\n",
    "\n",
    "resultado = np.dstack((array1, array2))\n",
    "print(\"Apilado en profundidad:\")\n",
    "print(resultado)\n"
   ]
  },
  {
   "cell_type": "markdown",
   "metadata": {},
   "source": [
    "### **5. Apilado por Ejes con `np.stack`**\n",
    "\n",
    "**Descripción**:\n",
    "- Combina arrays a lo largo de un nuevo eje.\n",
    "- Es más general que `vstack` y `hstack`.\n"
   ]
  },
  {
   "cell_type": "code",
   "execution_count": 41,
   "metadata": {},
   "outputs": [
    {
     "name": "stdout",
     "output_type": "stream",
     "text": [
      "Apilado con nuevo eje (filas):\n",
      "[[1 2]\n",
      " [3 4]]\n",
      "\n",
      "Apilado con nuevo eje (columnas):\n",
      "[[1 3]\n",
      " [2 4]]\n"
     ]
    }
   ],
   "source": [
    "array1 = np.array([1, 2])\n",
    "array2 = np.array([3, 4])\n",
    "\n",
    "# Eje nuevo en filas\n",
    "resultado = np.stack((array1, array2), axis=0)\n",
    "print(\"Apilado con nuevo eje (filas):\")\n",
    "print(resultado)\n",
    "\n",
    "# Eje nuevo en columnas\n",
    "resultado2 = np.stack((array1, array2), axis=1)\n",
    "print(\"\\nApilado con nuevo eje (columnas):\")\n",
    "print(resultado2)\n"
   ]
  },
  {
   "cell_type": "markdown",
   "metadata": {},
   "source": [
    "### **Resumen de Funciones**\n",
    "\n",
    "| Método           | Descripción                                      | Eje por Defecto |\n",
    "|-------------------|--------------------------------------------------|-----------------|\n",
    "| `np.concatenate` | Combina arrays a lo largo de un eje especificado. | `axis=0`        |\n",
    "| `np.vstack`      | Apila arrays verticalmente (como filas).          | `axis=0`        |\n",
    "| `np.hstack`      | Apila arrays horizontalmente (como columnas).     | `axis=1`        |\n",
    "| `np.dstack`      | Apila arrays a lo largo del eje de profundidad.   | Nuevo eje (3D)  |\n",
    "| `np.stack`       | Apila arrays a lo largo de un nuevo eje.          | Configurable    |\n"
   ]
  },
  {
   "cell_type": "markdown",
   "metadata": {},
   "source": [
    "## **Métodos de Inicialización de Arrays en NumPy**\n",
    "\n",
    "NumPy ofrece varias funciones para inicializar arrays con valores predefinidos. Estos métodos son útiles para crear estructuras base para cálculos y simulaciones.\n",
    "\n",
    "---\n",
    "\n",
    "#### **1. Zeros (`np.zeros`)**\n",
    "- Crea un array lleno de ceros.\n",
    "- **Argumentos principales**:\n",
    "  - `shape`: Dimensiones del array (tupla o entero).\n",
    "  - `dtype` (opcional): Tipo de datos de los elementos.\n",
    "\n",
    "**Ejemplo:**\n",
    "\n"
   ]
  },
  {
   "cell_type": "code",
   "execution_count": null,
   "metadata": {},
   "outputs": [],
   "source": [
    "import numpy as np\n",
    "np.zeros(3)  # Array 1D de ceros\n",
    "np.zeros((5, 5))  # Matriz 5x5 de ceros"
   ]
  },
  {
   "cell_type": "markdown",
   "metadata": {},
   "source": [
    "---\n",
    "\n",
    "#### **2. Ones (`np.ones`)**\n",
    "- Crea un array lleno de unos.\n",
    "- **Argumentos principales**:\n",
    "  - `shape`: Dimensiones del array (tupla o entero).\n",
    "  - `dtype` (opcional): Tipo de datos de los elementos.\n",
    "\n",
    "**Ejemplo:**\n",
    "\n"
   ]
  },
  {
   "cell_type": "code",
   "execution_count": null,
   "metadata": {},
   "outputs": [],
   "source": [
    "np.ones(3)  # Array 1D de unos\n",
    "np.ones((2, 3))  # Matriz 2x3 de unos"
   ]
  },
  {
   "cell_type": "markdown",
   "metadata": {},
   "source": [
    "\n",
    "---\n",
    "\n",
    "#### **3. Arange (`np.arange`)**\n",
    "- Genera un array con valores dentro de un rango específico.\n",
    "- Similar a `range` en Python, pero devuelve un array.\n",
    "- **Argumentos principales**:\n",
    "  - `start`: Valor inicial (incluido).\n",
    "  - `stop`: Valor final (excluido).\n",
    "  - `step` (opcional): Incremento entre valores.\n",
    "\n",
    "**Ejemplo:**\n",
    "\n"
   ]
  },
  {
   "cell_type": "code",
   "execution_count": 28,
   "metadata": {},
   "outputs": [
    {
     "data": {
      "text/plain": [
       "array([0, 2, 4, 6, 8])"
      ]
     },
     "execution_count": 28,
     "metadata": {},
     "output_type": "execute_result"
    }
   ],
   "source": [
    "np.arange(0, 10, 2)  # [0, 2, 4, 6, 8]"
   ]
  },
  {
   "cell_type": "markdown",
   "metadata": {},
   "source": [
    "\n",
    "---\n",
    "\n",
    "#### **4. Linspace (`np.linspace`)**\n",
    "- Genera un array de valores igualmente espaciados dentro de un rango.\n",
    "- **Argumentos principales**:\n",
    "  - `start`: Valor inicial.\n",
    "  - `stop`: Valor final.\n",
    "  - `num`: Número de valores generados.\n",
    "\n",
    "**Ejemplo:**\n"
   ]
  },
  {
   "cell_type": "code",
   "execution_count": 27,
   "metadata": {},
   "outputs": [
    {
     "data": {
      "text/plain": [
       "array([0.  , 0.25, 0.5 , 0.75, 1.  ])"
      ]
     },
     "execution_count": 27,
     "metadata": {},
     "output_type": "execute_result"
    }
   ],
   "source": [
    "np.linspace(0, 1, 5)  # [0. , 0.25, 0.5 , 0.75, 1. ]"
   ]
  },
  {
   "cell_type": "markdown",
   "metadata": {},
   "source": [
    "---\n",
    "\n",
    "#### **5. Random (`np.random`)**\n",
    "NumPy ofrece funciones para inicializar arrays con valores aleatorios:\n",
    "\n",
    "- **Aleatorios uniformes** (`np.random.rand`):\n",
    "  - Genera valores en el rango `[0, 1)`.\n"
   ]
  },
  {
   "cell_type": "code",
   "execution_count": 26,
   "metadata": {},
   "outputs": [
    {
     "data": {
      "text/plain": [
       "array([[0.54064649, 0.16153197],\n",
       "       [0.96221222, 0.97631096],\n",
       "       [0.57920709, 0.26963502]])"
      ]
     },
     "execution_count": 26,
     "metadata": {},
     "output_type": "execute_result"
    }
   ],
   "source": [
    "np.random.rand(3, 2)  # Matriz 3x2 con valores aleatorios"
   ]
  },
  {
   "cell_type": "markdown",
   "metadata": {},
   "source": [
    "- **Aleatorios con distribución normal** (`np.random.randn`):\n",
    "  - Genera valores con distribución normal estándar.\n"
   ]
  },
  {
   "cell_type": "code",
   "execution_count": 25,
   "metadata": {},
   "outputs": [
    {
     "data": {
      "text/plain": [
       "array([[-0.84995761, -0.2575042 ],\n",
       "       [-0.5516221 , -1.29954047],\n",
       "       [ 3.05568598, -0.3153326 ]])"
      ]
     },
     "execution_count": 25,
     "metadata": {},
     "output_type": "execute_result"
    }
   ],
   "source": [
    "np.random.randn(3, 2)  # Matriz 3x2 con valores normales"
   ]
  },
  {
   "cell_type": "markdown",
   "metadata": {},
   "source": [
    "\n",
    "- **Valores enteros aleatorios** (`np.random.randint`):\n",
    "  - Genera enteros aleatorios dentro de un rango.\n"
   ]
  },
  {
   "cell_type": "code",
   "execution_count": 24,
   "metadata": {},
   "outputs": [
    {
     "data": {
      "text/plain": [
       "array([[7, 6, 7],\n",
       "       [0, 5, 2],\n",
       "       [9, 7, 1]])"
      ]
     },
     "execution_count": 24,
     "metadata": {},
     "output_type": "execute_result"
    }
   ],
   "source": [
    "np.random.randint(0, 10, (3, 3))  # Matriz 3x3 con enteros entre 0 y 9"
   ]
  },
  {
   "cell_type": "markdown",
   "metadata": {},
   "source": [
    "\n",
    "---\n",
    "\n",
    "#### **6. Eye (`np.eye`)**\n",
    "- Crea una matriz identidad (matriz diagonal con unos en la diagonal principal).\n",
    "- **Argumentos principales**:\n",
    "  - `N`: Tamaño de la matriz (NxN).\n",
    "  - `k` (opcional): Desplazamiento de la diagonal.\n",
    "\n",
    "**Ejemplo:**\n"
   ]
  },
  {
   "cell_type": "code",
   "execution_count": 23,
   "metadata": {},
   "outputs": [
    {
     "data": {
      "text/plain": [
       "array([[1., 0., 0.],\n",
       "       [0., 1., 0.],\n",
       "       [0., 0., 1.]])"
      ]
     },
     "execution_count": 23,
     "metadata": {},
     "output_type": "execute_result"
    }
   ],
   "source": [
    "np.eye(3)  # Matriz identidad 3x3"
   ]
  },
  {
   "cell_type": "markdown",
   "metadata": {},
   "source": [
    "\n",
    "\n",
    "---\n",
    "\n",
    "### **Resumen**\n",
    "\n",
    "| Método       | Descripción                                      |\n",
    "|--------------|--------------------------------------------------|\n",
    "| `np.zeros`   | Array lleno de ceros.                           |\n",
    "| `np.ones`    | Array lleno de unos.                            |\n",
    "| `np.arange`  | Array con valores dentro de un rango específico.|\n",
    "| `np.linspace`| Valores igualmente espaciados dentro de un rango.|\n",
    "| `np.random`  | Valores aleatorios (uniformes, normales, enteros).|\n",
    "| `np.eye`     | Matriz identidad.                               |\n",
    "\n",
    "---"
   ]
  },
  {
   "cell_type": "markdown",
   "metadata": {},
   "source": [
    "# **Indexación de Arrays en NumPy**\n",
    "\n",
    "NumPy permite acceder y manipular datos de arrays de manera eficiente utilizando **indexación**, **slicing** y técnicas avanzadas. Estas herramientas son fundamentales para trabajar con subconjuntos de datos o modificar estructuras existentes.\n",
    "\n",
    "Es importante destacar que tanto la **búsqueda** como la **manipulación** de datos utilizan la indexación como su motor principal. La indexación proporciona la base para localizar elementos específicos en un array, lo que permite no solo acceder a ellos, sino también aplicar transformaciones o realizar modificaciones directamente.\n",
    "\n",
    "---\n",
    "\n",
    "## **1. Indexación**\n",
    "\n",
    "Un array de NumPy es una estructura de datos indexada. La indexación es similar a la de las listas en Python, pero NumPy ofrece capacidades adicionales para arrays multidimensionales.\n",
    "\n",
    "**Ejemplo de Indexación:**\n",
    "- Acceso al primer elemento: `array[0]`\n",
    "- Acceso al último elemento: `array[-1]`"
   ]
  },
  {
   "cell_type": "code",
   "execution_count": null,
   "metadata": {},
   "outputs": [],
   "source": [
    "import numpy as np\n",
    "\n",
    "# Crear un array de ejemplo\n",
    "array = np.array([10, 20, 30, 40, 50])\n",
    "\n",
    "# Acceso por índice\n",
    "print(\"Primer elemento:\", array[0])  # Primer elemento\n",
    "print(\"Último elemento:\", array[-1])  # Último elemento"
   ]
  },
  {
   "cell_type": "markdown",
   "metadata": {},
   "source": [
    "---\n",
    "\n",
    "## **2. Slicing (Segmentación)**\n",
    "\n",
    "El **slicing** permite acceder a subconjuntos de un array utilizando rangos. Esto es útil para trabajar con partes específicas de los datos.\n",
    "\n",
    "**Sintaxis básica de slicing**:\n",
    "- `array[inicio:fin]`: Accede a elementos desde el índice `inicio` hasta `fin - 1`.\n",
    "- `array[:fin]`: Desde el inicio hasta el índice `fin - 1`.\n",
    "- `array[inicio:]`: Desde el índice `inicio` hasta el final.\n"
   ]
  },
  {
   "cell_type": "code",
   "execution_count": null,
   "metadata": {},
   "outputs": [],
   "source": [
    "# Crear un array unidimensional\n",
    "array = np.array([10, 20, 30, 40, 50])\n",
    "\n",
    "# Slicing básico\n",
    "print(\"Elementos del índice 1 al 3:\", array[1:4])  # Elementos del índice 1 al 3\n",
    "print(\"Primeros 3 elementos:\", array[:3])         # Primeros 3 elementos\n",
    "print(\"Desde el índice 2 hasta el final:\", array[2:])  # Desde el índice 2 hasta el final"
   ]
  },
  {
   "cell_type": "markdown",
   "metadata": {},
   "source": [
    "---\n",
    "\n",
    "## **3. Indexación en Arrays Multidimensionales**\n",
    "\n",
    "Los arrays multidimensionales permiten acceder a filas, columnas o elementos específicos utilizando tuplas de índices.\n",
    "\n",
    "**Ejemplo de Indexación Multidimensional:**\n",
    "- Acceso a un elemento específico: `array2D[fila, columna]`\n",
    "- Acceso a una fila completa: `array2D[fila, :]`\n",
    "- Acceso a una columna completa: `array2D[:, columna]`\n"
   ]
  },
  {
   "cell_type": "code",
   "execution_count": null,
   "metadata": {},
   "outputs": [],
   "source": [
    "# Crear un array 2D\n",
    "array2D = np.array([[1, 2, 3], [4, 5, 6], [7, 8, 9]])\n",
    "\n",
    "# Acceder a elementos específicos\n",
    "print(\"Elemento en la fila 1, columna 2:\", array2D[1, 2])  # Elemento en la fila 1, columna 2\n",
    "\n",
    "# Acceder a una fila completa\n",
    "print(\"Primera fila:\", array2D[0, :])  # Primera fila\n",
    "\n",
    "# Acceder a una columna completa\n",
    "print(\"Segunda columna:\", array2D[:, 1])  # Segunda columna\n"
   ]
  },
  {
   "cell_type": "markdown",
   "metadata": {},
   "source": [
    "# **Resumen de Indexación en NumPy**\n",
    "\n",
    "La siguiente tabla resume las principales técnicas de indexación en NumPy, con una breve descripción y ejemplos para cada una.\n",
    "\n",
    "| **Técnica**               | **Descripción**                                                                 | **Ejemplo**                                                   |\n",
    "|---------------------------|-------------------------------------------------------------------------------|-------------------------------------------------------------|\n",
    "| **Indexación básica**      | Accede a elementos individuales usando índices enteros.                       | `array[0]` (primer elemento)                                |\n",
    "| **Indexación negativa**    | Accede a elementos contando desde el final del array.                         | `array[-1]` (último elemento)                               |\n",
    "| **Slicing**                | Selecciona subconjuntos de datos mediante rangos.                             | `array[1:4]` (índices del 1 al 3)                           |\n",
    "| **Indexación multidimensional** | Accede a elementos en arrays 2D o ND usando tuplas de índices.                 | `array2D[1, 2]` (fila 1, columna 2)                        |\n",
    "| **Filas completas**        | Selecciona una fila completa en un array multidimensional.                    | `array2D[0, :]` (primera fila)                              |\n",
    "| **Columnas completas**     | Selecciona una columna completa en un array multidimensional.                 | `array2D[:, 1]` (segunda columna)                           |\n",
    "| **Indexación booleana(Mascaras)**    | Selecciona elementos que cumplan una condición lógica.                        | `array[array > 25]` (elementos mayores a 25)                |\n",
    "| **Indexación condicional** | Modifica elementos que cumplan una condición.                                | `array[array > 25] = 0` (sustituye mayores a 25 por 0)      |\n",
    "| **Slicing avanzado**       | Combinación de índices y slicing para seleccionar subconjuntos complejos.     | `array2D[1:, 1:]` (fila 1 en adelante y columna 1 en adelante) |\n",
    "| **Iteración con `.flat`**  | Recorre los elementos del array como si fueran unidimensionales.              | `for elem in array.flat: print(elem)`                       |\n",
    "\n",
    "---\n",
    "\n",
    "### **Notas importantes**:\n",
    "- Las técnicas de indexación en NumPy son más rápidas y eficientes que los bucles tradicionales en Python.\n",
    "- La mayoría de las operaciones devuelven vistas del array original (no copias), por lo que los cambios afectan el array base.\n",
    "\n",
    "---"
   ]
  },
  {
   "cell_type": "markdown",
   "metadata": {},
   "source": [
    "# **Búsqueda de Datos en Arrays de NumPy**\n",
    "\n",
    "La **búsqueda de datos** en NumPy es una de las aplicaciones principales de la indexación. Esta técnica permite localizar elementos de un array para su análisis o manipulación, ya sea directamente por posición o mediante condiciones lógicas.\n",
    "\n",
    "---\n",
    "\n",
    "\n",
    "## **1. Búsqueda Directa por Índices**\n",
    "\n",
    "Esta técnica utiliza índices numéricos para localizar elementos en arrays. Los índices comienzan en `0` (como en las listas de Python) y también permiten valores negativos para acceder desde el final del array.\n",
    "\n",
    "### **¿Para qué sirve?**\n",
    "- Acceder rápidamente a elementos específicos.\n",
    "- Extraer filas, columnas o submatrices en arrays multidimensionales.\n",
    "- Navegar en arrays usando índices positivos o negativos.\n",
    "\n",
    "---\n",
    "\n",
    "### **1.1. Acceso en Arrays Unidimensionales**\n",
    "\n",
    "Un array unidimensional es como una lista simple. Puedes acceder a sus elementos indicando la posición deseada.\n",
    "\n",
    "**Fórmula:**\n",
    "Cuando \\( a \\) es un array unidimensional, para acceder al elemento en la posición \\( i \\):\n",
    "\\[\n",
    "a[i]\n",
    "\\]\n",
    "\n",
    "**Ejemplo:**\n"
   ]
  },
  {
   "cell_type": "code",
   "execution_count": null,
   "metadata": {},
   "outputs": [],
   "source": [
    "# Creación de un array unidimensional\n",
    "array = np.array([10, 20, 30, 40, 50])\n",
    "\n",
    "# Acceso al primer elemento\n",
    "primer_elemento = array[0]  # Resultado: 10\n",
    "\n",
    "# Acceso al último elemento\n",
    "ultimo_elemento = array[-1]  # Resultado: 50\n",
    "\n",
    "# Acceso a un elemento intermedio\n",
    "tercer_elemento = array[2]  # Resultado: 30\n",
    "\n",
    "# Imprimimos resultados\n",
    "print(\"Primer elemento:\", primer_elemento)\n",
    "print(\"Último elemento:\", ultimo_elemento)\n",
    "print(\"Tercer elemento:\", tercer_elemento)"
   ]
  },
  {
   "cell_type": "markdown",
   "metadata": {},
   "source": [
    "### **Casos de uso en arrays unidimensionales**\n",
    "1. Acceso directo a datos por posición.\n",
    "2. Recuperar valores en una secuencia específica.\n",
    "3. Navegar de manera rápida por elementos desde el inicio o el final del array.\n"
   ]
  },
  {
   "cell_type": "markdown",
   "metadata": {},
   "source": [
    "### **1.2. Acceso en Arrays Multidimensionales**\n",
    "\n",
    "En arrays multidimensionales, cada elemento se identifica mediante múltiples índices (uno para cada dimensión). Por ejemplo, en un array de dos dimensiones (matriz), necesitas especificar:\n",
    "- La posición de la fila.\n",
    "- La posición de la columna.\n",
    "\n",
    "**Fórmula:**\n",
    "El elemento en la posición \\(i, j\\) de un array bidimensional se representa como:\n",
    "\\[\n",
    "a[i, j]\n",
    "\\]\n",
    "Donde:\n",
    "- \\(i\\): Índice de la fila.\n",
    "- \\(j\\): Índice de la columna.\n",
    "\n",
    "**Ejemplo:**\n"
   ]
  },
  {
   "cell_type": "code",
   "execution_count": null,
   "metadata": {},
   "outputs": [],
   "source": [
    "# Creación de un array bidimensional (matriz)\n",
    "matriz = np.array([[1, 2, 3], [4, 5, 6], [7, 8, 9]])\n",
    "\n",
    "# Acceso al elemento de la fila 1, columna 2\n",
    "elemento = matriz[1, 2]  # Resultado: 6\n",
    "\n",
    "# Acceso al primer elemento (fila 0, columna 0)\n",
    "primer_elemento = matriz[0, 0]  # Resultado: 1\n",
    "\n",
    "# Acceso al último elemento (última fila, última columna)\n",
    "ultimo_elemento = matriz[-1, -1]  # Resultado: 9\n",
    "\n",
    "# Imprimimos resultados\n",
    "print(\"Elemento fila 1, columna 2:\", elemento)\n",
    "print(\"Primer elemento:\", primer_elemento)\n",
    "print(\"Último elemento:\", ultimo_elemento)"
   ]
  },
  {
   "cell_type": "markdown",
   "metadata": {},
   "source": [
    "### **Casos de uso en arrays multidimensionales**\n",
    "1. Extraer valores específicos en tablas, matrices o imágenes.\n",
    "2. Navegar entre filas y columnas.\n",
    "3. Facilitar análisis de datos organizados en estructuras bidimensionales.\n",
    "\n",
    "---\n"
   ]
  },
  {
   "cell_type": "markdown",
   "metadata": {},
   "source": [
    "### **1.3. Uso de Indexación Negativa**\n",
    "\n",
    "Los índices negativos permiten acceder a los elementos desde el final del array sin conocer su longitud. Esto es especialmente útil para:\n",
    "- Recuperar el último elemento rápidamente.\n",
    "- Acceder a los elementos más cercanos al final.\n",
    "\n",
    "**Fórmula:**\n",
    "Cuando \\( a \\) es un array, para acceder al último elemento:\n",
    "\\[\n",
    "a[-1]\n",
    "\\]\n",
    "\n",
    "**Ejemplo:**\n"
   ]
  },
  {
   "cell_type": "code",
   "execution_count": 36,
   "metadata": {},
   "outputs": [
    {
     "name": "stdout",
     "output_type": "stream",
     "text": [
      "Último elemento del array: 50\n",
      "Penúltimo elemento del array: 40\n",
      "Último elemento de la matriz: 4\n",
      "Penúltima fila, primera columna: 1\n"
     ]
    }
   ],
   "source": [
    "# Usando índices negativos en un array unidimensional\n",
    "ultimo = array[-1]  # Último elemento: 50\n",
    "penultimo = array[-2]  # Penúltimo elemento: 40\n",
    "\n",
    "# Usando índices negativos en un array bidimensional\n",
    "ultimo_elemento_matriz = matriz[-1, -1]  # Último elemento de la matriz: 9\n",
    "penultima_fila_primera_columna = matriz[-2, 0]  # Resultado: 4\n",
    "\n",
    "# Imprimimos resultados\n",
    "print(\"Último elemento del array:\", ultimo)\n",
    "print(\"Penúltimo elemento del array:\", penultimo)\n",
    "print(\"Último elemento de la matriz:\", ultimo_elemento_matriz)\n",
    "print(\"Penúltima fila, primera columna:\", penultima_fila_primera_columna)"
   ]
  },
  {
   "cell_type": "markdown",
   "metadata": {},
   "source": [
    "### **Casos de uso para índices negativos**\n",
    "1. Acceso rápido a elementos finales.\n",
    "2. Navegar en datasets sin preocuparte por el tamaño del array.\n",
    "3. Útil para iterar desde el final hacia el inicio.\n",
    "\n",
    "---\n",
    "\n",
    "### **Conclusión**\n",
    "\n",
    "La búsqueda directa por índices es una herramienta esencial para el trabajo con datos en NumPy. Sus principales beneficios incluyen:\n",
    "- Acceso inmediato a cualquier posición en un array.\n",
    "- Facilidad para manejar estructuras unidimensionales y multidimensionales.\n",
    "- Flexibilidad mediante índices negativos.\n",
    "---\n"
   ]
  },
  {
   "cell_type": "markdown",
   "metadata": {},
   "source": [
    "# **2. Búsqueda Basada en Condiciones**\n",
    "\n",
    "La búsqueda condicional en NumPy permite filtrar elementos de un array que cumplen con ciertos criterios lógicos. Esto genera un nuevo array que contiene solo los valores que satisfacen la condición.\n",
    "\n",
    "### **¿Para qué sirve?**\n",
    "- Extraer subconjuntos específicos de datos.\n",
    "- Filtrar valores para análisis más precisos.\n",
    "- Aplicar reglas personalizadas para trabajar con los datos.\n",
    "\n",
    "---\n",
    "\n",
    "## **Tipos de Operadores Condicionales**\n",
    "\n",
    "Los operadores lógicos que puedes usar en las condiciones de búsqueda incluyen:\n",
    "\n",
    "1. **Operadores de Comparación**\n",
    "   - `>`: Mayor que.\n",
    "   - `<`: Menor que.\n",
    "   - `>=`: Mayor o igual que.\n",
    "   - `<=`: Menor o igual que.\n",
    "   - `==`: Igual a.\n",
    "   - `!=`: Diferente de.\n",
    "\n",
    "2. **Operadores Lógicos**\n",
    "   - `&`: AND lógico (todas las condiciones deben ser verdaderas).\n",
    "   - `|`: OR lógico (al menos una condición debe ser verdadera).\n",
    "   - `~`: NOT lógico (invierte la condición).\n",
    "\n",
    "3. **Funciones para Condiciones**\n",
    "   - `np.isin`: Verifica si los elementos están en una lista dada.\n",
    "   - `np.logical_and`: Evalúa condiciones con AND.\n",
    "   - `np.logical_or`: Evalúa condiciones con OR.\n",
    "   - `np.logical_not`: Evalúa la negación de una condición.\n",
    "\n",
    "---\n",
    "\n",
    "### **Ejemplos Detallados**\n",
    "\n",
    "#### **2.1. Operadores de Comparación**\n",
    "\n",
    "\n",
    "Filtrar valores en un array basados en comparaciones:\n"
   ]
  },
  {
   "cell_type": "code",
   "execution_count": null,
   "metadata": {},
   "outputs": [],
   "source": [
    "import numpy as np\n",
    "\n",
    "# Array de ejemplo\n",
    "array = np.array([10, 20, 30, 40, 50])\n",
    "\n",
    "# Elementos mayores a 30\n",
    "mayores_30 = array[array > 30]  # Resultado: [40, 50]\n",
    "\n",
    "# Elementos menores o iguales a 20\n",
    "menores_o_iguales_20 = array[array <= 20]  # Resultado: [10, 20]\n",
    "\n",
    "# Elementos iguales a 30\n",
    "iguales_30 = array[array == 30]  # Resultado: [30]\n",
    "\n",
    "# Imprimimos resultados\n",
    "print(\"Mayores a 30:\", mayores_30)\n",
    "print(\"Menores o iguales a 20:\", menores_o_iguales_20)\n",
    "print(\"Iguales a 30:\", iguales_30)\n"
   ]
  },
  {
   "cell_type": "markdown",
   "metadata": {},
   "source": [
    "#### **2.2. Operadores Lógicos**\n",
    "\n",
    "Combinar múltiples condiciones con operadores lógicos."
   ]
  },
  {
   "cell_type": "markdown",
   "metadata": {},
   "source": [
    "# Elementos mayores a 20 Y menores a 50\n",
    "entre_20_y_50 = array[(array > 20) & (array < 50)]  # Resultado: [30, 40]\n",
    "\n",
    "# Elementos menores a 20 O iguales a 50\n",
    "menores_o_50 = array[(array < 20) | (array == 50)]  # Resultado: [10, 50]\n",
    "\n",
    "# Elementos NO iguales a 30\n",
    "no_30 = array[array != 30]  # Resultado: [10, 20, 40, 50]\n",
    "\n",
    "# Imprimimos resultados\n",
    "print(\"Entre 20 y 50:\", entre_20_y_50)\n",
    "print(\"Menores a 20 o iguales a 50:\", menores_o_50)\n",
    "print(\"Diferentes de 30:\", no_30)"
   ]
  },
  {
   "cell_type": "markdown",
   "metadata": {},
   "source": [
    "#### **2.3. Funciones Para Condiciones**\n",
    "\n",
    "Utilizar funciones de NumPy para realizar búsquedas más avanzadas."
   ]
  },
  {
   "cell_type": "code",
   "execution_count": null,
   "metadata": {},
   "outputs": [],
   "source": [
    "# Verificar si los elementos están en una lista dada\n",
    "en_lista = array[np.isin(array, [20, 40])]  # Resultado: [20, 40]\n",
    "\n",
    "# AND lógico con np.logical_and\n",
    "entre_10_y_30 = array[np.logical_and(array > 10, array < 30)]  # Resultado: [20]\n",
    "\n",
    "# OR lógico con np.logical_or\n",
    "menores_20_o_mayores_40 = array[np.logical_or(array < 20, array > 40)]  # Resultado: [10, 50]\n",
    "\n",
    "# NOT lógico con np.logical_not\n",
    "no_menores_40 = array[np.logical_not(array < 40)]  # Resultado: [40, 50]\n",
    "\n",
    "# Imprimimos resultados\n",
    "print(\"En lista [20, 40]:\", en_lista)\n",
    "print(\"Entre 10 y 30:\", entre_10_y_30)\n",
    "print(\"Menores a 20 o mayores a 40:\", menores_20_o_mayores_40)\n",
    "print(\"No menores a 40:\", no_menores_40)"
   ]
  },
  {
   "cell_type": "markdown",
   "metadata": {},
   "source": [
    "\n",
    "---\n",
    "\n",
    "### **Tabla Resumen de Condiciones en NumPy**\n",
    "\n",
    "| **Operador/Función**   | **Descripción**                             | **Ejemplo**                      |\n",
    "|-------------------------|---------------------------------------------|-----------------------------------|\n",
    "| `>`                    | Mayor que                                  | `array[array > 10]`              |\n",
    "| `<`                    | Menor que                                  | `array[array < 50]`              |\n",
    "| `>=`                   | Mayor o igual que                          | `array[array >= 20]`             |\n",
    "| `<=`                   | Menor o igual que                          | `array[array <= 40]`             |\n",
    "| `==`                   | Igual a                                    | `array[array == 30]`             |\n",
    "| `!=`                   | Diferente de                               | `array[array != 10]`             |\n",
    "| `&`                    | AND lógico (todas las condiciones)         | `(array > 20) & (array < 50)`    |\n",
    "| `|`                    | OR lógico (al menos una condición)         | `(array < 20) | (array == 50)`   |\n",
    "| `~`                    | NOT lógico (inversión)                     | `~(array < 40)`                  |\n",
    "| `np.isin`              | Elementos en una lista                     | `np.isin(array, [10, 30])`       |\n",
    "| `np.logical_and`       | Condiciones combinadas con AND             | `np.logical_and(a > 10, a < 30)` |\n",
    "| `np.logical_or`        | Condiciones combinadas con OR              | `np.logical_or(a < 10, a > 40)`  |\n",
    "| `np.logical_not`       | Inversión de una condición                 | `np.logical_not(a < 20)`         |\n",
    "\n",
    "---\n",
    "\n",
    "### **Conclusión**\n",
    "\n",
    "La búsqueda basada en condiciones en NumPy permite filtrar y trabajar con subconjuntos específicos de datos de manera eficiente. Con una combinación de operadores de comparación, operadores lógicos y funciones avanzadas, puedes construir reglas complejas para análisis o manipulación de datos."
   ]
  },
  {
   "cell_type": "markdown",
   "metadata": {},
   "source": [
    "## **3. Métodos Avanzados para Búsqueda**\n",
    "\n",
    "NumPy incluye métodos avanzados que permiten realizar búsquedas más precisas y complejas en arrays. Estos métodos son útiles para:\n",
    "1. **Localizar índices** que cumplan con una condición.\n",
    "2. **Identificar valores máximos o mínimos** y sus posiciones.\n",
    "3. **Reemplazar valores** condicionalmente.\n",
    "\n",
    "En este apartado exploraremos las siguientes funciones:\n",
    "1. `np.where`\n",
    "2. `np.argmax`\n",
    "3. `np.argmin`\n",
    "\n",
    "Cada una será desglosada con una breve explicación, ejemplos prácticos y casos de uso.\n",
    "\n",
    "---"
   ]
  },
  {
   "cell_type": "markdown",
   "metadata": {},
   "source": [
    "### **`np.where`**\n",
    "\n",
    "Esta función permite encontrar los índices de los elementos que cumplen una condición o reemplazar valores basados en dicha condición.\n",
    "\n",
    "#### **Usos principales:**\n",
    "1. **Localizar índices** donde una condición es verdadera.\n",
    "2. **Reemplazar valores** en función de una condición.\n",
    "\n",
    "#### **Sintaxis de `np.where`**\n",
    "\n",
    "`np.where(condición, valor_si_verdadero, valor_si_falso)`\n",
    "\n",
    "- Si solo se proporciona la `condición`, devuelve los índices donde esta se cumple.\n",
    "- Si se incluyen `valor_si_verdadero` y `valor_si_falso`, devuelve un array con los valores evaluados según la condición.\n",
    "\n"
   ]
  },
  {
   "cell_type": "code",
   "execution_count": null,
   "metadata": {},
   "outputs": [],
   "source": [
    "import numpy as np\n",
    "\n",
    "# Array de ejemplo\n",
    "array = np.array([10, 20, 30, 40, 50])\n",
    "\n",
    "# Localizar índices donde los valores son mayores a 30\n",
    "indices = np.where(array > 30)  # Resultado: (array([3, 4]),)\n",
    "\n",
    "# Reemplazar valores menores a 30 por 0\n",
    "nuevo_array = np.where(array < 30, 0, array)  # Resultado: [ 0  0 30 40 50]\n",
    "\n",
    "# Imprimimos resultados\n",
    "print(\"Índices de valores mayores a 30:\", indices)\n",
    "print(\"Array con valores reemplazados:\", nuevo_array)\n"
   ]
  },
  {
   "cell_type": "markdown",
   "metadata": {},
   "source": [
    "### **`np.argmax`**\n",
    "\n",
    "Esta función devuelve el **índice del valor máximo** en un array. Es útil para localizar posiciones clave en datasets grandes.\n",
    "\n",
    "#### **Usos principales:**\n",
    "1. Identificar el índice del valor máximo.\n",
    "2. Analizar posiciones en arrays unidimensionales o multidimensionales (con el parámetro `axis`).\n",
    "\n",
    "#### **Sintaxis de `np.argmax`**\n",
    "\n",
    "`np.argmax(array, axis=None)`\n",
    "\n",
    "- Devuelve el índice del valor máximo en el array.\n",
    "- Si `axis=None` (por defecto), evalúa el array completo.\n",
    "- Si se especifica un eje (`axis=0` o `axis=1`), evalúa el máximo por filas o columnas.\n",
    "\n",
    "\n"
   ]
  },
  {
   "cell_type": "code",
   "execution_count": null,
   "metadata": {},
   "outputs": [],
   "source": [
    "# Índice del valor máximo en un array unidimensional\n",
    "indice_maximo = np.argmax(array)  # Resultado: 4\n",
    "\n",
    "# Array bidimensional\n",
    "matriz = np.array([[10, 50, 30], [5, 60, 20]])\n",
    "\n",
    "# Índice del valor máximo en toda la matriz\n",
    "indice_maximo_matriz = np.argmax(matriz)  # Resultado: 4 (índice lineal)\n",
    "\n",
    "# Índices de valores máximos por columna\n",
    "maximos_por_columna = np.argmax(matriz, axis=0)  # Resultado: [0, 1, 0]\n",
    "\n",
    "# Imprimimos resultados\n",
    "print(\"Índice del valor máximo en array:\", indice_maximo)\n",
    "print(\"Índice del valor máximo en matriz:\", indice_maximo_matriz)\n",
    "print(\"Índices de máximos por columna:\", maximos_por_columna)\n"
   ]
  },
  {
   "cell_type": "markdown",
   "metadata": {},
   "source": [
    "### **`np.argmin`**\n",
    "\n",
    "Esta función devuelve el **índice del valor mínimo** en un array. Similar a `np.argmax`, permite identificar posiciones clave en datos.\n",
    "\n",
    "#### **Usos principales:**\n",
    "1. Localizar el índice del valor mínimo.\n",
    "2. Evaluar mínimos en arrays unidimensionales o multidimensionales (usando `axis`).\n",
    "\n",
    "\n",
    "#### **Sintaxis de `np.argmin`**\n",
    "\n",
    "`np.argmin(array, axis=None)`\n",
    "\n",
    "- Devuelve el índice del valor mínimo en el array.\n",
    "- Si `axis=None` (por defecto), evalúa el array completo.\n",
    "- Si se especifica un eje (`axis=0` o `axis=1`), evalúa el mínimo por filas o columnas."
   ]
  },
  {
   "cell_type": "code",
   "execution_count": null,
   "metadata": {},
   "outputs": [],
   "source": [
    "# Índice del valor mínimo en un array unidimensional\n",
    "indice_minimo = np.argmin(array)  # Resultado: 0\n",
    "\n",
    "# Índices de valores mínimos por fila\n",
    "minimos_por_fila = np.argmin(matriz, axis=1)  # Resultado: [0, 0]\n",
    "\n",
    "# Imprimimos resultados\n",
    "print(\"Índice del valor mínimo en array:\", indice_minimo)\n",
    "print(\"Índices de mínimos por fila:\", minimos_por_fila)\n"
   ]
  },
  {
   "cell_type": "markdown",
   "metadata": {},
   "source": [
    "### **Tabla Resumen de Métodos Avanzados**\n",
    "\n",
    "| **Método**         | **Descripción**                                                  | **Ejemplo**                                |\n",
    "|---------------------|--------------------------------------------------------------|--------------------------------------------|\n",
    "| `np.where`          | Devuelve índices donde una condición es verdadera.           | `np.where(array > 20)`                     |\n",
    "| `np.where`          | Reemplazar valores según una condición.                      | `np.where(array < 30, 0, array)`           |\n",
    "| `np.argmax`         | Índice del valor máximo en el array.                         | `np.argmax                                 |\n",
    "\n",
    "---\n",
    "\n",
    "### **Conclusión**\n",
    "\n",
    "Los métodos avanzados para búsqueda en NumPy, como `np.where`, `np.argmax` y `np.argmin`, son herramientas esenciales para localizar, analizar y transformar datos de manera eficiente. Estas funciones son particularmente útiles en análisis de datos y optimización de procesos con grandes datasets. Su flexibilidad para trabajar con condiciones y ejes permite adaptar las búsquedas a necesidades específicas.\n"
   ]
  },
  {
   "cell_type": "markdown",
   "metadata": {},
   "source": [
    "# **Manipulación de Datos en Arrays**\n",
    "\n",
    "NumPy permite manipular directamente los valores de un array, ya sea modificando elementos específicos, rangos de datos o aplicando operaciones sobre subconjuntos. Estas funcionalidades son útiles para preparar datos, realizar cálculos y actualizar valores de forma eficiente.\n",
    "\n",
    "---\n",
    "\n",
    "## **1. Modificar Elementos en un Array**\n",
    "\n",
    "Podemos modificar el valor de un elemento específico en un array indicando su índice.\n",
    "\n",
    "### **Sintaxis:**\n",
    "`array[indice] = nuevo_valor`\n",
    "\n",
    "---\n",
    "\n",
    "### **Ejemplo: Modificar un Elemento**\n"
   ]
  },
  {
   "cell_type": "code",
   "execution_count": null,
   "metadata": {},
   "outputs": [],
   "source": [
    "import numpy as np\n",
    "\n",
    "# Crear un array\n",
    "array = np.array([10, 20, 30, 40, 50])\n",
    "\n",
    "# Modificar el valor del elemento en el índice 2\n",
    "array[2] = 99\n",
    "\n",
    "# Imprimir resultados\n",
    "print(\"Array modificado:\", array)  # Resultado: [10 20 99 40 50]\n"
   ]
  },
  {
   "cell_type": "markdown",
   "metadata": {},
   "source": [
    "## **2. Modificar Rangos en un Array**\n",
    "\n",
    "También podemos modificar múltiples elementos a la vez utilizando slicing (`inicio:fin`).\n",
    "\n",
    "### **Sintaxis:**\n",
    "`array[inicio:fin] = [nuevos_valores]`\n",
    "\n",
    "---\n",
    "\n",
    "### **Ejemplo: Modificar un Rango**\n"
   ]
  },
  {
   "cell_type": "markdown",
   "metadata": {},
   "source": [
    "# Modificar un rango del array\n",
    "array[1:4] = [77, 88, 99]\n",
    "\n",
    "# Imprimir resultados\n",
    "print(\"Array después de modificar un rango:\", array)  # Resultado: [10 77 88 99 50]\n"
   ]
  },
  {
   "cell_type": "markdown",
   "metadata": {},
   "source": [
    "## **3. Operaciones sobre Subconjuntos**\n",
    "\n",
    "NumPy permite realizar operaciones directamente sobre subconjuntos de un array usando slicing.\n",
    "\n",
    "### **Ejemplo: Incrementar Valores**\n"
   ]
  },
  {
   "cell_type": "code",
   "execution_count": null,
   "metadata": {},
   "outputs": [],
   "source": [
    "# Incrementar en 10 los valores de un rango\n",
    "array[0:3] += 10\n",
    "\n",
    "# Imprimir resultados\n",
    "print(\"Array después de incrementar valores:\", array)  # Resultado: [20 87 98 99 50]\n"
   ]
  },
  {
   "cell_type": "markdown",
   "metadata": {},
   "source": [
    "### **Tabla Resumen de Manipulación de Datos**\n",
    "\n",
    "| **Operación**             | **Ejemplo**                              | **Resultado**                           |\n",
    "|---------------------------|------------------------------------------|-----------------------------------------|\n",
    "| Modificar un elemento      | `array[2] = 99`                         | [10, 20, 99, 40, 50]                   |\n",
    "| Modificar un rango         | `array[1:4] = [77, 88, 99]`             | [10, 77, 88, 99, 50]                   |\n",
    "| Incrementar valores        | `array[0:3] += 10`                      | [20, 87, 98, 99, 50]                   |\n",
    "| Condicional (mayores a 50) | `array[array > 50] *= 2`                | [20, 174, 196, 198, 50]                |\n",
    "\n",
    "---\n",
    "\n",
    "### **Conclusión**\n",
    "\n",
    "Las herramientas de manipulación de datos en NumPy permiten modificar arrays de forma directa y eficiente. Ya sea para ajustar elementos individuales, actualizar rangos, o realizar operaciones condicionales, estas funcionalidades son esenciales para trabajar con datos dinámicos y preparar estructuras listas para análisis o cálculos complejos.\n"
   ]
  },
  {
   "cell_type": "markdown",
   "metadata": {},
   "source": [
    "---\n",
    "\n",
    "## **Máscaras Booleanas**\n",
    "\n",
    "Las máscaras booleanas son una herramienta fundamental en NumPy para trabajar con subconjuntos de datos de manera eficiente. Estas máscaras permiten realizar operaciones como **seleccionar**, **filtrar** o **modificar** elementos de un array que cumplen ciertas condiciones lógicas, lo que las convierte en una técnica avanzada de manipulación de datos.\n",
    "\n",
    "Este enfoque es especialmente valioso cuando se trabaja con grandes conjuntos de datos. Por ejemplo:\n",
    "- Si tienes un dataset con miles de registros, las máscaras booleanas te permiten identificar y operar únicamente sobre los elementos que cumplen una serie de criterios predefinidos, sin necesidad de recurrir a bucles complejos o manipulaciones individuales.\n",
    "\n",
    "Por lo tanto esta función es una combinacion avanzada de los modulos vistos de indexación,busqueda de datos y modificación\n",
    "\n",
    "---\n",
    "\n",
    "\n",
    "#### **Crear una Máscara Booleana**\n",
    "\n",
    "Una máscara booleana es un array compuesto por valores `True` y `False`, generado al evaluar una condición lógica sobre los elementos de un array. \n",
    "\n",
    "- Los valores `True` representan los elementos que cumplen la condición.\n",
    "- Los valores `False` representan los que no la cumplen.\n",
    "\n",
    "**Ejemplo**:\n"
   ]
  },
  {
   "cell_type": "code",
   "execution_count": 34,
   "metadata": {},
   "outputs": [
    {
     "name": "stdout",
     "output_type": "stream",
     "text": [
      "Máscara booleana: [False False  True  True  True]\n"
     ]
    }
   ],
   "source": [
    "# Crear un array\n",
    "import numpy as np\n",
    "array = np.array([10, 20, 30, 40, 50])\n",
    "\n",
    "# Crear una máscara para elementos mayores a 25\n",
    "mascara = array > 25\n",
    "print(\"Máscara booleana:\", mascara)  # [False False  True  True  True]\n"
   ]
  },
  {
   "cell_type": "markdown",
   "metadata": {},
   "source": [
    "---\n",
    "\n",
    "#### **Filtrar Elementos usando una Máscara**\n",
    "\n",
    "Puedes usar una máscara booleana para seleccionar solo los elementos que cumplen una condición.\n"
   ]
  },
  {
   "cell_type": "code",
   "execution_count": 35,
   "metadata": {},
   "outputs": [
    {
     "name": "stdout",
     "output_type": "stream",
     "text": [
      "Elementos mayores a 25: [30 40 50]\n"
     ]
    }
   ],
   "source": [
    "# Usar la máscara para filtrar elementos\n",
    "elementos_filtrados = array[mascara]\n",
    "print(\"Elementos mayores a 25:\", elementos_filtrados)  # [30 40 50]\n"
   ]
  },
  {
   "cell_type": "markdown",
   "metadata": {},
   "source": [
    "---\n",
    "\n",
    "#### **Modificar Elementos usando Máscaras**\n",
    "\n",
    "Las máscaras también pueden utilizarse para modificar directamente los elementos que cumplen una condición.\n"
   ]
  },
  {
   "cell_type": "code",
   "execution_count": null,
   "metadata": {},
   "outputs": [],
   "source": [
    "# Modificar elementos mayores a 25\n",
    "array[array > 25] = 0\n",
    "print(\"Array modificado:\", array)  # [10 20  0  0  0]"
   ]
  },
  {
   "cell_type": "markdown",
   "metadata": {},
   "source": [
    "---\n",
    "\n",
    "#### **Máscaras Combinadas**\n",
    "\n",
    "Se pueden combinar múltiples condiciones utilizando operadores lógicos como `&` (AND) y `|` (OR).\n",
    "\n",
    "**Ejemplo**:\n"
   ]
  },
  {
   "cell_type": "markdown",
   "metadata": {},
   "source": [
    "# Crear un array\n",
    "array = np.array([10, 20, 30, 40, 50])\n",
    "\n",
    "# Crear una máscara combinada (mayores a 20 Y menores o iguales a 40)\n",
    "mascara_combinada = (array > 20) & (array <= 40)\n",
    "print(\"Máscara combinada:\", mascara_combinada)  # [False False  True  True False]\n",
    "\n",
    "# Filtrar elementos con la máscara combinada\n",
    "elementos_filtrados = array[mascara_combinada]\n",
    "print(\"Elementos filtrados:\", elementos_filtrados)  # [30 40]"
   ]
  },
  {
   "cell_type": "markdown",
   "metadata": {},
   "source": [
    "---\n",
    "\n",
    "### **Conclusión del Módulo de Máscaras Booleanas**\n",
    "\n",
    "Las máscaras booleanas son una herramienta fundamental en NumPy que permite realizar operaciones de selección, filtrado y modificación de datos de manera eficiente. Una forma sencilla de entender su funcionalidad es compararlas con una consulta SQL, ya que ambas comparten objetivos similares:\n",
    "\n",
    "1. **Filtrar elementos específicos**:\n",
    "   - En SQL, esto se realiza con una cláusula `WHERE`, como en `SELECT * FROM tabla WHERE columna > valor`.\n",
    "   - En NumPy, usamos máscaras booleanas: `array[array > valor]`.\n",
    "\n",
    "2. **Modificar datos condicionalmente**:\n",
    "   - En SQL, esto se logra con un `UPDATE`, como en `UPDATE tabla SET columna = nuevo_valor WHERE columna > valor`.\n",
    "   - En NumPy, utilizamos máscaras para identificar los elementos y asignarles nuevos valores directamente: `array[array > valor] = nuevo_valor`.\n",
    "\n",
    "Esta analogía ayuda a comprender cómo las máscaras booleanas no solo permiten trabajar con subconjuntos de datos, sino que también facilitan operaciones complejas de forma vectorizada, sin necesidad de bucles explícitos.\n",
    "\n",
    "---\n",
    "\n",
    "### **Ventajas de las Máscaras Booleanas en NumPy**\n",
    "- **Eficiencia**: Las operaciones son vectorizadas, procesándose en paralelo y de manera optimizada.\n",
    "- **Flexibilidad**: Es posible combinar múltiples condiciones con operadores lógicos (`&`, `|`) para realizar filtros más específicos.\n",
    "- **Simplicidad**: Permiten trabajar con subconjuntos de datos y realizar modificaciones directamente sobre el array original.\n",
    "\n",
    "---\n",
    "\n",
    "### **Resumen Comparativo**\n",
    "\n",
    "| **Función**            | **SQL**                                          | **NumPy**                        |\n",
    "|-------------------------|--------------------------------------------------|----------------------------------|\n",
    "| Seleccionar elementos   | `SELECT * FROM tabla WHERE columna > valor`      | `array[array > valor]`           |\n",
    "| Modificar elementos     | `UPDATE tabla SET columna = nuevo_valor WHERE ...`| `array[array > valor] = nuevo_valor` |\n",
    "\n",
    "---\n"
   ]
  },
  {
   "cell_type": "markdown",
   "metadata": {},
   "source": [
    "# **Operaciones con Arrays en NumPy**\n",
    "\n",
    "NumPy proporciona herramientas rápidas y eficientes para realizar operaciones matemáticas directamente sobre arrays. Estas operaciones están optimizadas y se aplican elemento a elemento, lo que las hace ideales para manejar grandes volúmenes de datos.\n",
    "\n",
    "---"
   ]
  },
  {
   "cell_type": "markdown",
   "metadata": {},
   "source": [
    "# Crear un array de ejemplo\n",
    "import numpy as np\n",
    "array = np.array([1, 2, 3, 4, 5])\n"
   ]
  },
  {
   "cell_type": "markdown",
   "metadata": {},
   "source": [
    "## **1. Suma Total: `sum()`**\n",
    "\n",
    "El método `sum()` calcula la suma de todos los elementos del array.\n"
   ]
  },
  {
   "cell_type": "code",
   "execution_count": null,
   "metadata": {},
   "outputs": [],
   "source": [
    "# Calcular la suma total\n",
    "suma_total = array.sum()\n",
    "\n",
    "# Imprimir resultado\n",
    "print(\"Suma total:\", suma_total)  "
   ]
  },
  {
   "cell_type": "markdown",
   "metadata": {},
   "source": [
    "## **2. Resta: `np.diff()`**\n",
    "\n",
    "La función `np.diff()` calcula la diferencia entre elementos consecutivos de un array.\n"
   ]
  },
  {
   "cell_type": "code",
   "execution_count": null,
   "metadata": {},
   "outputs": [],
   "source": [
    "# Calcular diferencias entre elementos consecutivos\n",
    "diferencias = np.diff(array)\n",
    "\n",
    "# Imprimir resultado\n",
    "print(\"Diferencias entre elementos consecutivos:\", diferencias)  # Resultado: [10, 10, 10, 10]\n"
   ]
  },
  {
   "cell_type": "markdown",
   "metadata": {},
   "source": [
    "## **3. Suma Acumulada: `cumsum()`**\n",
    "\n",
    "El método `cumsum()` calcula la suma acumulada de los elementos del array.\n"
   ]
  },
  {
   "cell_type": "code",
   "execution_count": null,
   "metadata": {},
   "outputs": [],
   "source": [
    "# Calcular la suma acumulada\n",
    "suma_acumulada = array.cumsum()\n",
    "\n",
    "# Imprimir resultado\n",
    "print(\"Suma acumulada:\", suma_acumulada) "
   ]
  },
  {
   "cell_type": "markdown",
   "metadata": {},
   "source": [
    "## **4. Multiplicación Elemento a Elemento: `multiply()`**\n",
    "\n",
    "El método `np.multiply()` realiza la multiplicación elemento a elemento entre dos arrays.\n"
   ]
  },
  {
   "cell_type": "code",
   "execution_count": null,
   "metadata": {},
   "outputs": [],
   "source": [
    "# Crear arrays de ejemplo\n",
    "array1 = np.array([1, 2, 3])\n",
    "array2 = np.array([4, 5, 6])\n",
    "\n",
    "# Multiplicación elemento a elemento\n",
    "multiplicacion = np.multiply(array1, array2)\n",
    "\n",
    "# Imprimir resultados\n",
    "print(\"Multiplicación elemento a elemento:\", multiplicacion)  # Resultado: [4, 10, 18]"
   ]
  },
  {
   "cell_type": "markdown",
   "metadata": {},
   "source": [
    "## **5. División Elemento a Elemento: `divide()`**\n",
    "\n",
    "El método `np.divide()` divide elemento a elemento entre dos arrays. Maneja divisiones por cero retornando `inf` o `NaN` cuando sea necesario.\n"
   ]
  },
  {
   "cell_type": "code",
   "execution_count": null,
   "metadata": {},
   "outputs": [],
   "source": [
    "# División elemento a elemento\n",
    "division = np.divide(array1, array2)\n",
    "\n",
    "# Imprimir resultados\n",
    "print(\"División elemento a elemento:\", division)  # Resultado: [0.25, 0.4, 0.5]"
   ]
  },
  {
   "cell_type": "markdown",
   "metadata": {},
   "source": [
    "## **6. Resto de la División: `mod()`**\n",
    "\n",
    "El método `np.mod()` calcula el módulo (resto de la división) entre los elementos de dos arrays.\n"
   ]
  },
  {
   "cell_type": "code",
   "execution_count": null,
   "metadata": {},
   "outputs": [],
   "source": [
    "# Cálculo del módulo\n",
    "modulo = np.mod(array1, array2)\n",
    "\n",
    "# Imprimir resultados\n",
    "print(\"Módulo elemento a elemento:\", modulo)  # Resultado: [1, 2, 3]"
   ]
  },
  {
   "cell_type": "markdown",
   "metadata": {},
   "source": [
    "## **7. Potencia Elemento a Elemento: `power()`**\n",
    "\n",
    "El método `np.power()` eleva cada elemento de un array a la potencia del elemento correspondiente en otro array."
   ]
  },
  {
   "cell_type": "code",
   "execution_count": 43,
   "metadata": {},
   "outputs": [
    {
     "name": "stdout",
     "output_type": "stream",
     "text": [
      "Potencia elemento a elemento: [ 1 16]\n"
     ]
    }
   ],
   "source": [
    "# Potencia elemento a elemento\n",
    "potencia = np.power(array1, array2)\n",
    "\n",
    "# Imprimir resultados\n",
    "print(\"Potencia elemento a elemento:\", potencia)  # Resultado: [1, 32, 729]"
   ]
  },
  {
   "cell_type": "markdown",
   "metadata": {},
   "source": [
    "## **8. Producto Punto: `dot()`**\n",
    "\n",
    "El método `np.dot()` calcula el producto punto de dos arrays. Para matrices, equivale al producto matricial.\n"
   ]
  },
  {
   "cell_type": "code",
   "execution_count": null,
   "metadata": {},
   "outputs": [],
   "source": [
    "# Producto punto\n",
    "producto_punto = np.dot(array1, array2)\n",
    "\n",
    "# Imprimir resultados\n",
    "print(\"Producto punto:\", producto_punto)  # Resultado: 32"
   ]
  },
  {
   "cell_type": "markdown",
   "metadata": {},
   "source": [
    "## **Tabla Resumen**\n",
    "\n",
    "| **Método/Función**  | **Propósito**                     | **Ejemplo**                          |\n",
    "|---------------------|-----------------------------------|--------------------------------------|\n",
    "| `sum()`             | Suma de todos los elementos.     | `array.sum()`                       |\n",
    "| `np.diff()`          | Resta de los elementos. | `np.diff(array)`                    |\n",
    "| `cumsum()`          | Suma acumulada de los elementos. | `array.cumsum()`                    |\n",
    "| `np.multiply()`     | Multiplicación elemento a elemento entre dos arrays.    | `np.multiply(array1, array2)`    |\n",
    "| `np.divide()`       | División elemento a elemento entre dos arrays.          | `np.divide(array1, array2)`      |\n",
    "| `np.mod()`          | Cálculo del módulo entre los elementos de dos arrays.   | `np.mod(array1, array2)`         |\n",
    "| `np.power()`        | Eleva elementos de un array a la potencia de otro.      | `np.power(array1, array2)`       |\n",
    "| `np.dot()`          | Producto punto entre dos arrays.                       | `np.dot(array1, array2)`         |\n",
    "\n",
    "\n",
    "### **Conclusión**\n",
    "\n",
    "Estas operaciones son fundamentales en el análisis y manipulación de datos, permitiendo obtener información estadística básica y relaciones entre los datos de forma rápida y eficiente. \n"
   ]
  },
  {
   "cell_type": "markdown",
   "metadata": {},
   "source": [
    "## **Operaciones con Valores `NaN` en NumPy**\n",
    "\n",
    "NumPy incluye funciones especiales diseñadas para trabajar con valores `NaN` (*Not a Number*), los cuales suelen aparecer en datasets incompletos o en operaciones matemáticas que generan resultados indefinidos, como divisiones por cero.\n",
    "\n",
    "Las funciones `NaN-aware` son variantes de las operaciones estándar de NumPy, pero están optimizadas para ignorar los valores `NaN`. Esto permite realizar cálculos confiables sin necesidad de limpiar los datos manualmente.\n",
    "\n",
    "---\n",
    "\n",
    "### **Funciones Disponibles:**\n",
    "\n",
    "1. **`np.nansum()`**\n",
    "   - Calcula la suma de los elementos ignorando los valores `NaN`.\n",
    "   - **Uso típico:** Cuando tienes datos incompletos y deseas sumar los valores válidos sin preocuparte por los valores faltantes.\n",
    "\n",
    "2. **`np.nanmean()`**\n",
    "   - Calcula el promedio de los elementos ignorando los valores `NaN`.\n",
    "   - **Ventaja:** Proporciona un promedio representativo incluso si hay datos faltantes.\n",
    "\n",
    "3. **`np.nanstd()`**\n",
    "   - Calcula la desviación estándar ignorando los valores `NaN`.\n",
    "   - **Ventaja:** Útil para evaluar la dispersión de datos con valores faltantes.\n",
    "\n",
    "4. **`np.nanvar()`**\n",
    "   - Calcula la varianza ignorando los valores `NaN`.\n",
    "   - **Uso típico:** Determinar la variabilidad de datos incompletos.\n",
    "\n",
    "5. **`np.nanmin()` y `np.nanmax()`**\n",
    "   - Encuentran el mínimo y máximo ignorando los valores `NaN`.\n",
    "   - **Ventaja:** Útil para encontrar extremos en datasets incompletos.\n",
    "\n",
    "6. **`np.nanpercentile()`**\n",
    "   - Calcula percentiles ignorando los valores `NaN`.\n",
    "   - **Uso típico:** Análisis estadístico avanzado de datos incompletos.\n",
    "\n",
    "---\n",
    "\n",
    "### **¿Por qué usar estas funciones?**\n",
    "\n",
    "1. **Eficiencia:** Estas funciones eliminan la necesidad de limpiar manualmente los datos para valores `NaN`, lo que ahorra tiempo y esfuerzo.\n",
    "2. **Robustez:** Garantizan que los cálculos sean correctos incluso en presencia de datos faltantes.\n",
    "3. **Compatibilidad:** Son ideales para trabajar con grandes volúmenes de datos donde los valores faltantes son inevitables.\n",
    "4. **Automatización:** Permiten realizar análisis estadísticos directamente sin preocuparte por posibles errores causados por los `NaN`.\n",
    "\n",
    "---\n",
    "\n",
    "### **Ventajas de las Operaciones con `NaN`**\n",
    "\n",
    "- **Evitan Errores Matemáticos:** Las operaciones estándar pueden devolver `NaN` cuando encuentran valores faltantes, lo que puede interrumpir flujos de trabajo. Estas funciones eliminan ese problema.\n",
    "- **Análisis Más Confiable:** Los resultados no se ven afectados por valores faltantes, lo que proporciona una representación más precisa del dataset.\n",
    "- **Mayor Flexibilidad:** Puedes enfocarte en el análisis sin tener que preocuparte por limpiar valores faltantes.\n",
    "\n",
    "---\n",
    "\n",
    "### **Tabla Resumen de Funciones con `NaN`**\n",
    "\n",
    "| **Función**           | **Propósito**                                  | **Descripción**                                         |\n",
    "|-----------------------|-----------------------------------------------|-------------------------------------------------------|\n",
    "| `np.nansum()`         | Suma ignorando `NaN`.                        | Suma solo los valores válidos en el array.            |\n",
    "| `np.nanmean()`        | Promedio ignorando `NaN`.                    | Calcula la media aritmética de los valores válidos.   |\n",
    "| `np.nanstd()`         | Desviación estándar ignorando `NaN`.          | Evalúa la dispersión de los datos sin `NaN`.          |\n",
    "| `np.nanvar()`         | Varianza ignorando `NaN`.                     | Calcula la variabilidad de los datos válidos.         |\n",
    "| `np.nanmin()`         | Valor mínimo ignorando `NaN`.                | Encuentra el menor valor válido en el array.          |\n",
    "| `np.nanmax()`         | Valor máximo ignorando `NaN`.                | Encuentra el mayor valor válido en el array.          |\n",
    "| `np.nanpercentile()`  | Percentiles ignorando `NaN`.                 | Calcula percentiles mientras ignora los `NaN`.        |\n",
    "\n",
    "---\n",
    "\n",
    "### **Conclusión**\n",
    "\n",
    "Las funciones con soporte para `NaN` en NumPy son herramientas esenciales para trabajar con datos incompletos. Estas funciones no solo ahorran tiempo y esfuerzo al ignorar automáticamente los valores faltantes, sino que también garantizan que los análisis sean precisos y confiables. Usarlas es una práctica recomendada cuando se manejan datasets reales, donde los datos faltantes son comunes.\n"
   ]
  },
  {
   "cell_type": "markdown",
   "metadata": {},
   "source": [
    "# **Operaciones Adicionales con Arrays en NumPy**\n",
    "\n",
    "NumPy incluye muchas operaciones útiles para el análisis y manipulación de datos, como encontrar máximos, mínimos, calcular desviaciones estándar, varianza y más.\n"
   ]
  },
  {
   "cell_type": "code",
   "execution_count": null,
   "metadata": {},
   "outputs": [],
   "source": [
    "# Crear un array de ejemplo\n",
    "import numpy as np\n",
    "array = np.array([1, 2, 3, 4, 5])"
   ]
  },
  {
   "cell_type": "markdown",
   "metadata": {},
   "source": [
    "## **1. Máximo: `max()`**\n",
    "\n",
    "El método `max()` devuelve el valor máximo de los elementos del array.\n"
   ]
  },
  {
   "cell_type": "code",
   "execution_count": null,
   "metadata": {},
   "outputs": [],
   "source": [
    "# Calcular el máximo\n",
    "maximo = array.max()\n",
    "\n",
    "# Imprimir resultado\n",
    "print(\"Máximo:\", maximo)  # Resultado: 5"
   ]
  },
  {
   "cell_type": "markdown",
   "metadata": {},
   "source": [
    "## **2. Mínimo: `min()`**\n",
    "\n",
    "El método `min()` devuelve el valor mínimo de los elementos del array."
   ]
  },
  {
   "cell_type": "code",
   "execution_count": null,
   "metadata": {},
   "outputs": [],
   "source": [
    "# Calcular el mínimo\n",
    "minimo = array.min()\n",
    "\n",
    "# Imprimir resultado\n",
    "print(\"Mínimo:\", minimo)  # Resultado: 1"
   ]
  },
  {
   "cell_type": "markdown",
   "metadata": {},
   "source": [
    "## **3. Promedio: `mean()`**\n",
    "\n",
    "El método `mean()` devuelve el promedio (media aritmética) de los elementos del array.\n"
   ]
  },
  {
   "cell_type": "code",
   "execution_count": null,
   "metadata": {},
   "outputs": [],
   "source": [
    "# Calcular el promedio\n",
    "promedio = array.mean()\n",
    "\n",
    "# Imprimir resultado\n",
    "print(\"Promedio:\", promedio) "
   ]
  },
  {
   "cell_type": "markdown",
   "metadata": {},
   "source": [
    "## **4. Mediana: `median()`**\n",
    "\n",
    "La mediana se calcula utilizando la función `np.median()`, ya que no es un método directo del objeto array.\n"
   ]
  },
  {
   "cell_type": "code",
   "execution_count": null,
   "metadata": {},
   "outputs": [],
   "source": [
    "# Calcular la mediana\n",
    "mediana = np.median(array)\n",
    "\n",
    "# Imprimir resultado\n",
    "print(\"Mediana:\", mediana)  "
   ]
  },
  {
   "cell_type": "markdown",
   "metadata": {},
   "source": [
    "## **5. Desviación Estándar: `std()`**\n",
    "\n",
    "El método `std()` calcula la desviación estándar de los elementos del array, una medida de la dispersión de los datos."
   ]
  },
  {
   "cell_type": "code",
   "execution_count": null,
   "metadata": {},
   "outputs": [],
   "source": [
    "# Calcular la desviación estándar\n",
    "desviacion_estandar = array.std()\n",
    "\n",
    "# Imprimir resultado\n",
    "print(\"Desviación estándar:\", desviacion_estandar)  # Resultado: 1.414"
   ]
  },
  {
   "cell_type": "markdown",
   "metadata": {},
   "source": [
    "## **6. Varianza: `var()`**\n",
    "\n",
    "El método `var()` calcula la varianza de los elementos del array, que es el cuadrado de la desviación estándar.\n"
   ]
  },
  {
   "cell_type": "code",
   "execution_count": null,
   "metadata": {},
   "outputs": [],
   "source": [
    "# Calcular la varianza\n",
    "varianza = array.var()\n",
    "\n",
    "# Imprimir resultado\n",
    "print(\"Varianza:\", varianza)  # Resultado: 2.0"
   ]
  },
  {
   "cell_type": "markdown",
   "metadata": {},
   "source": [
    "## **7. Correlación: `np.corrcoef()`**\n",
    "\n",
    "La correlación entre dos arrays se calcula utilizando la función `np.corrcoef()`."
   ]
  },
  {
   "cell_type": "code",
   "execution_count": null,
   "metadata": {},
   "outputs": [],
   "source": [
    "# Crear dos arrays de ejemplo\n",
    "array1 = np.array([1, 2, 3])\n",
    "array2 = np.array([10, 20, 30])\n",
    "\n",
    "# Calcular la correlación\n",
    "correlacion = np.corrcoef(array1, array2)\n",
    "\n",
    "# Imprimir resultado\n",
    "print(\"Correlación:\\n\", correlacion)"
   ]
  },
  {
   "cell_type": "markdown",
   "metadata": {},
   "source": [
    "## **8. Rango de los Datos: `ptp()`**\n",
    "\n",
    "El método `ptp()` calcula el rango (diferencia entre el valor máximo y mínimo) del array.\n"
   ]
  },
  {
   "cell_type": "code",
   "execution_count": null,
   "metadata": {},
   "outputs": [],
   "source": [
    "# Calcular el rango\n",
    "rango = array.ptp()\n",
    "\n",
    "# Imprimir resultado\n",
    "print(\"Rango:\", rango)  # Resultado: 4\n"
   ]
  },
  {
   "cell_type": "markdown",
   "metadata": {},
   "source": [
    "### **Tabla Resumen de Operaciones Matemáticas**\n",
    "\n",
    "| **Función**           | **Propósito**                                       | **Descripción**                                                      |\n",
    "|-----------------------|---------------------------------------------------|----------------------------------------------------------------------|\n",
    "| `np.max()`            | Valor máximo.                                     | Devuelve el valor máximo en el array o a lo largo de un eje.        |\n",
    "| `np.min()`            | Valor mínimo.                                     | Devuelve el valor mínimo en el array o a lo largo de un eje.        |\n",
    "| `np.mean()`           | Promedio.                                         | Calcula la media aritmética de los valores en el array.             |\n",
    "| `np.median()`         | Mediana.                                          | Encuentra el valor medio de los datos (punto central).              |\n",
    "| `np.std()`            | Desviación estándar.                              | Evalúa la dispersión de los datos en el array.                      |\n",
    "| `np.var()`            | Varianza.                                         | Calcula la variabilidad de los datos en el array.                   |\n",
    "| `np.corrcoef()`       | Correlación.                                      | Calcula la matriz de correlación entre dos o más arrays.            |\n",
    "| `np.ptp()`            | Rango (máximo - mínimo).                          | Devuelve la diferencia entre el valor máximo y mínimo del array.    |\n",
    "\n",
    "### **Conclusión**\n",
    "\n",
    "Estas operaciones adicionales de NumPy amplían el rango de análisis estadístico básico y avanzado que puedes realizar directamente sobre arrays, ayudándote a extraer información clave de los datos.\n"
   ]
  },
  {
   "cell_type": "markdown",
   "metadata": {},
   "source": [
    "# **Broadcasting en NumPy**\n",
    "\n",
    "El **broadcasting** es una funcionalidad poderosa de NumPy que permite realizar operaciones entre arrays de diferentes formas (dimensiones) sin necesidad de copiarlos o reestructurarlos explícitamente.\n",
    "\n",
    "Cuando NumPy encuentra arrays con formas incompatibles para una operación matemática, intenta ajustarlos automáticamente siguiendo las **reglas de broadcasting**. Esto ahorra memoria y tiempo computacional al evitar la duplicación innecesaria de datos.\n",
    "\n",
    "## **1. ¿Cómo Funciona el Broadcasting?**\n",
    "\n",
    "NumPy aplica estas reglas para realizar broadcasting:\n",
    "\n",
    "1. **Regla 1:** Si los arrays tienen un número diferente de dimensiones, se agrega un eje de tamaño 1 a la izquierda del array de menor dimensión.\n",
    "2. **Regla 2:** Si los tamaños de los ejes no coinciden, pero uno de ellos es 1, NumPy \"estira\" el eje de tamaño 1 para que coincida con el tamaño del otro array.\n",
    "3. **Regla 3:** Si los tamaños de los ejes no coinciden y ninguno es 1, la operación no es válida.\n",
    "\n",
    "## **2. Ejemplos de Broadcasting**\n",
    "\n",
    "### **2.1. Operaciones entre Escalar y Array**\n",
    "\n",
    "Un escalar puede ser transmitido para operar sobre todos los elementos de un array.\n"
   ]
  },
  {
   "cell_type": "code",
   "execution_count": null,
   "metadata": {},
   "outputs": [],
   "source": [
    "# Array unidimensional\n",
    "array = np.array([1, 2, 3, 4])\n",
    "\n",
    "# Broadcasting: escalar sumado a un array\n",
    "resultado = array + 10\n",
    "\n",
    "# Imprimir resultado\n",
    "print(\"Array original:\", array)       # [1, 2, 3, 4]\n",
    "print(\"Resultado del broadcasting:\", resultado)  # [11, 12, 13, 14]\n"
   ]
  },
  {
   "cell_type": "markdown",
   "metadata": {},
   "source": [
    "### **2.2. Operaciones entre Arrays de Diferente Dimensión**\n",
    "\n",
    "Un array unidimensional puede ser \"estirado\" para operar con un array bidimensional.\n"
   ]
  },
  {
   "cell_type": "code",
   "execution_count": null,
   "metadata": {},
   "outputs": [],
   "source": [
    "# Array bidimensional\n",
    "matriz = np.array([[1, 2, 3], [4, 5, 6]])\n",
    "\n",
    "# Array unidimensional\n",
    "vector = np.array([10, 20, 30])\n",
    "\n",
    "# Broadcasting: suma entre matriz y vector\n",
    "resultado = matriz + vector\n",
    "\n",
    "# Imprimir resultados\n",
    "print(\"Matriz original:\\n\", matriz)\n",
    "print(\"Vector:\\n\", vector)\n",
    "print(\"Resultado del broadcasting:\\n\", resultado)"
   ]
  },
  {
   "cell_type": "markdown",
   "metadata": {},
   "source": [
    "### **2.3. Operaciones con Dimensiones Agregadas**\n",
    "\n",
    "Si los tamaños no coinciden, pero una dimensión tiene tamaño 1, NumPy puede estirar ese eje para que coincidan.\n",
    "\n",
    "#### **Ejemplo: Array Bidimensional y Array Unidimensional (eje 0)**\n"
   ]
  },
  {
   "cell_type": "code",
   "execution_count": null,
   "metadata": {},
   "outputs": [],
   "source": [
    "# Array bidimensional\n",
    "matriz = np.array([[1, 2, 3], [4, 5, 6]])\n",
    "\n",
    "# Array unidimensional (columna)\n",
    "vector_columna = np.array([[10], [20]])\n",
    "\n",
    "# Broadcasting: suma entre matriz y vector_columna\n",
    "resultado = matriz + vector_columna\n",
    "\n",
    "# Imprimir resultados\n",
    "print(\"Matriz original:\\n\", matriz)\n",
    "print(\"Vector columna:\\n\", vector_columna)\n",
    "print(\"Resultado del broadcasting:\\n\", resultado)"
   ]
  },
  {
   "cell_type": "markdown",
   "metadata": {},
   "source": [
    "## **3. Casos en los que el Broadcasting Falla**\n",
    "\n",
    "El broadcasting no funciona cuando las dimensiones de los arrays son incompatibles y no cumplen las reglas mencionadas.\n",
    "\n",
    "#### **Ejemplo: Arrays Incompatibles**\n",
    "Un array bidimensional y un array unidimensional con tamaños no compatibles generan un error."
   ]
  },
  {
   "cell_type": "code",
   "execution_count": null,
   "metadata": {},
   "outputs": [],
   "source": [
    "# Array bidimensional\n",
    "matriz = np.array([[1, 2], [3, 4]])\n",
    "\n",
    "# Array unidimensional con tamaño incompatible\n",
    "vector_incompatible = np.array([10, 20, 30])\n",
    "\n",
    "# Intentar una operación genera un error\n",
    "try:\n",
    "    resultado = matriz + vector_incompatible\n",
    "except ValueError as e:\n",
    "    print(\"Error de broadcasting:\", e)"
   ]
  },
  {
   "cell_type": "markdown",
   "metadata": {},
   "source": [
    "### **Conclusión**\n",
    "\n",
    "El broadcasting en NumPy permite realizar operaciones matemáticas entre arrays de diferentes formas de manera eficiente. Comprender sus reglas y limitaciones es fundamental para aprovechar al máximo esta funcionalidad y evitar errores en el manejo de datos.\n"
   ]
  }
 ],
 "metadata": {
  "kernelspec": {
   "display_name": "Python 3",
   "language": "python",
   "name": "python3"
  },
  "language_info": {
   "codemirror_mode": {
    "name": "ipython",
    "version": 3
   },
   "file_extension": ".py",
   "mimetype": "text/x-python",
   "name": "python",
   "nbconvert_exporter": "python",
   "pygments_lexer": "ipython3",
   "version": "3.10.12"
  }
 },
 "nbformat": 4,
 "nbformat_minor": 2
}
