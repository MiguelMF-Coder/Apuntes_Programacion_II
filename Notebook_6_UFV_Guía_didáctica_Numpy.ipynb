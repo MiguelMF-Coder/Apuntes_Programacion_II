{
  "cells": [
    {
      "cell_type": "markdown",
      "metadata": {
        "id": "nSkJ02r6V5r9"
      },
      "source": [
        "# NumPy\n",
        "\n",
        "NumPy (también `np` o `Numpy` en esta guía) es la principal librería de Python para el manejo de arrays multidimensionales.\n",
        "\n",
        "Es utilizada por su gestión rápida y eficiente de estas estructuras, que son los bloques básicos sobre los que se construyen otras librerías como TensorFlow o scikit-learn.\n",
        "\n",
        "\n",
        "Por tanto, si te vas a dedicar a Ciencia o Análisis de Datos, es importante que la conozcas.\n",
        "\n",
        "## Componentes principales\n",
        "\n",
        "* Objeto array N-dimensional llamado ndarray.\n",
        "* Rutinas para trabajar con arrays.\n",
        "* Rutinas de matrices (numpy.matlib)\n",
        "* Rutinas de álgebra lineal (numpy.linalg)\n",
        "* Otras: muestreo (numpy.random), álgebra lineal (numpy.linalg), etc.\n"
      ]
    },
    {
      "cell_type": "code",
      "execution_count": null,
      "metadata": {
        "collapsed": true,
        "id": "_ePLRAAUV5sA"
      },
      "outputs": [],
      "source": [
        "import numpy as np"
      ]
    },
    {
      "cell_type": "markdown",
      "metadata": {
        "id": "AdMOpLA5V5sB"
      },
      "source": [
        "# Numpy Arrays\n",
        "Numpy tiene como estructura de datos básica los arrays. Un array es un **contenedor** multidimensional de elementos **del mismo tipo y tamaño**.\n",
        "Estos arrays vienen en forma de vectores (1-d) o matrices (2-d).\n",
        "\n",
        "**NOTA:** `np` permite la gestión de varios tipos de datos como, por ejemplo, arrays estructurados. Para el objeto de introducción de la librería no se va a tratar este tipo de casos.\n"
      ]
    },
    {
      "cell_type": "markdown",
      "metadata": {
        "id": "LPEUSnS_aXzz"
      },
      "source": [
        "\n",
        "## Creación de arrays\n"
      ]
    },
    {
      "cell_type": "markdown",
      "metadata": {
        "id": "XttT8YZGaaDO"
      },
      "source": [
        "\n",
        "### Desde una lista\n"
      ]
    },
    {
      "cell_type": "code",
      "execution_count": null,
      "metadata": {
        "id": "mwUig7TdV5sB"
      },
      "outputs": [],
      "source": [
        "lista = [1,2,3]"
      ]
    },
    {
      "cell_type": "code",
      "execution_count": null,
      "metadata": {
        "id": "BhUrd0JcV5sC"
      },
      "outputs": [],
      "source": [
        "np.array(lista)"
      ]
    },
    {
      "cell_type": "code",
      "execution_count": null,
      "metadata": {
        "id": "TsS-mEYQLBaX"
      },
      "outputs": [],
      "source": [
        "type(np.array(lista))"
      ]
    },
    {
      "cell_type": "code",
      "execution_count": null,
      "metadata": {
        "id": "PNNeqgCHV5sD"
      },
      "outputs": [],
      "source": [
        "matriz = [[1,2,3],[4,5,6],[7,8,9]]\n",
        "matriz"
      ]
    },
    {
      "cell_type": "code",
      "execution_count": null,
      "metadata": {
        "id": "jUViR9atV5sE"
      },
      "outputs": [],
      "source": [
        "npmatriz = np.array(matriz)"
      ]
    },
    {
      "cell_type": "markdown",
      "metadata": {
        "id": "J-Tj5NrOagbk"
      },
      "source": [
        "### Mediante funciones"
      ]
    },
    {
      "cell_type": "markdown",
      "metadata": {
        "id": "5zSxiU8VV5sG"
      },
      "source": [
        "#### Inicialización: zeros & ones\n",
        "\n",
        "Generan arrays de 0 y 1"
      ]
    },
    {
      "cell_type": "code",
      "execution_count": null,
      "metadata": {
        "id": "fwK8mARRV5sG"
      },
      "outputs": [],
      "source": [
        "np.zeros(3)"
      ]
    },
    {
      "cell_type": "code",
      "execution_count": null,
      "metadata": {
        "id": "zj0bk9KdV5sG"
      },
      "outputs": [],
      "source": [
        "np.zeros((5,5))"
      ]
    },
    {
      "cell_type": "code",
      "execution_count": null,
      "metadata": {
        "id": "-2Z9cmW6V5sH"
      },
      "outputs": [],
      "source": [
        "np.ones(3)"
      ]
    },
    {
      "cell_type": "code",
      "execution_count": null,
      "metadata": {
        "id": "S79oD5dwV5sH"
      },
      "outputs": [],
      "source": [
        "np.ones((3,3))"
      ]
    },
    {
      "cell_type": "markdown",
      "metadata": {
        "id": "CwgpoXftV5sF"
      },
      "source": [
        "#### arange\n",
        "\n",
        "Devuelve un array ordenado de valores en un intervalo y, opcionalmente, con un salto determinado"
      ]
    },
    {
      "cell_type": "code",
      "execution_count": null,
      "metadata": {
        "id": "DCFiAX8YV5sF"
      },
      "outputs": [],
      "source": [
        "np.arange(0,10)"
      ]
    },
    {
      "cell_type": "code",
      "execution_count": null,
      "metadata": {
        "id": "2ng3kNt-V5sF"
      },
      "outputs": [],
      "source": [
        "np.arange(0,11,2)"
      ]
    },
    {
      "cell_type": "markdown",
      "metadata": {
        "id": "C2cv7-ueV5sH"
      },
      "source": [
        "#### linspace\n",
        "Devuelve un array de números igualmente espaciados sobre un intervalo especificado."
      ]
    },
    {
      "cell_type": "code",
      "execution_count": null,
      "metadata": {
        "id": "74Y47eEQV5sI"
      },
      "outputs": [],
      "source": [
        "np.linspace(0,10,5)"
      ]
    },
    {
      "cell_type": "code",
      "execution_count": null,
      "metadata": {
        "id": "_fNSh3etV5sI"
      },
      "outputs": [],
      "source": [
        "np.linspace(0,10,8)"
      ]
    },
    {
      "cell_type": "markdown",
      "metadata": {
        "id": "EmBy45_GV5sI"
      },
      "source": [
        "#### eye\n",
        "\n",
        "Crea una matriz identidad"
      ]
    },
    {
      "cell_type": "code",
      "execution_count": null,
      "metadata": {
        "id": "gN2a7Jl7V5sJ"
      },
      "outputs": [],
      "source": [
        "np.eye(4)"
      ]
    },
    {
      "cell_type": "code",
      "execution_count": null,
      "metadata": {
        "id": "IqoVgSWqHZfj"
      },
      "outputs": [],
      "source": [
        "np.identity(4)"
      ]
    },
    {
      "cell_type": "markdown",
      "metadata": {
        "id": "mkeu4-LYV5sE"
      },
      "source": [
        "## Atributos de un array\n",
        "\n",
        "\n"
      ]
    },
    {
      "cell_type": "markdown",
      "metadata": {
        "id": "QDGv5Txmasda"
      },
      "source": [
        "### shape\n",
        "\n",
        "Permite identificar la estructura del array expresada como una tupla en la que se recogen sus dimensiones."
      ]
    },
    {
      "cell_type": "code",
      "execution_count": null,
      "metadata": {
        "id": "F-7L4zc9aikP"
      },
      "outputs": [],
      "source": [
        "npmatriz.shape"
      ]
    },
    {
      "cell_type": "markdown",
      "metadata": {
        "id": "Uz1BBVlra_xZ"
      },
      "source": [
        "### dtype\n",
        "Recoge el tipo datos de los elementos recogidos en el array."
      ]
    },
    {
      "cell_type": "code",
      "execution_count": null,
      "metadata": {
        "id": "8ORF7vhabmp3"
      },
      "outputs": [],
      "source": [
        "npmatriz.dtype"
      ]
    },
    {
      "cell_type": "markdown",
      "metadata": {
        "id": "mloK1g2OvWTj"
      },
      "source": [
        "## Tipos de datos\n",
        "\n",
        "NumPy permite definir tipos de datos específicos para un array. Las cinco categorías de datos básicos son  `booleanos (bool), enteros (int), unsigned int (uint) floating point (float) y complejos`. Estas categorías con un número representan el tamaño en bit del tipo de datos, esto es, cuántos bits son necesarios para representar su valor en memoria. Dependiendo de la precisión en los cálculos, deberías utilizar un tipo de dato u otro.\n",
        "\n",
        "\n",
        "Para más info, revisar:\n",
        "\n",
        "https://numpy.org/doc/stable/user/basics.types.html\n",
        "\n"
      ]
    },
    {
      "cell_type": "code",
      "execution_count": null,
      "metadata": {
        "id": "YqPt6HSnxQJM"
      },
      "outputs": [],
      "source": [
        "npmatriz.astype(np.float32)"
      ]
    },
    {
      "cell_type": "markdown",
      "metadata": {
        "id": "7kRpF7OMelq5"
      },
      "source": [
        "## Indexación y manipulación"
      ]
    },
    {
      "cell_type": "code",
      "execution_count": null,
      "metadata": {
        "id": "IUEejWMoelUR"
      },
      "outputs": [],
      "source": [
        "a1 = np.arange(0,10)"
      ]
    },
    {
      "cell_type": "markdown",
      "metadata": {
        "id": "981IN-z7rjPD"
      },
      "source": [
        "### Indexación:\n",
        "\n",
        "Un array de numpy es una estructura de datos indexada. La forma de trabajar es similar a la de las listas.\n"
      ]
    },
    {
      "cell_type": "markdown",
      "metadata": {
        "id": "yOvPcJVHfhW1"
      },
      "source": [
        "#### Arrays\n",
        "Funciona de forma similar a las listas:\n"
      ]
    },
    {
      "cell_type": "code",
      "execution_count": null,
      "metadata": {
        "id": "SKfTsNqErihG"
      },
      "outputs": [],
      "source": [
        "### Acceso a un elemento\n",
        "\n",
        "a1[2]"
      ]
    },
    {
      "cell_type": "code",
      "execution_count": null,
      "metadata": {
        "id": "n6cer5WPruYg"
      },
      "outputs": [],
      "source": [
        "a1[-1]"
      ]
    },
    {
      "cell_type": "code",
      "execution_count": null,
      "metadata": {
        "id": "534vgGa1rIgJ"
      },
      "outputs": [],
      "source": [
        "### Slicing\n",
        "a1[0:3]"
      ]
    },
    {
      "cell_type": "code",
      "execution_count": null,
      "metadata": {
        "id": "YULlKx0JrzNR"
      },
      "outputs": [],
      "source": [
        "a1[0:7:3]"
      ]
    },
    {
      "cell_type": "code",
      "execution_count": null,
      "metadata": {
        "id": "RpXQ4JCw3Kt2"
      },
      "outputs": [],
      "source": [
        "a1[::-1]"
      ]
    },
    {
      "cell_type": "markdown",
      "metadata": {
        "id": "Jodqv_eOxm2K"
      },
      "source": [
        "#### Matrices\n",
        "Y en el caso de las matrices, su utilización difiere a la de un dataframe, pero se asimila a otros lenguajes como C, C++ / Java"
      ]
    },
    {
      "cell_type": "code",
      "execution_count": null,
      "metadata": {
        "id": "ZO-G4oEByBrT"
      },
      "outputs": [],
      "source": [
        "npmatriz\n"
      ]
    },
    {
      "cell_type": "code",
      "execution_count": null,
      "metadata": {
        "id": "Mnnu0VoSx7Ts"
      },
      "outputs": [],
      "source": [
        "npmatriz.shape"
      ]
    },
    {
      "cell_type": "code",
      "execution_count": null,
      "metadata": {
        "id": "s-Mh3fNPvR6a"
      },
      "outputs": [],
      "source": [
        "npmatriz[2][1]"
      ]
    },
    {
      "cell_type": "code",
      "execution_count": null,
      "metadata": {
        "id": "i9azhBehnOBK"
      },
      "outputs": [],
      "source": [
        "npmatriz[::-1,::-1]"
      ]
    },
    {
      "cell_type": "markdown",
      "metadata": {
        "id": "8kgwntGVyGZt"
      },
      "source": [
        "Seleccionar los elementos de una columna: mediante `:` , o `...`"
      ]
    },
    {
      "cell_type": "code",
      "execution_count": null,
      "metadata": {
        "id": "PXkVKhemyJ66"
      },
      "outputs": [],
      "source": [
        "npmatriz[:,2]"
      ]
    },
    {
      "cell_type": "code",
      "execution_count": null,
      "metadata": {
        "id": "WPKcPojUx8gx"
      },
      "outputs": [],
      "source": [
        "npmatriz[...,2]"
      ]
    },
    {
      "cell_type": "markdown",
      "metadata": {
        "id": "2Qropzwi0MtT"
      },
      "source": [
        "Para acceder a columnas específicas o elementos en medio de un array, podemos hacer uso de la indexación numérica:"
      ]
    },
    {
      "cell_type": "code",
      "execution_count": null,
      "metadata": {
        "id": "dbcklspKz8MY"
      },
      "outputs": [],
      "source": [
        "npmatriz[:,1:2]"
      ]
    },
    {
      "cell_type": "markdown",
      "metadata": {
        "id": "y1bgg_ey65X_"
      },
      "source": [
        "#### Axis\n",
        "\n",
        "El concepto de eje `axis` en `np` es similar al de las matemáticas. El eje 0 se refiere a filas y el eje 1 a las columnas. Sin embargo, tenemos que pensar en la dirección en la que se produce la evaluación: por ejemplo, si axis=1, se evaluarán las columnas y, por tanto, podemos tener como resultado que se devuelva una fila entera. ![Captura de pantalla 2023-10-08 a las 17.32.01.png](data:image/png;base64,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)"
      ]
    },
    {
      "cell_type": "markdown",
      "metadata": {
        "id": "-f3NUf9Z3NeY"
      },
      "source": [
        "#### Mask\n",
        "También podemos realizar la selección de elementos en función de una máscara que codifica una condición.\n",
        "\n",
        "`Mask`  genera una matriz booleana del mismo tamaño que la matriz que queremos enmascarar, donde adquiere los valores True o False en función de una condición. A partir de esta condición, devolverá una matriz del tamaño resultante de aplicar la máscara sobre los elementos\n",
        "\n",
        "Por ejemplo, seleccionar los elementos de las **filas** en las que se cumpla la condución anterior para todos los elementos:"
      ]
    },
    {
      "cell_type": "code",
      "execution_count": null,
      "metadata": {
        "id": "a0Di5hWCCD5o"
      },
      "outputs": [],
      "source": [
        "mask = (npmatriz>2).all(axis = 1)\n",
        "mask"
      ]
    },
    {
      "cell_type": "code",
      "execution_count": null,
      "metadata": {
        "id": "Sxf6lCZS2xtu"
      },
      "outputs": [],
      "source": [
        "npmatriz[mask]"
      ]
    },
    {
      "cell_type": "markdown",
      "metadata": {
        "id": "GA4vdpbO3UYf"
      },
      "source": [
        "*Selección* de las filas en las que se cumpla la condución anterior para alguno de sus elementos:"
      ]
    },
    {
      "cell_type": "code",
      "execution_count": null,
      "metadata": {
        "id": "DsxuUdtyCJP0"
      },
      "outputs": [],
      "source": [
        "mask = (npmatriz>2).any(axis = 1) #\n",
        "mask"
      ]
    },
    {
      "cell_type": "code",
      "execution_count": null,
      "metadata": {
        "id": "9T8xy8hE3U5b"
      },
      "outputs": [],
      "source": [
        "npmatriz[mask]"
      ]
    },
    {
      "cell_type": "code",
      "execution_count": null,
      "metadata": {
        "id": "M4oiueT83gUY"
      },
      "outputs": [],
      "source": [
        "mask = (npmatriz>7).any(axis = 1)\n",
        "mask"
      ]
    },
    {
      "cell_type": "code",
      "execution_count": null,
      "metadata": {
        "id": "imsG0XynCV3j"
      },
      "outputs": [],
      "source": [
        "npmatriz[mask]"
      ]
    },
    {
      "cell_type": "markdown",
      "metadata": {
        "id": "pHrCTFHs1run"
      },
      "source": [
        "Lo mismo para columnas:\n",
        "\n"
      ]
    },
    {
      "cell_type": "code",
      "execution_count": null,
      "metadata": {
        "id": "JLeTR4DN1qe3"
      },
      "outputs": [],
      "source": [
        "mask = (npmatriz>7).all(axis=0)\n",
        "mask\n"
      ]
    },
    {
      "cell_type": "code",
      "execution_count": null,
      "metadata": {
        "id": "MT-Gb92UCT3D"
      },
      "outputs": [],
      "source": [
        "npmatriz[mask]"
      ]
    },
    {
      "cell_type": "markdown",
      "metadata": {
        "id": "KNoHKqtzCTnL"
      },
      "source": []
    },
    {
      "cell_type": "code",
      "execution_count": null,
      "metadata": {
        "id": "zrK3wE8I9ypD"
      },
      "outputs": [],
      "source": [
        "mask = (npmatriz>7).any(axis=0)\n",
        "mask"
      ]
    },
    {
      "cell_type": "code",
      "execution_count": null,
      "metadata": {
        "id": "IBoj-MLyCcRC"
      },
      "outputs": [],
      "source": [
        "npmatriz[mask]"
      ]
    },
    {
      "cell_type": "markdown",
      "metadata": {
        "id": "-GPz8yH6020B"
      },
      "source": [
        "### Cambio de orden de elementos\n",
        "Para cambiar el orden de los elementos en la matriz, se especifica el nuevo orden en el índice de la fila o columna, por ejemplo:"
      ]
    },
    {
      "cell_type": "code",
      "execution_count": null,
      "metadata": {
        "id": "UiZa88W802MY"
      },
      "outputs": [],
      "source": [
        "import copy\n",
        "copianpmatriz = copy.copy(npmatriz)"
      ]
    },
    {
      "cell_type": "code",
      "execution_count": null,
      "metadata": {
        "id": "FmF11OJ31QPw"
      },
      "outputs": [],
      "source": [
        "copianpmatriz"
      ]
    },
    {
      "cell_type": "code",
      "execution_count": null,
      "metadata": {
        "id": "mZgdJ3ax1V4S"
      },
      "outputs": [],
      "source": [
        "copianpmatriz[[2,0,1],:]"
      ]
    },
    {
      "cell_type": "code",
      "execution_count": null,
      "metadata": {
        "id": "LG8S5aHY1blR"
      },
      "outputs": [],
      "source": [
        "copianpmatriz[:,[2,1,0]]"
      ]
    },
    {
      "cell_type": "markdown",
      "metadata": {
        "id": "PIU-UEFesRbU"
      },
      "source": [
        "### Manipulación\n",
        "\n"
      ]
    },
    {
      "cell_type": "markdown",
      "metadata": {
        "id": "xbiQQCbnzCn3"
      },
      "source": [
        "Puedo cambiar la estructura de un array, especificando una nueva organización de filas y columnas, siempre que los datos lo permitan (`reshape`) o trasponer  (cambiar filas por columnas) un array (`traspose`)"
      ]
    },
    {
      "cell_type": "markdown",
      "metadata": {
        "id": "lRv2Ob_oa2TV"
      },
      "source": [
        "#### Reshape"
      ]
    },
    {
      "cell_type": "code",
      "execution_count": null,
      "metadata": {
        "id": "w4QptbvptD3q"
      },
      "outputs": [],
      "source": [
        "npmatriz.shape"
      ]
    },
    {
      "cell_type": "code",
      "execution_count": null,
      "metadata": {
        "id": "v9USE5hVzG4X"
      },
      "outputs": [],
      "source": [
        "npmatriz[0:2,0:2].reshape(1,4)"
      ]
    },
    {
      "cell_type": "markdown",
      "metadata": {
        "id": "pkobJwobzPAV"
      },
      "source": [
        "Para aplanar la matriz lo podemos hacer de dos formas:"
      ]
    },
    {
      "cell_type": "code",
      "execution_count": null,
      "metadata": {
        "id": "2FmlozGkt3dO"
      },
      "outputs": [],
      "source": [
        "#### reshape\n",
        "npmatriz.reshape(9,)"
      ]
    },
    {
      "cell_type": "markdown",
      "metadata": {
        "id": "uebsUYjUytx0"
      },
      "source": [
        "Es equivalente a:"
      ]
    },
    {
      "cell_type": "code",
      "execution_count": null,
      "metadata": {
        "id": "I4Hcl7JttLTM"
      },
      "outputs": [],
      "source": [
        "npmatriz.ravel()"
      ]
    },
    {
      "cell_type": "markdown",
      "metadata": {
        "id": "JccgoDFvuHqr"
      },
      "source": [
        "#### Transpose"
      ]
    },
    {
      "cell_type": "code",
      "execution_count": null,
      "metadata": {
        "id": "Tys9H-2NsqQT"
      },
      "outputs": [],
      "source": [
        "\n",
        "t = npmatriz.transpose()"
      ]
    },
    {
      "cell_type": "code",
      "execution_count": null,
      "metadata": {
        "id": "W0gIC6fGt9kO"
      },
      "outputs": [],
      "source": [
        "t.reshape(1,9).transpose()"
      ]
    },
    {
      "cell_type": "code",
      "execution_count": null,
      "metadata": {
        "id": "vR9JeYtkNSPE"
      },
      "outputs": [],
      "source": [
        "t.reshape(1,9).ravel()"
      ]
    },
    {
      "cell_type": "code",
      "execution_count": null,
      "metadata": {
        "id": "MIFppGsGNX4p"
      },
      "outputs": [],
      "source": [
        "t.transpose().reshape(1,9)"
      ]
    },
    {
      "cell_type": "code",
      "execution_count": null,
      "metadata": {
        "id": "tBuXKZN0NhiT"
      },
      "outputs": [],
      "source": [
        "t.transpose().reshape(9)"
      ]
    },
    {
      "cell_type": "code",
      "execution_count": null,
      "metadata": {
        "id": "gBEZBFAwNu7h"
      },
      "outputs": [],
      "source": [
        "t.transpose()"
      ]
    },
    {
      "cell_type": "code",
      "execution_count": null,
      "metadata": {
        "id": "wGLbw0MTNxnN"
      },
      "outputs": [],
      "source": [
        "t.transpose().ravel().transpose()"
      ]
    },
    {
      "cell_type": "code",
      "execution_count": null,
      "metadata": {
        "id": "ePORdqMPN4xL"
      },
      "outputs": [],
      "source": [
        "type(npmatriz)"
      ]
    },
    {
      "cell_type": "code",
      "execution_count": null,
      "metadata": {
        "id": "Sh0EiSuyN9qm"
      },
      "outputs": [],
      "source": [
        "type(t.transpose())"
      ]
    },
    {
      "cell_type": "code",
      "execution_count": null,
      "metadata": {
        "id": "S4hk80g0OEde"
      },
      "outputs": [],
      "source": [
        " t.flatten()[:,np.newaxis]"
      ]
    },
    {
      "cell_type": "markdown",
      "metadata": {
        "id": "YTNwYAFhFJM1"
      },
      "source": [
        "#### Split\n",
        "\n",
        "Se puede subdividir un array en otros arrays mediante `np.split`"
      ]
    },
    {
      "cell_type": "code",
      "execution_count": null,
      "metadata": {
        "id": "ExZnHR9sFIvm"
      },
      "outputs": [],
      "source": [
        "division = np.split(t,3)\n",
        "division"
      ]
    },
    {
      "cell_type": "code",
      "execution_count": null,
      "metadata": {
        "id": "3aw_LIckFsDj"
      },
      "outputs": [],
      "source": [
        "type(division)"
      ]
    },
    {
      "cell_type": "markdown",
      "metadata": {
        "id": "3dbeaUUee3u-"
      },
      "source": [
        "## Comparación\n",
        "\n",
        "`Numpy` permite realizar comparación entre arrays elemento por elemento:\n"
      ]
    },
    {
      "cell_type": "code",
      "execution_count": null,
      "metadata": {
        "id": "jhj4PZUee3Io"
      },
      "outputs": [],
      "source": [
        "np.array([1,2,3])==np.array([1,2,2])"
      ]
    },
    {
      "cell_type": "code",
      "execution_count": null,
      "metadata": {
        "id": "bgBlqzoofNvY"
      },
      "outputs": [],
      "source": [
        "np.array([1,2,3])>np.array([1,2,2])"
      ]
    },
    {
      "cell_type": "code",
      "execution_count": null,
      "metadata": {
        "id": "pYTsx13FmuVe"
      },
      "outputs": [],
      "source": [
        "np.array_equal(np.array([1,2,3]),  np.array([1,2,2]))\n",
        "## igual en valores y forma"
      ]
    },
    {
      "cell_type": "markdown",
      "metadata": {
        "id": "j7iIp-9cGbRB"
      },
      "source": [
        "## Búsqueda de elementos\n",
        "\n",
        "np.where devuelve en forma de array el índice donde está almacenado el elemento a buscar. La sintaxis es np.where (<condicion>)"
      ]
    },
    {
      "cell_type": "code",
      "execution_count": null,
      "metadata": {
        "id": "7xJnvrtyGakw"
      },
      "outputs": [],
      "source": [
        "array = np.linspace(0,10,5)\n",
        "array"
      ]
    },
    {
      "cell_type": "code",
      "execution_count": null,
      "metadata": {
        "id": "-UMyILsMGhFW"
      },
      "outputs": [],
      "source": [
        "np.where(array==2.5)"
      ]
    },
    {
      "cell_type": "code",
      "execution_count": null,
      "metadata": {
        "id": "JlIQrgQBG5Zb"
      },
      "outputs": [],
      "source": [
        "np.where(array<6)"
      ]
    },
    {
      "cell_type": "markdown",
      "metadata": {
        "id": "LceuJPlA8AKv"
      },
      "source": [
        "## Actualización de elementos basados en condiciones\n",
        "\n",
        "`np.where` nos permite realizar una actualización de los valores de un array basado en una condición:"
      ]
    },
    {
      "cell_type": "code",
      "execution_count": null,
      "metadata": {
        "id": "v48Vuoqk8SYu"
      },
      "outputs": [],
      "source": [
        "a = np.array([2, 4, 3, 7, 1, 2, 6, 3])\n",
        "a"
      ]
    },
    {
      "cell_type": "code",
      "execution_count": null,
      "metadata": {
        "id": "pdBUkvfzPfhM"
      },
      "outputs": [],
      "source": [
        "np.where(a < 4, -1, a)"
      ]
    },
    {
      "cell_type": "markdown",
      "metadata": {
        "id": "EWZ7y056JHqU"
      },
      "source": [
        "## Ordenación"
      ]
    },
    {
      "cell_type": "code",
      "execution_count": null,
      "metadata": {
        "id": "BvieeX-NJK4b"
      },
      "outputs": [],
      "source": [
        "np.sort(np.array([4,1,6,10,2]))"
      ]
    },
    {
      "cell_type": "code",
      "execution_count": null,
      "metadata": {
        "id": "HELf2nDIJWu0"
      },
      "outputs": [],
      "source": [
        "np.sort(np.array(([4,1,6,10,2],[9,2,1,6,3])))"
      ]
    },
    {
      "cell_type": "code",
      "execution_count": null,
      "metadata": {
        "id": "30mx9wgEJyj2"
      },
      "outputs": [],
      "source": [
        "np.sort(np.array(([4,1,6,10,2],[9,2,1,6,3])),axis=0) # Elementos a nivel de columna"
      ]
    },
    {
      "cell_type": "code",
      "execution_count": null,
      "metadata": {
        "id": "kniOXh8a-qZt"
      },
      "outputs": [],
      "source": [
        "np.sort(np.array(([4,1,6,10,2],[9,2,1,6,3])),axis=1) # Elementos a nivel de fila"
      ]
    },
    {
      "cell_type": "markdown",
      "metadata": {
        "id": "S9Avds52V5sJ"
      },
      "source": [
        "## Random\n",
        "\n",
        "Numpy permite generar arrays de números aleatorios:\n"
      ]
    },
    {
      "cell_type": "markdown",
      "metadata": {
        "id": "2M_NTaAZb63Q"
      },
      "source": [
        "\n",
        "### rand\n",
        "Crea un array de una dimensión predeterminada. Los valores son aleatorios en el intervalo ``[0,1``)\n"
      ]
    },
    {
      "cell_type": "code",
      "execution_count": null,
      "metadata": {
        "id": "HG_RE1wIV5sJ"
      },
      "outputs": [],
      "source": [
        "np.random.rand(5)\n"
      ]
    },
    {
      "cell_type": "code",
      "execution_count": null,
      "metadata": {
        "id": "M2u5-E5kV5sJ"
      },
      "outputs": [],
      "source": [
        "np.random.rand(3,2)"
      ]
    },
    {
      "cell_type": "markdown",
      "metadata": {
        "id": "Fwy1FY7cV5sJ"
      },
      "source": [
        "### randn\n",
        "\n",
        "Similar a rand, pero obtiene los datos de una distribución normal."
      ]
    },
    {
      "cell_type": "code",
      "execution_count": null,
      "metadata": {
        "id": "-UwF5bWEV5sK"
      },
      "outputs": [],
      "source": [
        "np.random.randn(2)"
      ]
    },
    {
      "cell_type": "code",
      "execution_count": null,
      "metadata": {
        "id": "7Xa7XmRwV5sK"
      },
      "outputs": [],
      "source": [
        "np.random.randn(9,2)"
      ]
    },
    {
      "cell_type": "markdown",
      "metadata": {
        "id": "AvvrQxF-V5sK"
      },
      "source": [
        "### randint\n",
        "Genera aleatorios comprendidos entre los índices inferior y superior"
      ]
    },
    {
      "cell_type": "code",
      "execution_count": null,
      "metadata": {
        "id": "YTyZADLtV5sK"
      },
      "outputs": [],
      "source": [
        "np.random.randint(1,100)"
      ]
    },
    {
      "cell_type": "code",
      "execution_count": null,
      "metadata": {
        "id": "TcyB9TACV5sM"
      },
      "outputs": [],
      "source": [
        "np.random.randint(1,100,10)"
      ]
    },
    {
      "cell_type": "markdown",
      "metadata": {
        "id": "pMlvFrlOV5sO"
      },
      "source": [
        "## Funciones de agregación\n"
      ]
    },
    {
      "cell_type": "markdown",
      "metadata": {
        "id": "yyi_SI-0cGsC"
      },
      "source": [
        "\n",
        "### max,min,argmax,argmin\n",
        "\n",
        "Máximos, mínimos y sus posiciones dentro del array"
      ]
    },
    {
      "cell_type": "code",
      "execution_count": null,
      "metadata": {
        "id": "5aOmqyWgV5sO"
      },
      "outputs": [],
      "source": [
        "ranarr   =  np.random.randint(1,100,10)\n",
        "ranarr"
      ]
    },
    {
      "cell_type": "code",
      "execution_count": null,
      "metadata": {
        "id": "1kontgi8V5sO"
      },
      "outputs": [],
      "source": [
        "ranarr.max()"
      ]
    },
    {
      "cell_type": "code",
      "execution_count": null,
      "metadata": {
        "id": "JELQHeRBV5sO"
      },
      "outputs": [],
      "source": [
        "ranarr.argmax()"
      ]
    },
    {
      "cell_type": "code",
      "execution_count": null,
      "metadata": {
        "id": "UNV0q4XQV5sP"
      },
      "outputs": [],
      "source": [
        "ranarr.min()"
      ]
    },
    {
      "cell_type": "markdown",
      "metadata": {
        "id": "3I0uHDc1n0q8"
      },
      "source": [
        "### sum, mean, median, cumsum, corr\n"
      ]
    },
    {
      "cell_type": "code",
      "execution_count": null,
      "metadata": {
        "id": "RCWx7qeNnzE8"
      },
      "outputs": [],
      "source": [
        "ranarr.sum()"
      ]
    },
    {
      "cell_type": "code",
      "execution_count": null,
      "metadata": {
        "id": "J2yisdCOoG0A"
      },
      "outputs": [],
      "source": [
        "ranarr.mean()"
      ]
    },
    {
      "cell_type": "markdown",
      "metadata": {
        "id": "_nTWPbw0fMyo"
      },
      "source": [
        "## Funciones universales ufunc\n",
        "\n",
        "Son funciones que operan **sobre arrays elemento por elemento**. Muchas de estas funciones tienen sus correspondientes operadores sobrecargados. Por otro lado, los arrays de NumPy no se comportan como matrices en álgebra lineal de manera predeterminada. Esta es una característica bastante útil, ya que se pueden eliminar las operaciones en bucle para mejorar la eficiencia. Pero ¿qué sucede cuando se necesitan transposiciones o producto interno? Sin recurrir a otras clases, puedes utilizar las funciones incorporadas numpy.dot y numpy.transpose para realizar tales operaciones. La sintaxis es propia de Python, por lo que es intuitiva para programar. Vamos a ver algunos ejemplos:"
      ]
    },
    {
      "cell_type": "code",
      "execution_count": null,
      "metadata": {
        "id": "QyV_UeU6fi4L"
      },
      "outputs": [],
      "source": [
        "arr1 = np.linspace(0,12,6)\n",
        "arr2 = np.arange(0,18,3)"
      ]
    },
    {
      "cell_type": "code",
      "execution_count": null,
      "metadata": {
        "id": "VAcaPnsofqH8"
      },
      "outputs": [],
      "source": [
        "arr1"
      ]
    },
    {
      "cell_type": "code",
      "execution_count": null,
      "metadata": {
        "id": "vi25tYHFfuuM"
      },
      "outputs": [],
      "source": [
        "arr2"
      ]
    },
    {
      "cell_type": "markdown",
      "metadata": {
        "id": "bWAh_UV5glp7"
      },
      "source": [
        "### multiply"
      ]
    },
    {
      "cell_type": "code",
      "execution_count": null,
      "metadata": {
        "id": "wHirGTR1glLD"
      },
      "outputs": [],
      "source": [
        "np.multiply(arr1,arr2)"
      ]
    },
    {
      "cell_type": "code",
      "execution_count": null,
      "metadata": {
        "id": "2WOdoKkfnUmA"
      },
      "outputs": [],
      "source": [
        "arr1 * arr2"
      ]
    },
    {
      "cell_type": "markdown",
      "metadata": {
        "id": "UVWJCQiZhI1y"
      },
      "source": [
        "### divide"
      ]
    },
    {
      "cell_type": "code",
      "execution_count": null,
      "metadata": {
        "id": "Nhcz8p7GhIXc"
      },
      "outputs": [],
      "source": [
        "\n",
        "a = np.array([1,2,3])\n",
        "b = np.array ([4,5,6])"
      ]
    },
    {
      "cell_type": "code",
      "execution_count": null,
      "metadata": {
        "id": "Ln5BbTcOfvMr"
      },
      "outputs": [],
      "source": [
        "a.dtype"
      ]
    },
    {
      "cell_type": "code",
      "execution_count": null,
      "metadata": {
        "id": "8Bf3CYZDhVvY"
      },
      "outputs": [],
      "source": [
        "b.dtype"
      ]
    },
    {
      "cell_type": "code",
      "execution_count": null,
      "metadata": {
        "id": "Kk5PhOcDiDaY"
      },
      "outputs": [],
      "source": [
        "np.divide(a,b)"
      ]
    },
    {
      "cell_type": "code",
      "execution_count": null,
      "metadata": {
        "id": "m9_rtCiFiEeJ"
      },
      "outputs": [],
      "source": [
        "a / b"
      ]
    },
    {
      "cell_type": "markdown",
      "metadata": {
        "id": "_R35M2uTj53s"
      },
      "source": [
        "### mod"
      ]
    },
    {
      "cell_type": "code",
      "execution_count": null,
      "metadata": {
        "id": "yoFaIxjJj5eb"
      },
      "outputs": [],
      "source": [
        "np.mod(b,a)"
      ]
    },
    {
      "cell_type": "code",
      "execution_count": null,
      "metadata": {
        "id": "mGOYZI1ynfwk"
      },
      "outputs": [],
      "source": [
        "b % a"
      ]
    },
    {
      "cell_type": "markdown",
      "metadata": {
        "id": "b8_bHF44kIu2"
      },
      "source": [
        "### power"
      ]
    },
    {
      "cell_type": "code",
      "execution_count": null,
      "metadata": {
        "id": "4AWrDuuZkIPb"
      },
      "outputs": [],
      "source": [
        "np.power(a,b)"
      ]
    },
    {
      "cell_type": "code",
      "execution_count": null,
      "metadata": {
        "id": "A1SMjKXjnkFF"
      },
      "outputs": [],
      "source": [
        "a**b"
      ]
    },
    {
      "cell_type": "markdown",
      "metadata": {
        "id": "wTlXBk3SkN9W"
      },
      "source": [
        "### subtract"
      ]
    },
    {
      "cell_type": "code",
      "execution_count": null,
      "metadata": {
        "id": "S0ePJMN5nwli"
      },
      "outputs": [],
      "source": [
        "a-b"
      ]
    },
    {
      "cell_type": "code",
      "execution_count": null,
      "metadata": {
        "id": "Gx7cfmlaiGha"
      },
      "outputs": [],
      "source": [
        "np.subtract(a,b)"
      ]
    },
    {
      "cell_type": "markdown",
      "metadata": {
        "id": "qqEGpgEZkq2I"
      },
      "source": [
        "### add"
      ]
    },
    {
      "cell_type": "code",
      "execution_count": null,
      "metadata": {
        "id": "waZMB7eGkkoK"
      },
      "outputs": [],
      "source": [
        "np.add(a,b)"
      ]
    },
    {
      "cell_type": "code",
      "execution_count": null,
      "metadata": {
        "id": "MT-tLAiJkwiY"
      },
      "outputs": [],
      "source": [
        "a + b"
      ]
    },
    {
      "cell_type": "markdown",
      "metadata": {
        "id": "9Cwxc_MoAoQr"
      },
      "source": [
        "Vamos a ver algunos ejemplos con matrices:"
      ]
    },
    {
      "cell_type": "code",
      "execution_count": null,
      "metadata": {
        "id": "1v6e1YQLKg4G"
      },
      "outputs": [],
      "source": [
        "npmatriz"
      ]
    },
    {
      "cell_type": "code",
      "execution_count": null,
      "metadata": {
        "id": "eKKniMqaKqSa"
      },
      "outputs": [],
      "source": [
        "npmatriz2 = np.array([[1, 2, 3,4], [4, 3, 2,3], [1,5, 6, 8]])\n"
      ]
    },
    {
      "cell_type": "markdown",
      "metadata": {
        "id": "05nvzbm-LRdl"
      },
      "source": [
        "Como se realiza elemento por elemento, el producto de matrices no funcionará. Pero sí el producto interno mediante `np.dot`"
      ]
    },
    {
      "cell_type": "code",
      "execution_count": null,
      "metadata": {
        "id": "OAzr6E42K0CL"
      },
      "outputs": [],
      "source": [
        "npmatriz * npmatriz2"
      ]
    },
    {
      "cell_type": "markdown",
      "metadata": {
        "id": "9UxZfB7OLOrn"
      },
      "source": [
        "Producto interno de matrices:"
      ]
    },
    {
      "cell_type": "code",
      "execution_count": null,
      "metadata": {
        "id": "9_EljvQZLA6v"
      },
      "outputs": [],
      "source": [
        "np.dot(npmatriz,npmatriz2)"
      ]
    },
    {
      "cell_type": "markdown",
      "metadata": {
        "id": "TbZJ7w2wAoNE"
      },
      "source": [
        "#### Funciones robustas frentes a valores NaN:\n",
        "\n",
        "`np.nansum`, `np.nanprod`, etc...\n",
        "\n",
        "Estas funciones, a parte, son mucho más eficientes que sus correspondientes funciones."
      ]
    },
    {
      "cell_type": "markdown",
      "metadata": {
        "id": "k44zSZFOAn6V"
      },
      "source": [
        "## Broadcasting\n",
        "\n",
        "Broadcasting es una estrategia de numpy para operar con arrays mutidimensionles de diferentes\n",
        "dimensiones. Por ejemplo, si tenemos una matriz y un vector fila, la operación add sumará el vector fila a cada una de las filas de la matriz, como podemos ver en el siguiente ejemplo:\n",
        "\n"
      ]
    },
    {
      "cell_type": "code",
      "execution_count": null,
      "metadata": {
        "id": "gSzknDN1BvGd"
      },
      "outputs": [],
      "source": [
        "x = np.array([[1, 2, 3, 4], [4, 3, 2, 1], [5, 6, 7, 8]])\n",
        "f = np.array([1, 0, 0, 1])\n",
        "x + f"
      ]
    },
    {
      "cell_type": "code",
      "execution_count": null,
      "metadata": {
        "id": "9HkY1RkKB3KU"
      },
      "outputs": [],
      "source": [
        "# Lo mismo podemos hacer con un vector columna\n",
        "c = np.array([[2], [0], [1]])\n",
        "x + c"
      ]
    },
    {
      "cell_type": "markdown",
      "metadata": {
        "id": "OOMzmmAtB1vS"
      },
      "source": [
        "Pero existen ciertas limitaciones. A modo de regla básica, podemos establecer que uno de los arrays, en caso de tener dimensiones diferentes, tenga una única fila o columna. Por ejemplo:"
      ]
    },
    {
      "cell_type": "code",
      "execution_count": null,
      "metadata": {
        "id": "b1S6xY-kEvVh"
      },
      "outputs": [],
      "source": [
        "matriz2 = x + f +c\n",
        "matriz2"
      ]
    },
    {
      "cell_type": "code",
      "execution_count": null,
      "metadata": {
        "id": "x1UaNo_sE5xQ"
      },
      "outputs": [],
      "source": [
        "npmatriz"
      ]
    },
    {
      "cell_type": "code",
      "execution_count": null,
      "metadata": {
        "id": "WacySMweE7wG"
      },
      "outputs": [],
      "source": [
        "npmatriz + matriz2"
      ]
    },
    {
      "cell_type": "markdown",
      "metadata": {
        "id": "V0KQsQ9tFp8_"
      },
      "source": [
        "Si tiene dimensión 1, la otra dimensión debe coincidir con la de la fila o columa"
      ]
    },
    {
      "cell_type": "code",
      "execution_count": null,
      "metadata": {
        "id": "V0TF_ftgE-w9"
      },
      "outputs": [],
      "source": [
        "a1 = np.array([[ 2,1,9],\n",
        "              [12,1,20],\n",
        "              [30,1,2],\n",
        "              ])\n",
        "a2 = np.array([[1,2,3,4]])\n",
        "a1+a2"
      ]
    },
    {
      "cell_type": "code",
      "execution_count": null,
      "metadata": {
        "id": "ehcUA9QyF6gh"
      },
      "outputs": [],
      "source": [
        "a1 = np.array([[ 2,1,9],\n",
        "              [12,1,20],\n",
        "              [30,1,2],\n",
        "              [10,10,10]])\n",
        "a2 = np.array([[1,2,3,4]])\n",
        "a1+a2.transpose()"
      ]
    },
    {
      "cell_type": "markdown",
      "metadata": {
        "id": "SgNJDYNEjasb"
      },
      "source": [
        "Otro ejemplo:"
      ]
    },
    {
      "cell_type": "code",
      "execution_count": null,
      "metadata": {
        "id": "LYDbHxrhbzTG"
      },
      "outputs": [],
      "source": [
        "a = np.arange(3).reshape((3, 1))\n",
        "b = np.arange(3)\n",
        "b = b.reshape((1,3))\n",
        "ones = np.ones((1,3))\n",
        "\n",
        "ones2 = np.ones((1,3))\n",
        "\n",
        "np.concatenate((b,ones,ones2))\n",
        "a+b"
      ]
    },
    {
      "cell_type": "code",
      "execution_count": null,
      "metadata": {
        "id": "JYujvAwAdLjf"
      },
      "outputs": [],
      "source": [
        "a"
      ]
    },
    {
      "cell_type": "code",
      "execution_count": null,
      "metadata": {
        "id": "y6cnf2p0RC_f"
      },
      "outputs": [],
      "source": [
        "b"
      ]
    },
    {
      "cell_type": "markdown",
      "metadata": {
        "id": "YG5L2GwCB6it"
      },
      "source": [
        "## Combinación de arrays"
      ]
    },
    {
      "cell_type": "markdown",
      "metadata": {
        "id": "kvC_dYx3B-L8"
      },
      "source": [
        "### concatenate\n",
        "\n"
      ]
    },
    {
      "cell_type": "code",
      "execution_count": null,
      "metadata": {
        "id": "v3Zr0IsZB8ri"
      },
      "outputs": [],
      "source": [
        "np.concatenate((a.transpose(),b))"
      ]
    },
    {
      "cell_type": "markdown",
      "metadata": {
        "id": "VV41l4EQDD6D"
      },
      "source": [
        "Vamos a trabajar sobre matrices"
      ]
    },
    {
      "cell_type": "code",
      "execution_count": null,
      "metadata": {
        "id": "x8GU9NiXDDEd"
      },
      "outputs": [],
      "source": [
        "matriza = np.random.randint(1,10,(2,4))\n",
        "matrizb = np.random.randint(1,10,(2,4))"
      ]
    },
    {
      "cell_type": "code",
      "execution_count": null,
      "metadata": {
        "id": "KXtL92TkC-YM"
      },
      "outputs": [],
      "source": [
        "matriza"
      ]
    },
    {
      "cell_type": "code",
      "execution_count": null,
      "metadata": {
        "id": "9qyw6wVdDAtA"
      },
      "outputs": [],
      "source": [
        "matrizb"
      ]
    },
    {
      "cell_type": "code",
      "execution_count": null,
      "metadata": {
        "id": "o94sfm-wDSEv"
      },
      "outputs": [],
      "source": [
        "np.concatenate((matriza,matrizb),axis=0) #concatenar - apilar - filas"
      ]
    },
    {
      "cell_type": "code",
      "execution_count": null,
      "metadata": {
        "id": "prpSUwz5DVZo"
      },
      "outputs": [],
      "source": [
        "np.concatenate((matriza,matrizb),axis=1) # concatenar columnas"
      ]
    },
    {
      "cell_type": "markdown",
      "metadata": {
        "id": "CrxJgMtnDw02"
      },
      "source": [
        "### stack\n",
        "\n",
        "Concatena sobre un nuevo eje, es decir, si tenemos dos arrays de una dimensión apila los dos arrays. Si tenemos dos matrices, da como resultado un cubo."
      ]
    },
    {
      "cell_type": "code",
      "execution_count": null,
      "metadata": {
        "id": "kltpxoOCDYkh"
      },
      "outputs": [],
      "source": [
        "np.stack((matriza,matrizb))"
      ]
    },
    {
      "cell_type": "code",
      "execution_count": null,
      "metadata": {
        "id": "Wob4v1O1RQpV"
      },
      "outputs": [],
      "source": [
        "np.stack((matriza,matrizb)).shape"
      ]
    },
    {
      "cell_type": "code",
      "execution_count": null,
      "metadata": {
        "id": "CLkR_IJnD09K"
      },
      "outputs": [],
      "source": [
        "matriza.shape"
      ]
    },
    {
      "cell_type": "code",
      "execution_count": null,
      "metadata": {
        "id": "WXL1X5XGEXzS"
      },
      "outputs": [],
      "source": [
        "np.stack((matriza,matrizb))"
      ]
    },
    {
      "cell_type": "markdown",
      "metadata": {
        "id": "S6ZPda4xGMXd"
      },
      "source": [
        "# Ejercicios básicos\n"
      ]
    },
    {
      "cell_type": "code",
      "execution_count": null,
      "metadata": {
        "id": "mUN4HpNcfGDJ"
      },
      "outputs": [],
      "source": [
        "## Ejercicio: crea una matriz de 3x3 con valores entre 0 y 10\n",
        "\n"
      ]
    },
    {
      "cell_type": "code",
      "execution_count": null,
      "metadata": {
        "id": "oq-e1pG5fjEq"
      },
      "outputs": [],
      "source": [
        "## np.nonzero. Estudia su función con np.nonzero([0,1,2,0,1,0])\n",
        "\n",
        "\n"
      ]
    },
    {
      "cell_type": "code",
      "execution_count": null,
      "metadata": {
        "id": "76yO7X2MhfGI"
      },
      "outputs": [],
      "source": [
        "## Haz un mask equivalente"
      ]
    },
    {
      "cell_type": "code",
      "execution_count": null,
      "metadata": {
        "id": "A-xgmRYNhRvC"
      },
      "outputs": [],
      "source": [
        "## calcular la media de un vector aleatorio\n"
      ]
    },
    {
      "cell_type": "code",
      "execution_count": null,
      "metadata": {
        "id": "ni6hIL0Yhz9Q"
      },
      "outputs": [],
      "source": [
        "## Multiplica dos matrices: usando np.dot y *\n",
        "\n",
        "\n",
        "\n"
      ]
    },
    {
      "cell_type": "code",
      "execution_count": null,
      "metadata": {
        "id": "I8CEhgoqipZp"
      },
      "outputs": [],
      "source": [
        "## Define un generador y utilízalo para crear una matriz.\n",
        "## Nota: usa np.fromiter()\n"
      ]
    },
    {
      "cell_type": "markdown",
      "metadata": {
        "id": "8HwbV3p33AJ7"
      },
      "source": [
        "# Ejercicio CNN: Max Pooling\n",
        "\n",
        "Pooling es una técnica utilizada en Redes Neuronales Convolucionales para reducir la dimensionalidad manteniendo o conservando información relevante (típicamente, de una imagen).\n",
        "\n",
        "Suponiendo que el array que nos llega está en formato matriz, una operación `Max Pooling` agrega información por secciones de la matriz, generando otra matriz de una dimensión inferior a partir del máximo de la sección que está siendo analizada en la matriz principal.\n",
        "\n",
        "Los parámetros que necesitamos saber son:\n",
        "1. Tamaño del filtro (por ejemplo, un tamaño de filtro 2 se refiere a una matriz 2x2)\n",
        "2. Desplazamiento\n",
        "\n",
        "De este modo, la dimensión de salida se puede calcular como:\n",
        "\n",
        "    output_height = (input_height - pool_size) // stride + 1\n",
        "\n",
        "    output_width = (input_width - pool_size) // stride + 1\n",
        "\n",
        "Suponiendo que tenemos una matriz 4x4, y el tamaño de filtro es 2 con un stride de 0, el tamaño de la matriz será 2x2\n",
        "Si, por el contrario, el stride es de 1, la dimensión será 3x3\n",
        "\n",
        "\n",
        "Implementar con numpy la operación MaxPooling."
      ]
    },
    {
      "cell_type": "markdown",
      "metadata": {
        "id": "T2ensgioMAiM"
      },
      "source": [
        "# Bonus\n",
        "\n",
        "`SciPy` es un módulo de Python que nos permite realizar operaciones de cálculo numérico, optimización y estadística.\n",
        "\n",
        "A modo ilustrativo, vamos a ver cómo podríamos utilizar los test estadísticos en un caso real de aprendizaje supervisado\n"
      ]
    },
    {
      "cell_type": "code",
      "execution_count": null,
      "metadata": {
        "id": "1IRfe7y6MALR"
      },
      "outputs": [],
      "source": [
        "import numpy as np\n",
        "from scipy import stats\n",
        "#Generamos una distribución normal con 100 elementos\n",
        "sample = np.random.randn(100)\n",
        "# Vamos a comprobar si nuestra distribución sigue una normal\n",
        "out = stats.normaltest(sample)\n",
        "print('normaltest output')\n",
        "print('Z-score = ' + str(out[0]))\n",
        "print('P-value = ' + str(out[1]))\n",
        "\n",
        "# kstest es el test  Kolmogorov-Smirnov para comprobar si la distribución se parece a una dada.\n",
        "# Vamos a comprobar si es una distribución normal\n",
        "# D es el estadístico KS y cuanto más cercano a 0, mejor.\n",
        "\n",
        "out = stats.kstest(sample, 'norm')\n",
        "\n",
        "print('\\nkstest output for the Normal distribution')\n",
        "print('D = ' + str(out[0]))\n",
        "print('P-value = ' + str(out[1]))\n",
        "\n"
      ]
    },
    {
      "cell_type": "markdown",
      "metadata": {
        "id": "77iL6gzAoM4w"
      },
      "source": [
        "Fijaos, como el p valor es superior a 0.05, no podemos rechazar la hipótesis nula, por tanto podemos asumir que sigue una distribución normal."
      ]
    },
    {
      "cell_type": "markdown",
      "metadata": {
        "id": "wt_GLLqzMc3z"
      },
      "source": [
        "### Vamos a realizar un ejercicio práctico: comparación estadística de resultados de varios clasificadores\n",
        "\n",
        "Queremos comparar los *scorings* obtenidos por varios modelos de aprendizaje supervisado, y comprobar si se comportan de forma similar. Normalmente necesitaríamos más datos, pero nos servirá como ejemplo.\n",
        "\n",
        "La estructura de los resultados sería como sigue:\n",
        "\n",
        "|Ejecucion|\tKNN1|\tNaiveBayes|\n",
        "|--------|----:|----------:|\n",
        "| \t1 \t|0.8144| \t0.7797|\n",
        "|2 \t|0.8173 \t|0.7739|\n",
        "| \t3 \t|0.8260 |\t0.7724|\n",
        "| \t4 \t|0.8231 |\t0.7797\n",
        "| \t5 \t|0.8130 |\t0.7739\n",
        "| \t6 \t|0.8203 |\t0.7797\n",
        "| \t7 \t|0.8203 |\t0.7768\n",
        "| \t8 \t|0.8043 |\t0.7811\n",
        "| \t9 \t|0.8072 |\t0.7811|\n",
        "\t10 \t|0.8231 |\t0.7811\n",
        "\t11 \t|0.8188 |\t0.7768\n",
        "\t12 \t|0.8159 |\t0.7710\n",
        "\t13 \t|0.7985 |\t0.7753\n",
        "\t14 \t|0.8188 |\t0.7811\n",
        "\t15 \t|0.8101| \t0.7768\n",
        "\n",
        "\n",
        "....\n",
        "\n",
        "\n"
      ]
    },
    {
      "cell_type": "code",
      "execution_count": null,
      "metadata": {
        "id": "wCL0VQzXMbwj"
      },
      "outputs": [],
      "source": [
        "knn1 = np.array([0.8144\t,0.8173\t,0.8260\t,0.8231\t,0.8130\t,0.8203\t,0.8203\t,0.8043\t,0.8072\t,0.8231\t,0.8188\t,0.8159\t,0.7985\t,0.8188\t,0.8101])\n",
        "naivebayes = np.array([0.7797\t,0.7739\t,0.7724\t,0.7797\t,0.7739\t,0.7797\t,0.7768\t,0.7811\t,0.7811\t,0.7811\t,0.7768\t,0.7710\t,0.7753\t,0.7811\t,0.7768])\n"
      ]
    },
    {
      "cell_type": "code",
      "execution_count": null,
      "metadata": {
        "id": "Eoz1jf63Mb1P"
      },
      "outputs": [],
      "source": [
        "\n",
        "\n",
        "## 1º comprobamos normalidad de ambos resultados\n",
        "outknn = stats.normaltest(knn1)\n",
        "outnb = stats.normaltest(naivebayes)\n",
        "print('normaltest output for KNN1')\n",
        "print('P-value = ' + str(outknn[1]))\n",
        "print('---------------------------------------')\n",
        "print('normaltest output for Naive Bayes')\n",
        "print('P-value = ' + str(outnb[1]))"
      ]
    },
    {
      "cell_type": "code",
      "execution_count": null,
      "metadata": {
        "id": "T5tl4T1bEQwe"
      },
      "outputs": [],
      "source": [
        "## En este caso, p>0.05 por tanto podemos aceptar la hipótesis nula  y concluimos que los resultados obtenidos de ambos clasificadores siguen una distribución normal\n",
        "\n",
        "## Dado que podemos asumir que ambas muestras siguen una normal, podemos aplicar un test paramétrico.\n",
        "## Por este motivo, aplicaremos test basado en la distribución t-student para muestras pareadas.En este caso, la hipótesis nula,\n",
        "## es que no existe una diferencia real entre ambas muestras, siendo el p-valor la probabilidad de rechazar erróneamente H0.\n",
        "# #Como se puede observar p<<5%, por tanto, si existe una diferencia real entre los resultados obtenidos de ambos clasificadores, esto es, no se comportan de forma similar.\n",
        "\n",
        "\n",
        "outt = stats.ttest_ind(naivebayes,knn1)\n",
        "print('normaltest output for t-test')\n",
        "print('P-value = ' + str(outt[1]))\n",
        "print('---------------------------------------')"
      ]
    }
  ],
  "metadata": {
    "anaconda-cloud": {},
    "colab": {
      "provenance": [],
      "toc_visible": true
    },
    "kernelspec": {
      "display_name": "Python [default]",
      "language": "python",
      "name": "python3"
    },
    "language_info": {
      "codemirror_mode": {
        "name": "ipython",
        "version": 3
      },
      "file_extension": ".py",
      "mimetype": "text/x-python",
      "name": "python",
      "nbconvert_exporter": "python",
      "pygments_lexer": "ipython3",
      "version": "3.5.2"
    }
  },
  "nbformat": 4,
  "nbformat_minor": 0
}
